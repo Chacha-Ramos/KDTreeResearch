{
 "cells": [
  {
   "cell_type": "code",
   "outputs": [],
   "source": [
    "import requests\n",
    "from bs4 import BeautifulSoup\n",
    "from datetime import timedelta, date\n",
    "import pandas as pd\n",
    "from io import StringIO\n",
    "import time"
   ],
   "metadata": {
    "collapsed": false
   },
   "id": "d6ad8b7d7b8ed771",
   "execution_count": null
  },
  {
   "cell_type": "code",
   "outputs": [],
   "source": [
    "def daterange(start_date, end_date):\n",
    "    for n in range(int((end_date - start_date).days)):\n",
    "        yield start_date + timedelta(n)\n",
    "\n",
    "start_date = date(1983, 1, 1)\n",
    "end_date = date(1983, 12, 31)\n",
    "final_df = None\n",
    "links_visited = []\n",
    "for single_date in daterange(start_date, end_date):\n",
    "    links_visited.clear()\n",
    "    print(single_date)\n",
    "    url = f\"https://www.basketball-reference.com/boxscores/?month={single_date.month}&day={single_date.day}&year={single_date.year}\"\n",
    "    time.sleep(4)\n",
    "    response = requests.get(url)\n",
    "    soup = BeautifulSoup(response.text, 'html.parser')\n",
    "    if response.status_code != 200:\n",
    "        print('Response code: ', response.status_code)\n",
    "        print('Response headers: ', response.headers)\n",
    "        print('Response text: ', response.text)\n",
    "        break\n",
    "    links = soup.find_all('a')\n",
    "    for link in links:\n",
    "        game_link = link.get('href')\n",
    "        if game_link not in links_visited and \"boxscores\" in game_link and \"html\" in game_link:\n",
    "            print(game_link)\n",
    "            links_visited.append(game_link)\n",
    "            time.sleep(4)\n",
    "            game_response = requests.get(f\"https://www.basketball-reference.com{game_link}\")\n",
    "            game_soup = BeautifulSoup(game_response.text, 'html.parser')\n",
    "            for table in game_soup.find_all('table'):\n",
    "                table_id = table.get('id')\n",
    "                if table_id is None:\n",
    "                    continue\n",
    "                \n",
    "                if \"basic\" in table_id or \"advanced\" in table_id:\n",
    "                    column_names = [th.get_text() for th in table.find_all(\"tr\")[1].find_all(\"th\")]\n",
    "                    df = pd.read_html(StringIO(str(table)), header=0)[0]\n",
    "                    df.columns = column_names\n",
    "                    df = df[df['Starters'] != 'Starters']\n",
    "                    df = df[df['Starters'] != 'Reserves']\n",
    "                    df = df[df['Starters'] != 'Team Totals']\n",
    "                    df['Year'] = single_date.year\n",
    "                    df['Month'] = single_date.month\n",
    "                    df['Day'] = single_date.day\n",
    "                    if final_df is None:\n",
    "                        final_df = df\n",
    "                    else:\n",
    "                        final_df = pd.concat([final_df, df], axis=0)"
   ],
   "metadata": {
    "collapsed": false
   },
   "id": "e2b897e9e7852bbb",
   "execution_count": null
  },
  {
   "cell_type": "code",
   "outputs": [],
   "source": [
    "print(final_df)"
   ],
   "metadata": {
    "collapsed": false
   },
   "id": "dcc8abd2383c3451",
   "execution_count": null
  },
  {
   "cell_type": "code",
   "outputs": [],
   "source": [
    "final_df.columns"
   ],
   "metadata": {
    "collapsed": false
   },
   "id": "ec3203aa458cb5bd",
   "execution_count": null
  },
  {
   "cell_type": "code",
   "outputs": [],
   "source": [
    "final_df"
   ],
   "metadata": {
    "collapsed": false
   },
   "id": "48f7ba7f5c129577",
   "execution_count": null
  },
  {
   "cell_type": "code",
   "outputs": [],
   "source": [
    "import threading\n",
    "import requests\n",
    "from bs4 import BeautifulSoup\n",
    "import pandas as pd\n",
    "from io import StringIO\n",
    "import time\n",
    "from datetime import date, timedelta\n",
    "\n",
    "def scrape_data(url):\n",
    "    response = requests.get(url)\n",
    "    soup = BeautifulSoup(response.text, 'html.parser')\n",
    "    final_df = None\n",
    "    if response.status_code != 200:\n",
    "        print('Response code: ', response.status_code)\n",
    "        print('Response headers: ', response.headers)\n",
    "        print('Response text: ', response.text)\n",
    "        break\n",
    "    links = soup.find_all('a')\n",
    "    for link in links:\n",
    "        game_link = link.get('href')\n",
    "        if game_link not in links_visited and \"boxscores\" in game_link and \"html\" in game_link:\n",
    "            print(game_link)\n",
    "            links_visited.append(game_link)\n",
    "            time.sleep(4)\n",
    "            game_response = requests.get(f\"https://www.basketball-reference.com{game_link}\")\n",
    "            game_soup = BeautifulSoup(game_response.text, 'html.parser')\n",
    "            for table in game_soup.find_all('table'):\n",
    "                table_id = table.get('id')\n",
    "                if table_id is None:\n",
    "                    continue\n",
    "\n",
    "                if \"basic\" in table_id or \"advanced\" in table_id:\n",
    "                    column_names = [th.get_text() for th in table.find_all(\"tr\")[1].find_all(\"th\")]\n",
    "                    df = pd.read_html(StringIO(str(table)), header=0)[0]\n",
    "                    df.columns = column_names\n",
    "                    df = df[df['Starters'] != 'Starters']\n",
    "                    df = df[df['Starters'] != 'Reserves']\n",
    "                    df = df[df['Starters'] != 'Team Totals']\n",
    "                    df['Year'] = single_date.year\n",
    "                    df['Month'] = single_date.month\n",
    "                    df['Day'] = single_date.day\n",
    "                    if final_df is None:\n",
    "                        final_df = df\n",
    "                    else:\n",
    "                        final_df = pd.concat([final_df, df], axis=0)\n",
    "\n",
    "def daterange(start_date, end_date):\n",
    "    for n in range(int((end_date - start_date).days)):\n",
    "        yield start_date + timedelta(n)\n",
    "\n",
    "def scrape_for_date(single_date):\n",
    "    links_visited.clear()\n",
    "    print(single_date)\n",
    "    url = f\"https://www.basketball-reference.com/boxscores/?month={single_date.month}&day={single_date.day}&year={single_date.year}\"\n",
    "    time.sleep(4)\n",
    "    scrape_data(url)\n",
    "\n",
    "if __name__ == \"__main__\":\n",
    "    start_date = date(1983, 1, 1)\n",
    "    end_date = date(1983, 12, 31)\n",
    "    links_visited = []  # Initialize links_visited here\n",
    "\n",
    "    threads = []\n",
    "    for single_date in daterange(start_date, end_date):\n",
    "        thread = threading.Thread(target=scrape_for_date, args=(single_date,))\n",
    "        threads.append(thread)\n",
    "        thread.start()\n",
    "\n",
    "    for thread in threads:\n",
    "        thread.join()\n",
    "\n",
    "    # Combine data from all threads into a final dataframe\n",
    "    # You can create a global dataframe or append to a list and concatenate later\n",
    "    # Example: final_df = pd.concat(list_of_dataframes)\n",
    "\n",
    "    # Rest of your code\n"
   ],
   "metadata": {
    "collapsed": false
   },
   "id": "b97619f940093020"
  }
 ],
 "metadata": {
  "kernelspec": {
   "display_name": "Python 3",
   "language": "python",
   "name": "python3"
  },
  "language_info": {
   "codemirror_mode": {
    "name": "ipython",
    "version": 2
   },
   "file_extension": ".py",
   "mimetype": "text/x-python",
   "name": "python",
   "nbconvert_exporter": "python",
   "pygments_lexer": "ipython2",
   "version": "2.7.6"
  }
 },
 "nbformat": 4,
 "nbformat_minor": 5
}
