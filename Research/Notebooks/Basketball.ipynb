{
 "cells": [
  {
   "cell_type": "code",
   "execution_count": 1,
   "id": "initial_id",
   "metadata": {
    "collapsed": true,
    "ExecuteTime": {
     "end_time": "2024-03-24T21:54:36.383458Z",
     "start_time": "2024-03-24T21:54:36.087848Z"
    }
   },
   "outputs": [],
   "source": [
    "import numpy as np\n",
    "import pandas as pd\n",
    "from BasketballTree import Datapoint\n",
    "from BasketballTree import KDTree\n",
    "from BasketballTree import Node"
   ]
  },
  {
   "cell_type": "code",
   "outputs": [
    {
     "data": {
      "text/plain": "        pid     gs gspos  minutes  fg   fga  fg3  fg3a  ft  fta  ...  tovers  \\\n0       500  False  None      0.0   0   0.0  0.0   0.0   4    0  ...     0.0   \n1       502  False  None      0.0   2   0.0  0.0   0.0   0    0  ...     0.0   \n2       503  False  None      0.0   1   0.0  0.0   0.0   0    0  ...     0.0   \n3       504  False  None      0.0   0   0.0  0.0   0.0   0    0  ...     0.0   \n4       505  False  None      0.0   0   0.0  0.0   0.0   0    0  ...     0.0   \n...     ...    ...   ...      ...  ..   ...  ...   ...  ..  ...  ...     ...   \n24133  2774   True     f     31.0   7  14.0  1.0   4.0   1    2  ...     2.0   \n24134  2757   True     g     33.0   5  13.0  5.0  11.0   4    4  ...     4.0   \n24135  2766   True     g     33.0  11  14.0  6.0   6.0   6   10  ...     3.0   \n24136  2773  False  None     24.0   3   7.0  1.0   3.0   2    2  ...     0.0   \n24137  2774   True     f     21.0   2   6.0  1.0   3.0   3    4  ...     3.0   \n\n       blk  stl  tech       fgp      fg3p   ftp  year  month  day  \n0      0.0  0.0   0.0       NaN       NaN   NaN  1906      3    2  \n1      0.0  0.0   0.0       NaN       NaN   NaN  1906      3    2  \n2      0.0  0.0   0.0       NaN       NaN   NaN  1906      3    2  \n3      0.0  0.0   0.0       NaN       NaN   NaN  1906      3    2  \n4      0.0  0.0   0.0       NaN       NaN   NaN  1906      3    2  \n...    ...  ...   ...       ...       ...   ...   ...    ...  ...  \n24133  2.0  1.0   0.0  0.500000  0.250000  0.50  2017      1   23  \n24134  0.0  1.0   1.0  0.384615  0.454545  1.00  2017      1   28  \n24135  0.0  0.0   0.0  0.785714  1.000000  0.60  2017      1   28  \n24136  0.0  0.0   0.0  0.428571  0.333333  1.00  2017      1   28  \n24137  1.0  1.0   0.0  0.333333  0.333333  0.75  2017      1   28  \n\n[24138 rows x 26 columns]",
      "text/html": "<div>\n<style scoped>\n    .dataframe tbody tr th:only-of-type {\n        vertical-align: middle;\n    }\n\n    .dataframe tbody tr th {\n        vertical-align: top;\n    }\n\n    .dataframe thead th {\n        text-align: right;\n    }\n</style>\n<table border=\"1\" class=\"dataframe\">\n  <thead>\n    <tr style=\"text-align: right;\">\n      <th></th>\n      <th>pid</th>\n      <th>gs</th>\n      <th>gspos</th>\n      <th>minutes</th>\n      <th>fg</th>\n      <th>fga</th>\n      <th>fg3</th>\n      <th>fg3a</th>\n      <th>ft</th>\n      <th>fta</th>\n      <th>...</th>\n      <th>tovers</th>\n      <th>blk</th>\n      <th>stl</th>\n      <th>tech</th>\n      <th>fgp</th>\n      <th>fg3p</th>\n      <th>ftp</th>\n      <th>year</th>\n      <th>month</th>\n      <th>day</th>\n    </tr>\n  </thead>\n  <tbody>\n    <tr>\n      <th>0</th>\n      <td>500</td>\n      <td>False</td>\n      <td>None</td>\n      <td>0.0</td>\n      <td>0</td>\n      <td>0.0</td>\n      <td>0.0</td>\n      <td>0.0</td>\n      <td>4</td>\n      <td>0</td>\n      <td>...</td>\n      <td>0.0</td>\n      <td>0.0</td>\n      <td>0.0</td>\n      <td>0.0</td>\n      <td>NaN</td>\n      <td>NaN</td>\n      <td>NaN</td>\n      <td>1906</td>\n      <td>3</td>\n      <td>2</td>\n    </tr>\n    <tr>\n      <th>1</th>\n      <td>502</td>\n      <td>False</td>\n      <td>None</td>\n      <td>0.0</td>\n      <td>2</td>\n      <td>0.0</td>\n      <td>0.0</td>\n      <td>0.0</td>\n      <td>0</td>\n      <td>0</td>\n      <td>...</td>\n      <td>0.0</td>\n      <td>0.0</td>\n      <td>0.0</td>\n      <td>0.0</td>\n      <td>NaN</td>\n      <td>NaN</td>\n      <td>NaN</td>\n      <td>1906</td>\n      <td>3</td>\n      <td>2</td>\n    </tr>\n    <tr>\n      <th>2</th>\n      <td>503</td>\n      <td>False</td>\n      <td>None</td>\n      <td>0.0</td>\n      <td>1</td>\n      <td>0.0</td>\n      <td>0.0</td>\n      <td>0.0</td>\n      <td>0</td>\n      <td>0</td>\n      <td>...</td>\n      <td>0.0</td>\n      <td>0.0</td>\n      <td>0.0</td>\n      <td>0.0</td>\n      <td>NaN</td>\n      <td>NaN</td>\n      <td>NaN</td>\n      <td>1906</td>\n      <td>3</td>\n      <td>2</td>\n    </tr>\n    <tr>\n      <th>3</th>\n      <td>504</td>\n      <td>False</td>\n      <td>None</td>\n      <td>0.0</td>\n      <td>0</td>\n      <td>0.0</td>\n      <td>0.0</td>\n      <td>0.0</td>\n      <td>0</td>\n      <td>0</td>\n      <td>...</td>\n      <td>0.0</td>\n      <td>0.0</td>\n      <td>0.0</td>\n      <td>0.0</td>\n      <td>NaN</td>\n      <td>NaN</td>\n      <td>NaN</td>\n      <td>1906</td>\n      <td>3</td>\n      <td>2</td>\n    </tr>\n    <tr>\n      <th>4</th>\n      <td>505</td>\n      <td>False</td>\n      <td>None</td>\n      <td>0.0</td>\n      <td>0</td>\n      <td>0.0</td>\n      <td>0.0</td>\n      <td>0.0</td>\n      <td>0</td>\n      <td>0</td>\n      <td>...</td>\n      <td>0.0</td>\n      <td>0.0</td>\n      <td>0.0</td>\n      <td>0.0</td>\n      <td>NaN</td>\n      <td>NaN</td>\n      <td>NaN</td>\n      <td>1906</td>\n      <td>3</td>\n      <td>2</td>\n    </tr>\n    <tr>\n      <th>...</th>\n      <td>...</td>\n      <td>...</td>\n      <td>...</td>\n      <td>...</td>\n      <td>...</td>\n      <td>...</td>\n      <td>...</td>\n      <td>...</td>\n      <td>...</td>\n      <td>...</td>\n      <td>...</td>\n      <td>...</td>\n      <td>...</td>\n      <td>...</td>\n      <td>...</td>\n      <td>...</td>\n      <td>...</td>\n      <td>...</td>\n      <td>...</td>\n      <td>...</td>\n      <td>...</td>\n    </tr>\n    <tr>\n      <th>24133</th>\n      <td>2774</td>\n      <td>True</td>\n      <td>f</td>\n      <td>31.0</td>\n      <td>7</td>\n      <td>14.0</td>\n      <td>1.0</td>\n      <td>4.0</td>\n      <td>1</td>\n      <td>2</td>\n      <td>...</td>\n      <td>2.0</td>\n      <td>2.0</td>\n      <td>1.0</td>\n      <td>0.0</td>\n      <td>0.500000</td>\n      <td>0.250000</td>\n      <td>0.50</td>\n      <td>2017</td>\n      <td>1</td>\n      <td>23</td>\n    </tr>\n    <tr>\n      <th>24134</th>\n      <td>2757</td>\n      <td>True</td>\n      <td>g</td>\n      <td>33.0</td>\n      <td>5</td>\n      <td>13.0</td>\n      <td>5.0</td>\n      <td>11.0</td>\n      <td>4</td>\n      <td>4</td>\n      <td>...</td>\n      <td>4.0</td>\n      <td>0.0</td>\n      <td>1.0</td>\n      <td>1.0</td>\n      <td>0.384615</td>\n      <td>0.454545</td>\n      <td>1.00</td>\n      <td>2017</td>\n      <td>1</td>\n      <td>28</td>\n    </tr>\n    <tr>\n      <th>24135</th>\n      <td>2766</td>\n      <td>True</td>\n      <td>g</td>\n      <td>33.0</td>\n      <td>11</td>\n      <td>14.0</td>\n      <td>6.0</td>\n      <td>6.0</td>\n      <td>6</td>\n      <td>10</td>\n      <td>...</td>\n      <td>3.0</td>\n      <td>0.0</td>\n      <td>0.0</td>\n      <td>0.0</td>\n      <td>0.785714</td>\n      <td>1.000000</td>\n      <td>0.60</td>\n      <td>2017</td>\n      <td>1</td>\n      <td>28</td>\n    </tr>\n    <tr>\n      <th>24136</th>\n      <td>2773</td>\n      <td>False</td>\n      <td>None</td>\n      <td>24.0</td>\n      <td>3</td>\n      <td>7.0</td>\n      <td>1.0</td>\n      <td>3.0</td>\n      <td>2</td>\n      <td>2</td>\n      <td>...</td>\n      <td>0.0</td>\n      <td>0.0</td>\n      <td>0.0</td>\n      <td>0.0</td>\n      <td>0.428571</td>\n      <td>0.333333</td>\n      <td>1.00</td>\n      <td>2017</td>\n      <td>1</td>\n      <td>28</td>\n    </tr>\n    <tr>\n      <th>24137</th>\n      <td>2774</td>\n      <td>True</td>\n      <td>f</td>\n      <td>21.0</td>\n      <td>2</td>\n      <td>6.0</td>\n      <td>1.0</td>\n      <td>3.0</td>\n      <td>3</td>\n      <td>4</td>\n      <td>...</td>\n      <td>3.0</td>\n      <td>1.0</td>\n      <td>1.0</td>\n      <td>0.0</td>\n      <td>0.333333</td>\n      <td>0.333333</td>\n      <td>0.75</td>\n      <td>2017</td>\n      <td>1</td>\n      <td>28</td>\n    </tr>\n  </tbody>\n</table>\n<p>24138 rows × 26 columns</p>\n</div>"
     },
     "execution_count": 2,
     "metadata": {},
     "output_type": "execute_result"
    }
   ],
   "source": [
    "df = pd.read_feather('../Datasets/DUKEMBB/duke_mbb_history_stats.feather')\n",
    "df"
   ],
   "metadata": {
    "collapsed": false,
    "ExecuteTime": {
     "end_time": "2024-03-24T21:54:36.406098Z",
     "start_time": "2024-03-24T21:54:36.384441Z"
    }
   },
   "id": "cdff960c912cbb3b",
   "execution_count": 2
  },
  {
   "cell_type": "code",
   "outputs": [
    {
     "data": {
      "text/plain": "        pid  fg  day  month  year  timestamp\n0       500   0    2      3  1906   19060302\n1       502   2    2      3  1906   19060302\n2       503   1    2      3  1906   19060302\n3       504   0    2      3  1906   19060302\n4       505   0    2      3  1906   19060302\n...     ...  ..  ...    ...   ...        ...\n24133  2774   7   23      1  2017   20170123\n24134  2757   5   28      1  2017   20170128\n24135  2766  11   28      1  2017   20170128\n24136  2773   3   28      1  2017   20170128\n24137  2774   2   28      1  2017   20170128\n\n[24138 rows x 6 columns]",
      "text/html": "<div>\n<style scoped>\n    .dataframe tbody tr th:only-of-type {\n        vertical-align: middle;\n    }\n\n    .dataframe tbody tr th {\n        vertical-align: top;\n    }\n\n    .dataframe thead th {\n        text-align: right;\n    }\n</style>\n<table border=\"1\" class=\"dataframe\">\n  <thead>\n    <tr style=\"text-align: right;\">\n      <th></th>\n      <th>pid</th>\n      <th>fg</th>\n      <th>day</th>\n      <th>month</th>\n      <th>year</th>\n      <th>timestamp</th>\n    </tr>\n  </thead>\n  <tbody>\n    <tr>\n      <th>0</th>\n      <td>500</td>\n      <td>0</td>\n      <td>2</td>\n      <td>3</td>\n      <td>1906</td>\n      <td>19060302</td>\n    </tr>\n    <tr>\n      <th>1</th>\n      <td>502</td>\n      <td>2</td>\n      <td>2</td>\n      <td>3</td>\n      <td>1906</td>\n      <td>19060302</td>\n    </tr>\n    <tr>\n      <th>2</th>\n      <td>503</td>\n      <td>1</td>\n      <td>2</td>\n      <td>3</td>\n      <td>1906</td>\n      <td>19060302</td>\n    </tr>\n    <tr>\n      <th>3</th>\n      <td>504</td>\n      <td>0</td>\n      <td>2</td>\n      <td>3</td>\n      <td>1906</td>\n      <td>19060302</td>\n    </tr>\n    <tr>\n      <th>4</th>\n      <td>505</td>\n      <td>0</td>\n      <td>2</td>\n      <td>3</td>\n      <td>1906</td>\n      <td>19060302</td>\n    </tr>\n    <tr>\n      <th>...</th>\n      <td>...</td>\n      <td>...</td>\n      <td>...</td>\n      <td>...</td>\n      <td>...</td>\n      <td>...</td>\n    </tr>\n    <tr>\n      <th>24133</th>\n      <td>2774</td>\n      <td>7</td>\n      <td>23</td>\n      <td>1</td>\n      <td>2017</td>\n      <td>20170123</td>\n    </tr>\n    <tr>\n      <th>24134</th>\n      <td>2757</td>\n      <td>5</td>\n      <td>28</td>\n      <td>1</td>\n      <td>2017</td>\n      <td>20170128</td>\n    </tr>\n    <tr>\n      <th>24135</th>\n      <td>2766</td>\n      <td>11</td>\n      <td>28</td>\n      <td>1</td>\n      <td>2017</td>\n      <td>20170128</td>\n    </tr>\n    <tr>\n      <th>24136</th>\n      <td>2773</td>\n      <td>3</td>\n      <td>28</td>\n      <td>1</td>\n      <td>2017</td>\n      <td>20170128</td>\n    </tr>\n    <tr>\n      <th>24137</th>\n      <td>2774</td>\n      <td>2</td>\n      <td>28</td>\n      <td>1</td>\n      <td>2017</td>\n      <td>20170128</td>\n    </tr>\n  </tbody>\n</table>\n<p>24138 rows × 6 columns</p>\n</div>"
     },
     "execution_count": 3,
     "metadata": {},
     "output_type": "execute_result"
    }
   ],
   "source": [
    "test = df[['pid', 'fg', 'day', 'month', 'year']].copy()\n",
    "test.loc[:, 'timestamp'] = test['year'].astype(str) + test['month'].astype(str).str.zfill(2) + test['day'].astype(str).str.zfill(2)\n",
    "test['timestamp'] = test['timestamp'].astype(int)\n",
    "test['fg'] = test['fg'].astype(int)\n",
    "test"
   ],
   "metadata": {
    "collapsed": false,
    "ExecuteTime": {
     "end_time": "2024-03-24T21:54:36.428193Z",
     "start_time": "2024-03-24T21:54:36.406960Z"
    }
   },
   "id": "e08b2ef73cc9cf2b",
   "execution_count": 3
  },
  {
   "cell_type": "code",
   "outputs": [],
   "source": [
    "datapoints1 = list()\n",
    "for row in test.itertuples():\n",
    "    dp1 = Datapoint(coordinate=[row.timestamp, row.fg], pid=row.pid)\n",
    "    datapoints1.append(dp1)\n",
    "\n",
    "tree1 = KDTree()\n",
    "tree1.build_tree(datapoints1)"
   ],
   "metadata": {
    "collapsed": false,
    "ExecuteTime": {
     "end_time": "2024-03-24T21:54:37.063791Z",
     "start_time": "2024-03-24T21:54:36.429157Z"
    }
   },
   "id": "7f441decb8995716",
   "execution_count": 4
  },
  {
   "cell_type": "code",
   "outputs": [
    {
     "data": {
      "text/plain": "       pid  fg  day  month  year  timestamp\n0      500   0    2      3  1906   19060302\n1      502   2    2      3  1906   19060302\n2      503   1    2      3  1906   19060302\n3      504   0    2      3  1906   19060302\n4      505   0    2      3  1906   19060302\n...    ...  ..  ...    ...   ...        ...\n17972  137   5   30     12  1972   19721230\n17973  184   3   30     12  1972   19721230\n17974  257   6   30     12  1972   19721230\n17975  281   5   30     12  1972   19721230\n17976  300   7   30     12  1972   19721230\n\n[9388 rows x 6 columns]",
      "text/html": "<div>\n<style scoped>\n    .dataframe tbody tr th:only-of-type {\n        vertical-align: middle;\n    }\n\n    .dataframe tbody tr th {\n        vertical-align: top;\n    }\n\n    .dataframe thead th {\n        text-align: right;\n    }\n</style>\n<table border=\"1\" class=\"dataframe\">\n  <thead>\n    <tr style=\"text-align: right;\">\n      <th></th>\n      <th>pid</th>\n      <th>fg</th>\n      <th>day</th>\n      <th>month</th>\n      <th>year</th>\n      <th>timestamp</th>\n    </tr>\n  </thead>\n  <tbody>\n    <tr>\n      <th>0</th>\n      <td>500</td>\n      <td>0</td>\n      <td>2</td>\n      <td>3</td>\n      <td>1906</td>\n      <td>19060302</td>\n    </tr>\n    <tr>\n      <th>1</th>\n      <td>502</td>\n      <td>2</td>\n      <td>2</td>\n      <td>3</td>\n      <td>1906</td>\n      <td>19060302</td>\n    </tr>\n    <tr>\n      <th>2</th>\n      <td>503</td>\n      <td>1</td>\n      <td>2</td>\n      <td>3</td>\n      <td>1906</td>\n      <td>19060302</td>\n    </tr>\n    <tr>\n      <th>3</th>\n      <td>504</td>\n      <td>0</td>\n      <td>2</td>\n      <td>3</td>\n      <td>1906</td>\n      <td>19060302</td>\n    </tr>\n    <tr>\n      <th>4</th>\n      <td>505</td>\n      <td>0</td>\n      <td>2</td>\n      <td>3</td>\n      <td>1906</td>\n      <td>19060302</td>\n    </tr>\n    <tr>\n      <th>...</th>\n      <td>...</td>\n      <td>...</td>\n      <td>...</td>\n      <td>...</td>\n      <td>...</td>\n      <td>...</td>\n    </tr>\n    <tr>\n      <th>17972</th>\n      <td>137</td>\n      <td>5</td>\n      <td>30</td>\n      <td>12</td>\n      <td>1972</td>\n      <td>19721230</td>\n    </tr>\n    <tr>\n      <th>17973</th>\n      <td>184</td>\n      <td>3</td>\n      <td>30</td>\n      <td>12</td>\n      <td>1972</td>\n      <td>19721230</td>\n    </tr>\n    <tr>\n      <th>17974</th>\n      <td>257</td>\n      <td>6</td>\n      <td>30</td>\n      <td>12</td>\n      <td>1972</td>\n      <td>19721230</td>\n    </tr>\n    <tr>\n      <th>17975</th>\n      <td>281</td>\n      <td>5</td>\n      <td>30</td>\n      <td>12</td>\n      <td>1972</td>\n      <td>19721230</td>\n    </tr>\n    <tr>\n      <th>17976</th>\n      <td>300</td>\n      <td>7</td>\n      <td>30</td>\n      <td>12</td>\n      <td>1972</td>\n      <td>19721230</td>\n    </tr>\n  </tbody>\n</table>\n<p>9388 rows × 6 columns</p>\n</div>"
     },
     "execution_count": 5,
     "metadata": {},
     "output_type": "execute_result"
    }
   ],
   "source": [
    "result = test.query(\"timestamp > 19060301 and timestamp < 19726197\")\n",
    "result"
   ],
   "metadata": {
    "collapsed": false,
    "ExecuteTime": {
     "end_time": "2024-03-24T21:54:37.071694Z",
     "start_time": "2024-03-24T21:54:37.065839Z"
    }
   },
   "id": "94a44bde600eaabf",
   "execution_count": 5
  },
  {
   "cell_type": "code",
   "outputs": [],
   "source": [
    "c_nodes = tree1.query_canonical( ([19060302, 0], [19361211, 2]) )"
   ],
   "metadata": {
    "collapsed": false,
    "ExecuteTime": {
     "end_time": "2024-03-24T21:54:37.074434Z",
     "start_time": "2024-03-24T21:54:37.072517Z"
    }
   },
   "id": "2766d391f56f5c92",
   "execution_count": 6
  },
  {
   "cell_type": "code",
   "outputs": [],
   "source": [
    "def print_nodes(nodes: list[Node]):\n",
    "    if len(nodes) == 0:\n",
    "        return\n",
    "    for node in nodes:\n",
    "        if node.datapoint is not None:\n",
    "            print(node.datapoint.coordinate, node.datapoint.kwargs['pid'])\n",
    "        else:\n",
    "            print_nodes([node.left_child])\n",
    "            print_nodes([node.right_child])\n",
    "            "
   ],
   "metadata": {
    "collapsed": false,
    "ExecuteTime": {
     "end_time": "2024-03-24T21:54:37.077336Z",
     "start_time": "2024-03-24T21:54:37.075051Z"
    }
   },
   "id": "f883f85966432109",
   "execution_count": 7
  },
  {
   "cell_type": "code",
   "outputs": [
    {
     "name": "stdout",
     "output_type": "stream",
     "text": [
      "[19060302, 0] 500\n",
      "[19060302, 0] 504\n",
      "[19060302, 0] 505\n",
      "[19060302, 0] 506\n",
      "[19060302, 1] 503\n",
      "[19361211, 0] 421\n",
      "[19361211, 1] 77\n",
      "[19361211, 1] 178\n",
      "[19361211, 0] 185\n",
      "[19361211, 0] 343\n",
      "[19060302, 2] 502\n",
      "[19361211, 1] 263\n",
      "[19361211, 1] 290\n",
      "[19361212, 1] 263\n",
      "[19361212, 1] 421\n",
      "[19361211, 2] 340\n"
     ]
    }
   ],
   "source": [
    "print_nodes(c_nodes)"
   ],
   "metadata": {
    "collapsed": false,
    "ExecuteTime": {
     "end_time": "2024-03-24T21:54:37.079752Z",
     "start_time": "2024-03-24T21:54:37.077985Z"
    }
   },
   "id": "942f7246666b3d7",
   "execution_count": 8
  },
  {
   "cell_type": "code",
   "outputs": [
    {
     "data": {
      "text/plain": "        pid  fg  day  month  year  timestamp\n0       500   0    2      3  1906   19060302\n1       502   2    2      3  1906   19060302\n2       503   1    2      3  1906   19060302\n3       504   0    2      3  1906   19060302\n4       505   0    2      3  1906   19060302\n...     ...  ..  ...    ...   ...        ...\n24133  2774   7   23      1  2017   20170123\n24134  2757   5   28      1  2017   20170128\n24135  2766  11   28      1  2017   20170128\n24136  2773   3   28      1  2017   20170128\n24137  2774   2   28      1  2017   20170128\n\n[24138 rows x 6 columns]",
      "text/html": "<div>\n<style scoped>\n    .dataframe tbody tr th:only-of-type {\n        vertical-align: middle;\n    }\n\n    .dataframe tbody tr th {\n        vertical-align: top;\n    }\n\n    .dataframe thead th {\n        text-align: right;\n    }\n</style>\n<table border=\"1\" class=\"dataframe\">\n  <thead>\n    <tr style=\"text-align: right;\">\n      <th></th>\n      <th>pid</th>\n      <th>fg</th>\n      <th>day</th>\n      <th>month</th>\n      <th>year</th>\n      <th>timestamp</th>\n    </tr>\n  </thead>\n  <tbody>\n    <tr>\n      <th>0</th>\n      <td>500</td>\n      <td>0</td>\n      <td>2</td>\n      <td>3</td>\n      <td>1906</td>\n      <td>19060302</td>\n    </tr>\n    <tr>\n      <th>1</th>\n      <td>502</td>\n      <td>2</td>\n      <td>2</td>\n      <td>3</td>\n      <td>1906</td>\n      <td>19060302</td>\n    </tr>\n    <tr>\n      <th>2</th>\n      <td>503</td>\n      <td>1</td>\n      <td>2</td>\n      <td>3</td>\n      <td>1906</td>\n      <td>19060302</td>\n    </tr>\n    <tr>\n      <th>3</th>\n      <td>504</td>\n      <td>0</td>\n      <td>2</td>\n      <td>3</td>\n      <td>1906</td>\n      <td>19060302</td>\n    </tr>\n    <tr>\n      <th>4</th>\n      <td>505</td>\n      <td>0</td>\n      <td>2</td>\n      <td>3</td>\n      <td>1906</td>\n      <td>19060302</td>\n    </tr>\n    <tr>\n      <th>...</th>\n      <td>...</td>\n      <td>...</td>\n      <td>...</td>\n      <td>...</td>\n      <td>...</td>\n      <td>...</td>\n    </tr>\n    <tr>\n      <th>24133</th>\n      <td>2774</td>\n      <td>7</td>\n      <td>23</td>\n      <td>1</td>\n      <td>2017</td>\n      <td>20170123</td>\n    </tr>\n    <tr>\n      <th>24134</th>\n      <td>2757</td>\n      <td>5</td>\n      <td>28</td>\n      <td>1</td>\n      <td>2017</td>\n      <td>20170128</td>\n    </tr>\n    <tr>\n      <th>24135</th>\n      <td>2766</td>\n      <td>11</td>\n      <td>28</td>\n      <td>1</td>\n      <td>2017</td>\n      <td>20170128</td>\n    </tr>\n    <tr>\n      <th>24136</th>\n      <td>2773</td>\n      <td>3</td>\n      <td>28</td>\n      <td>1</td>\n      <td>2017</td>\n      <td>20170128</td>\n    </tr>\n    <tr>\n      <th>24137</th>\n      <td>2774</td>\n      <td>2</td>\n      <td>28</td>\n      <td>1</td>\n      <td>2017</td>\n      <td>20170128</td>\n    </tr>\n  </tbody>\n</table>\n<p>24138 rows × 6 columns</p>\n</div>"
     },
     "execution_count": 9,
     "metadata": {},
     "output_type": "execute_result"
    }
   ],
   "source": [
    "k = 5\n",
    "window = [19060302 , 19726197]\n",
    "data = df[['pid', 'fg', 'day', 'month', 'year']].copy()\n",
    "data.loc[:, 'timestamp'] = data['year'].astype(str) + data['month'].astype(str).str.zfill(2) + data['day'].astype(str).str.zfill(2)\n",
    "data['timestamp'] = data['timestamp'].astype(int)\n",
    "data['fg'] = data['fg'].astype(int)\n",
    "data"
   ],
   "metadata": {
    "collapsed": false,
    "ExecuteTime": {
     "end_time": "2024-03-24T21:54:37.101721Z",
     "start_time": "2024-03-24T21:54:37.080245Z"
    }
   },
   "id": "9a6da2c1b08772b8",
   "execution_count": 9
  },
  {
   "cell_type": "code",
   "outputs": [],
   "source": [
    "def print_nodes(nodes: list[Node]):\n",
    "    for node in nodes:\n",
    "        if node.datapoint is not None:\n",
    "            print(node.datapoint.coordinate)\n",
    "        else:\n",
    "            print('Left Rectangle: ', node.left_rectangle)\n",
    "            print_nodes([node.left_child])\n",
    "            print('Right Rectangle: ', node.right_rectangle)\n",
    "            print_nodes([node.right_child])"
   ],
   "metadata": {
    "collapsed": false,
    "ExecuteTime": {
     "end_time": "2024-03-24T21:54:37.104661Z",
     "start_time": "2024-03-24T21:54:37.102441Z"
    }
   },
   "id": "7d0ddb3c1e329820",
   "execution_count": 10
  },
  {
   "cell_type": "code",
   "outputs": [],
   "source": [
    "def check_longest_tao(k: int, starting_value: float, starting_timestamp: float, start_time_index: float, end_time_index: float, timestamps: np.ndarray, tree: KDTree ) -> float:\n",
    "    mid = (start_time_index + end_time_index) // 2\n",
    "    if mid == start_time_index or mid == end_time_index:\n",
    "        c_nodes1 = tree.query_canonical( [[starting_timestamp, starting_value], [timestamps[start_time_index], 9999]] )\n",
    "        p_above1 = 0\n",
    "        for node in c_nodes1:\n",
    "            p_above1 += node.children if node.children > 0 else 1\n",
    "        tau0 = timestamps[start_time_index] - starting_timestamp - 0.01 if timestamps[start_time_index] - starting_timestamp > 0 else 0\n",
    "        tau1 = timestamps[end_time_index] - starting_timestamp - 0.01 if timestamps[end_time_index] - starting_timestamp > 0 else 0\n",
    "        return tau0 if p_above1 == k else tau1\n",
    "    \n",
    "    curr_timestamp = timestamps[mid]\n",
    "    canonical_nodes = tree.query_canonical( [[starting_timestamp, starting_value], [curr_timestamp, 9999]] )\n",
    "    if len(canonical_nodes) == 0:\n",
    "        return 0\n",
    "    points_above = 0\n",
    "    for node in canonical_nodes:\n",
    "        points_above += node.children if node.children > 0 else 1\n",
    "    if points_above == k:\n",
    "        return check_longest_tao(k, starting_value, starting_timestamp, start_time_index, mid, timestamps, tree)\n",
    "    elif points_above > k:\n",
    "        return check_longest_tao(k, starting_value, starting_timestamp, start_time_index, mid, timestamps, tree)\n",
    "    elif points_above < k:\n",
    "        return check_longest_tao(k, starting_value, starting_timestamp, mid, end_time_index, timestamps, tree)\n",
    "\n",
    "def unknown_tao_tree_build(k: int, window: list, data: pd.DataFrame, tree: KDTree) -> KDTree or None:\n",
    "    data = data.query(f\"timestamp > {window[0]} and timestamp < {window[1]}\")\n",
    "    unique_timestamps = data.timestamp.unique()\n",
    "    unique_timestamps = unique_timestamps\n",
    "    unique_timestamps = sorted(unique_timestamps)\n",
    "    for row in data.itertuples():\n",
    "        timestamp_index = unique_timestamps.index(row.timestamp)\n",
    "        timestamps = unique_timestamps[timestamp_index:]\n",
    "        x = check_longest_tao(k, row.fg+0.01, row.timestamp, 0, len(timestamps)-1, timestamps, tree)\n",
    "        if x != 0:\n",
    "            print('data: ', row.timestamp, row.fg, row.pid, row.timestamp+x, x)"
   ],
   "metadata": {
    "collapsed": false,
    "ExecuteTime": {
     "end_time": "2024-03-24T22:25:06.988832Z",
     "start_time": "2024-03-24T22:25:06.982604Z"
    }
   },
   "id": "1cc79edcd486eac4",
   "execution_count": 59
  },
  {
   "cell_type": "code",
   "outputs": [
    {
     "name": "stdout",
     "output_type": "stream",
     "text": [
      "data:  19361211 4 30 19370111.99 8900.99\n",
      "data:  19361211 1 77 19361211.99 0.99\n",
      "data:  19361211 1 178 19361211.99 0.99\n",
      "data:  19361211 0 185 19361211.99 0.99\n",
      "data:  19361211 1 263 19361211.99 0.99\n",
      "data:  19361211 1 290 19361211.99 0.99\n",
      "data:  19361211 3 304 19361216.99 5.99\n",
      "data:  19361211 2 340 19361215.99 4.99\n",
      "data:  19361211 0 343 19361211.99 0.99\n",
      "data:  19361211 0 421 19361211.99 0.99\n",
      "data:  19361212 3 30 19361216.99 4.99\n",
      "data:  19361212 1 77 19361215.99 3.99\n",
      "data:  19361212 2 178 19361216.99 4.99\n",
      "data:  19361212 0 185 19361215.99 3.99\n",
      "data:  19361212 1 263 19361215.99 3.99\n",
      "data:  19361212 4 290 19370111.99 8899.99\n",
      "data:  19361212 0 304 19361215.99 3.99\n",
      "data:  19361212 2 340 19361216.99 4.99\n",
      "data:  19361212 0 343 19361215.99 3.99\n",
      "data:  19361212 1 421 19361215.99 3.99\n",
      "data:  19361217 5 304 19371212.99 9995.99\n",
      "data:  19361217 2 340 19370105.99 8888.99\n",
      "data:  19370106 3 30 19370106.99 0.99\n",
      "data:  19370106 1 77 19370106.99 0.99\n",
      "data:  19370106 4 125 19370207.99 101.99\n",
      "data:  19370106 1 178 19370106.99 0.99\n",
      "data:  19370106 1 185 19370106.99 0.99\n",
      "data:  19370106 1 263 19370106.99 0.99\n",
      "data:  19370106 0 283 19370106.99 0.99\n",
      "data:  19370106 4 290 19370207.99 101.99\n",
      "data:  19370106 2 304 19370106.99 0.99\n",
      "data:  19370106 0 340 19370106.99 0.99\n",
      "data:  19370106 0 343 19370106.99 0.99\n",
      "data:  19370107 0 283 19370107.99 0.99\n",
      "data:  19370107 3 340 19370121.99 14.99\n",
      "data:  19370107 0 343 19370107.99 0.99\n",
      "data:  19370107 0 421 19370107.99 0.99\n",
      "data:  19361216 1 178 19361216.99 0.99\n",
      "data:  19361216 1 185 19361216.99 0.99\n",
      "data:  19370108 2 30 19370121.99 13.99\n",
      "data:  19370108 2 77 19370121.99 13.99\n",
      "data:  19370108 0 125 19370111.99 3.99\n",
      "data:  19370108 0 185 19370111.99 3.99\n",
      "data:  19370108 0 343 19370111.99 3.99\n",
      "data:  19370112 1 30 19370115.99 3.99\n",
      "data:  19370112 1 77 19370115.99 3.99\n",
      "data:  19370112 0 125 19370115.99 3.99\n",
      "data:  19370112 1 178 19370115.99 3.99\n",
      "data:  19370112 1 185 19370115.99 3.99\n",
      "data:  19370112 0 263 19370115.99 3.99\n",
      "data:  19370112 0 283 19370115.99 3.99\n",
      "data:  19370112 1 304 19370115.99 3.99\n"
     ]
    },
    {
     "ename": "KeyboardInterrupt",
     "evalue": "",
     "output_type": "error",
     "traceback": [
      "\u001B[0;31m---------------------------------------------------------------------------\u001B[0m",
      "\u001B[0;31mKeyboardInterrupt\u001B[0m                         Traceback (most recent call last)",
      "Cell \u001B[0;32mIn[60], line 1\u001B[0m\n\u001B[0;32m----> 1\u001B[0m \u001B[43munknown_tao_tree_build\u001B[49m\u001B[43m(\u001B[49m\u001B[43mk\u001B[49m\u001B[43m,\u001B[49m\u001B[43m \u001B[49m\u001B[43mwindow\u001B[49m\u001B[43m,\u001B[49m\u001B[43m \u001B[49m\u001B[43mdata\u001B[49m\u001B[43m,\u001B[49m\u001B[43m \u001B[49m\u001B[43mtree1\u001B[49m\u001B[43m)\u001B[49m\n",
      "Cell \u001B[0;32mIn[59], line 34\u001B[0m, in \u001B[0;36munknown_tao_tree_build\u001B[0;34m(k, window, data, tree)\u001B[0m\n\u001B[1;32m     32\u001B[0m timestamp_index \u001B[38;5;241m=\u001B[39m unique_timestamps\u001B[38;5;241m.\u001B[39mindex(row\u001B[38;5;241m.\u001B[39mtimestamp)\n\u001B[1;32m     33\u001B[0m timestamps \u001B[38;5;241m=\u001B[39m unique_timestamps[timestamp_index:]\n\u001B[0;32m---> 34\u001B[0m x \u001B[38;5;241m=\u001B[39m \u001B[43mcheck_longest_tao\u001B[49m\u001B[43m(\u001B[49m\u001B[43mk\u001B[49m\u001B[43m,\u001B[49m\u001B[43m \u001B[49m\u001B[43mrow\u001B[49m\u001B[38;5;241;43m.\u001B[39;49m\u001B[43mfg\u001B[49m\u001B[38;5;241;43m+\u001B[39;49m\u001B[38;5;241;43m0.01\u001B[39;49m\u001B[43m,\u001B[49m\u001B[43m \u001B[49m\u001B[43mrow\u001B[49m\u001B[38;5;241;43m.\u001B[39;49m\u001B[43mtimestamp\u001B[49m\u001B[43m,\u001B[49m\u001B[43m \u001B[49m\u001B[38;5;241;43m0\u001B[39;49m\u001B[43m,\u001B[49m\u001B[43m \u001B[49m\u001B[38;5;28;43mlen\u001B[39;49m\u001B[43m(\u001B[49m\u001B[43mtimestamps\u001B[49m\u001B[43m)\u001B[49m\u001B[38;5;241;43m-\u001B[39;49m\u001B[38;5;241;43m1\u001B[39;49m\u001B[43m,\u001B[49m\u001B[43m \u001B[49m\u001B[43mtimestamps\u001B[49m\u001B[43m,\u001B[49m\u001B[43m \u001B[49m\u001B[43mtree\u001B[49m\u001B[43m)\u001B[49m\n\u001B[1;32m     35\u001B[0m \u001B[38;5;28;01mif\u001B[39;00m x \u001B[38;5;241m!=\u001B[39m \u001B[38;5;241m0\u001B[39m:\n\u001B[1;32m     36\u001B[0m     \u001B[38;5;28mprint\u001B[39m(\u001B[38;5;124m'\u001B[39m\u001B[38;5;124mdata: \u001B[39m\u001B[38;5;124m'\u001B[39m, row\u001B[38;5;241m.\u001B[39mtimestamp, row\u001B[38;5;241m.\u001B[39mfg, row\u001B[38;5;241m.\u001B[39mpid, row\u001B[38;5;241m.\u001B[39mtimestamp\u001B[38;5;241m+\u001B[39mx, x)\n",
      "Cell \u001B[0;32mIn[59], line 13\u001B[0m, in \u001B[0;36mcheck_longest_tao\u001B[0;34m(k, starting_value, starting_timestamp, start_time_index, end_time_index, timestamps, tree)\u001B[0m\n\u001B[1;32m     10\u001B[0m     \u001B[38;5;28;01mreturn\u001B[39;00m tau0 \u001B[38;5;28;01mif\u001B[39;00m p_above1 \u001B[38;5;241m==\u001B[39m k \u001B[38;5;28;01melse\u001B[39;00m tau1\n\u001B[1;32m     12\u001B[0m curr_timestamp \u001B[38;5;241m=\u001B[39m timestamps[mid]\n\u001B[0;32m---> 13\u001B[0m canonical_nodes \u001B[38;5;241m=\u001B[39m \u001B[43mtree\u001B[49m\u001B[38;5;241;43m.\u001B[39;49m\u001B[43mquery_canonical\u001B[49m\u001B[43m(\u001B[49m\u001B[43m \u001B[49m\u001B[43m[\u001B[49m\u001B[43m[\u001B[49m\u001B[43mstarting_timestamp\u001B[49m\u001B[43m,\u001B[49m\u001B[43m \u001B[49m\u001B[43mstarting_value\u001B[49m\u001B[43m]\u001B[49m\u001B[43m,\u001B[49m\u001B[43m \u001B[49m\u001B[43m[\u001B[49m\u001B[43mcurr_timestamp\u001B[49m\u001B[43m,\u001B[49m\u001B[43m \u001B[49m\u001B[38;5;241;43m9999\u001B[39;49m\u001B[43m]\u001B[49m\u001B[43m]\u001B[49m\u001B[43m \u001B[49m\u001B[43m)\u001B[49m\n\u001B[1;32m     14\u001B[0m \u001B[38;5;28;01mif\u001B[39;00m \u001B[38;5;28mlen\u001B[39m(canonical_nodes) \u001B[38;5;241m==\u001B[39m \u001B[38;5;241m0\u001B[39m:\n\u001B[1;32m     15\u001B[0m     \u001B[38;5;28;01mreturn\u001B[39;00m \u001B[38;5;241m0\u001B[39m\n",
      "File \u001B[0;32m~/Documents/Programming/Personal/Research/Notebooks/BasketballTree.py:208\u001B[0m, in \u001B[0;36mKDTree.query_canonical\u001B[0;34m(self, rectangle)\u001B[0m\n\u001B[1;32m    205\u001B[0m \u001B[38;5;28;01massert\u001B[39;00m \u001B[38;5;28mlen\u001B[39m(rectangle[\u001B[38;5;241m0\u001B[39m]) \u001B[38;5;241m==\u001B[39m \u001B[38;5;28mself\u001B[39m\u001B[38;5;241m.\u001B[39mdimension \u001B[38;5;129;01mand\u001B[39;00m \u001B[38;5;28mlen\u001B[39m(\n\u001B[1;32m    206\u001B[0m     rectangle[\u001B[38;5;241m1\u001B[39m]) \u001B[38;5;241m==\u001B[39m \u001B[38;5;28mself\u001B[39m\u001B[38;5;241m.\u001B[39mdimension, \u001B[38;5;124mf\u001B[39m\u001B[38;5;124m'\u001B[39m\u001B[38;5;124mExpected dimension of rectangle to be \u001B[39m\u001B[38;5;132;01m{\u001B[39;00m\u001B[38;5;28mself\u001B[39m\u001B[38;5;241m.\u001B[39mdimension\u001B[38;5;132;01m}\u001B[39;00m\u001B[38;5;124m'\u001B[39m\n\u001B[1;32m    207\u001B[0m \u001B[38;5;28;01massert\u001B[39;00m rectangle[\u001B[38;5;241m0\u001B[39m] \u001B[38;5;241m<\u001B[39m\u001B[38;5;241m=\u001B[39m rectangle[\u001B[38;5;241m1\u001B[39m], \u001B[38;5;124m'\u001B[39m\u001B[38;5;124mInvalid query rectangle\u001B[39m\u001B[38;5;124m'\u001B[39m\n\u001B[0;32m--> 208\u001B[0m \u001B[38;5;28;01mreturn\u001B[39;00m \u001B[38;5;28;43mself\u001B[39;49m\u001B[38;5;241;43m.\u001B[39;49m\u001B[43m__query_canonical\u001B[49m\u001B[43m(\u001B[49m\u001B[38;5;28;43mself\u001B[39;49m\u001B[38;5;241;43m.\u001B[39;49m\u001B[43mroot\u001B[49m\u001B[43m,\u001B[49m\u001B[43m \u001B[49m\u001B[43mrectangle\u001B[49m\u001B[43m)\u001B[49m\n",
      "File \u001B[0;32m~/Documents/Programming/Personal/Research/Notebooks/BasketballTree.py:233\u001B[0m, in \u001B[0;36mKDTree.__query_canonical\u001B[0;34m(self, root, query_rect)\u001B[0m\n\u001B[1;32m    230\u001B[0m     \u001B[38;5;28;01mreturn\u001B[39;00m canonical_nodes\n\u001B[1;32m    232\u001B[0m \u001B[38;5;28;01mif\u001B[39;00m \u001B[38;5;28mself\u001B[39m\u001B[38;5;241m.\u001B[39m__rectangles_intersect(root\u001B[38;5;241m.\u001B[39mleft_rectangle, query_rect):\n\u001B[0;32m--> 233\u001B[0m     canonical_nodes\u001B[38;5;241m.\u001B[39mextend(\u001B[38;5;28;43mself\u001B[39;49m\u001B[38;5;241;43m.\u001B[39;49m\u001B[43m__query_canonical\u001B[49m\u001B[43m(\u001B[49m\u001B[43mroot\u001B[49m\u001B[38;5;241;43m.\u001B[39;49m\u001B[43mleft_child\u001B[49m\u001B[43m,\u001B[49m\u001B[43m \u001B[49m\u001B[43mquery_rect\u001B[49m\u001B[43m)\u001B[49m)\n\u001B[1;32m    235\u001B[0m \u001B[38;5;28;01mif\u001B[39;00m \u001B[38;5;28mself\u001B[39m\u001B[38;5;241m.\u001B[39m__rectangles_intersect(root\u001B[38;5;241m.\u001B[39mright_rectangle, query_rect):\n\u001B[1;32m    236\u001B[0m     canonical_nodes\u001B[38;5;241m.\u001B[39mextend(\u001B[38;5;28mself\u001B[39m\u001B[38;5;241m.\u001B[39m__query_canonical(root\u001B[38;5;241m.\u001B[39mright_child, query_rect))\n",
      "File \u001B[0;32m~/Documents/Programming/Personal/Research/Notebooks/BasketballTree.py:233\u001B[0m, in \u001B[0;36mKDTree.__query_canonical\u001B[0;34m(self, root, query_rect)\u001B[0m\n\u001B[1;32m    230\u001B[0m     \u001B[38;5;28;01mreturn\u001B[39;00m canonical_nodes\n\u001B[1;32m    232\u001B[0m \u001B[38;5;28;01mif\u001B[39;00m \u001B[38;5;28mself\u001B[39m\u001B[38;5;241m.\u001B[39m__rectangles_intersect(root\u001B[38;5;241m.\u001B[39mleft_rectangle, query_rect):\n\u001B[0;32m--> 233\u001B[0m     canonical_nodes\u001B[38;5;241m.\u001B[39mextend(\u001B[38;5;28;43mself\u001B[39;49m\u001B[38;5;241;43m.\u001B[39;49m\u001B[43m__query_canonical\u001B[49m\u001B[43m(\u001B[49m\u001B[43mroot\u001B[49m\u001B[38;5;241;43m.\u001B[39;49m\u001B[43mleft_child\u001B[49m\u001B[43m,\u001B[49m\u001B[43m \u001B[49m\u001B[43mquery_rect\u001B[49m\u001B[43m)\u001B[49m)\n\u001B[1;32m    235\u001B[0m \u001B[38;5;28;01mif\u001B[39;00m \u001B[38;5;28mself\u001B[39m\u001B[38;5;241m.\u001B[39m__rectangles_intersect(root\u001B[38;5;241m.\u001B[39mright_rectangle, query_rect):\n\u001B[1;32m    236\u001B[0m     canonical_nodes\u001B[38;5;241m.\u001B[39mextend(\u001B[38;5;28mself\u001B[39m\u001B[38;5;241m.\u001B[39m__query_canonical(root\u001B[38;5;241m.\u001B[39mright_child, query_rect))\n",
      "File \u001B[0;32m~/Documents/Programming/Personal/Research/Notebooks/BasketballTree.py:236\u001B[0m, in \u001B[0;36mKDTree.__query_canonical\u001B[0;34m(self, root, query_rect)\u001B[0m\n\u001B[1;32m    233\u001B[0m     canonical_nodes\u001B[38;5;241m.\u001B[39mextend(\u001B[38;5;28mself\u001B[39m\u001B[38;5;241m.\u001B[39m__query_canonical(root\u001B[38;5;241m.\u001B[39mleft_child, query_rect))\n\u001B[1;32m    235\u001B[0m \u001B[38;5;28;01mif\u001B[39;00m \u001B[38;5;28mself\u001B[39m\u001B[38;5;241m.\u001B[39m__rectangles_intersect(root\u001B[38;5;241m.\u001B[39mright_rectangle, query_rect):\n\u001B[0;32m--> 236\u001B[0m     canonical_nodes\u001B[38;5;241m.\u001B[39mextend(\u001B[38;5;28;43mself\u001B[39;49m\u001B[38;5;241;43m.\u001B[39;49m\u001B[43m__query_canonical\u001B[49m\u001B[43m(\u001B[49m\u001B[43mroot\u001B[49m\u001B[38;5;241;43m.\u001B[39;49m\u001B[43mright_child\u001B[49m\u001B[43m,\u001B[49m\u001B[43m \u001B[49m\u001B[43mquery_rect\u001B[49m\u001B[43m)\u001B[49m)\n\u001B[1;32m    238\u001B[0m \u001B[38;5;28;01mreturn\u001B[39;00m canonical_nodes\n",
      "    \u001B[0;31m[... skipping similar frames: KDTree.__query_canonical at line 233 (1 times)]\u001B[0m\n",
      "File \u001B[0;32m~/Documents/Programming/Personal/Research/Notebooks/BasketballTree.py:236\u001B[0m, in \u001B[0;36mKDTree.__query_canonical\u001B[0;34m(self, root, query_rect)\u001B[0m\n\u001B[1;32m    233\u001B[0m     canonical_nodes\u001B[38;5;241m.\u001B[39mextend(\u001B[38;5;28mself\u001B[39m\u001B[38;5;241m.\u001B[39m__query_canonical(root\u001B[38;5;241m.\u001B[39mleft_child, query_rect))\n\u001B[1;32m    235\u001B[0m \u001B[38;5;28;01mif\u001B[39;00m \u001B[38;5;28mself\u001B[39m\u001B[38;5;241m.\u001B[39m__rectangles_intersect(root\u001B[38;5;241m.\u001B[39mright_rectangle, query_rect):\n\u001B[0;32m--> 236\u001B[0m     canonical_nodes\u001B[38;5;241m.\u001B[39mextend(\u001B[38;5;28;43mself\u001B[39;49m\u001B[38;5;241;43m.\u001B[39;49m\u001B[43m__query_canonical\u001B[49m\u001B[43m(\u001B[49m\u001B[43mroot\u001B[49m\u001B[38;5;241;43m.\u001B[39;49m\u001B[43mright_child\u001B[49m\u001B[43m,\u001B[49m\u001B[43m \u001B[49m\u001B[43mquery_rect\u001B[49m\u001B[43m)\u001B[49m)\n\u001B[1;32m    238\u001B[0m \u001B[38;5;28;01mreturn\u001B[39;00m canonical_nodes\n",
      "    \u001B[0;31m[... skipping similar frames: KDTree.__query_canonical at line 236 (3 times)]\u001B[0m\n",
      "File \u001B[0;32m~/Documents/Programming/Personal/Research/Notebooks/BasketballTree.py:233\u001B[0m, in \u001B[0;36mKDTree.__query_canonical\u001B[0;34m(self, root, query_rect)\u001B[0m\n\u001B[1;32m    230\u001B[0m     \u001B[38;5;28;01mreturn\u001B[39;00m canonical_nodes\n\u001B[1;32m    232\u001B[0m \u001B[38;5;28;01mif\u001B[39;00m \u001B[38;5;28mself\u001B[39m\u001B[38;5;241m.\u001B[39m__rectangles_intersect(root\u001B[38;5;241m.\u001B[39mleft_rectangle, query_rect):\n\u001B[0;32m--> 233\u001B[0m     canonical_nodes\u001B[38;5;241m.\u001B[39mextend(\u001B[38;5;28;43mself\u001B[39;49m\u001B[38;5;241;43m.\u001B[39;49m\u001B[43m__query_canonical\u001B[49m\u001B[43m(\u001B[49m\u001B[43mroot\u001B[49m\u001B[38;5;241;43m.\u001B[39;49m\u001B[43mleft_child\u001B[49m\u001B[43m,\u001B[49m\u001B[43m \u001B[49m\u001B[43mquery_rect\u001B[49m\u001B[43m)\u001B[49m)\n\u001B[1;32m    235\u001B[0m \u001B[38;5;28;01mif\u001B[39;00m \u001B[38;5;28mself\u001B[39m\u001B[38;5;241m.\u001B[39m__rectangles_intersect(root\u001B[38;5;241m.\u001B[39mright_rectangle, query_rect):\n\u001B[1;32m    236\u001B[0m     canonical_nodes\u001B[38;5;241m.\u001B[39mextend(\u001B[38;5;28mself\u001B[39m\u001B[38;5;241m.\u001B[39m__query_canonical(root\u001B[38;5;241m.\u001B[39mright_child, query_rect))\n",
      "    \u001B[0;31m[... skipping similar frames: KDTree.__query_canonical at line 236 (1 times)]\u001B[0m\n",
      "File \u001B[0;32m~/Documents/Programming/Personal/Research/Notebooks/BasketballTree.py:236\u001B[0m, in \u001B[0;36mKDTree.__query_canonical\u001B[0;34m(self, root, query_rect)\u001B[0m\n\u001B[1;32m    233\u001B[0m     canonical_nodes\u001B[38;5;241m.\u001B[39mextend(\u001B[38;5;28mself\u001B[39m\u001B[38;5;241m.\u001B[39m__query_canonical(root\u001B[38;5;241m.\u001B[39mleft_child, query_rect))\n\u001B[1;32m    235\u001B[0m \u001B[38;5;28;01mif\u001B[39;00m \u001B[38;5;28mself\u001B[39m\u001B[38;5;241m.\u001B[39m__rectangles_intersect(root\u001B[38;5;241m.\u001B[39mright_rectangle, query_rect):\n\u001B[0;32m--> 236\u001B[0m     canonical_nodes\u001B[38;5;241m.\u001B[39mextend(\u001B[38;5;28;43mself\u001B[39;49m\u001B[38;5;241;43m.\u001B[39;49m\u001B[43m__query_canonical\u001B[49m\u001B[43m(\u001B[49m\u001B[43mroot\u001B[49m\u001B[38;5;241;43m.\u001B[39;49m\u001B[43mright_child\u001B[49m\u001B[43m,\u001B[49m\u001B[43m \u001B[49m\u001B[43mquery_rect\u001B[49m\u001B[43m)\u001B[49m)\n\u001B[1;32m    238\u001B[0m \u001B[38;5;28;01mreturn\u001B[39;00m canonical_nodes\n",
      "File \u001B[0;32m~/Documents/Programming/Personal/Research/Notebooks/BasketballTree.py:227\u001B[0m, in \u001B[0;36mKDTree.__query_canonical\u001B[0;34m(self, root, query_rect)\u001B[0m\n\u001B[1;32m    224\u001B[0m         canonical_nodes\u001B[38;5;241m.\u001B[39mappend(root)\n\u001B[1;32m    225\u001B[0m     \u001B[38;5;28;01mreturn\u001B[39;00m canonical_nodes\n\u001B[0;32m--> 227\u001B[0m \u001B[38;5;28;01mif\u001B[39;00m np\u001B[38;5;241m.\u001B[39mall(np\u001B[38;5;241m.\u001B[39marray(query_rect[\u001B[38;5;241m0\u001B[39m]) \u001B[38;5;241m<\u001B[39m\u001B[38;5;241m=\u001B[39m np\u001B[38;5;241m.\u001B[39marray(root\u001B[38;5;241m.\u001B[39mleft_rectangle[\u001B[38;5;241m0\u001B[39m])) \u001B[38;5;129;01mand\u001B[39;00m \u001B[43mnp\u001B[49m\u001B[38;5;241;43m.\u001B[39;49m\u001B[43mall\u001B[49m\u001B[43m(\u001B[49m\n\u001B[1;32m    228\u001B[0m \u001B[43m        \u001B[49m\u001B[43mnp\u001B[49m\u001B[38;5;241;43m.\u001B[39;49m\u001B[43marray\u001B[49m\u001B[43m(\u001B[49m\u001B[43mquery_rect\u001B[49m\u001B[43m[\u001B[49m\u001B[38;5;241;43m1\u001B[39;49m\u001B[43m]\u001B[49m\u001B[43m)\u001B[49m\u001B[43m \u001B[49m\u001B[38;5;241;43m>\u001B[39;49m\u001B[38;5;241;43m=\u001B[39;49m\u001B[43m \u001B[49m\u001B[43mnp\u001B[49m\u001B[38;5;241;43m.\u001B[39;49m\u001B[43marray\u001B[49m\u001B[43m(\u001B[49m\u001B[43mroot\u001B[49m\u001B[38;5;241;43m.\u001B[39;49m\u001B[43mright_rectangle\u001B[49m\u001B[43m[\u001B[49m\u001B[38;5;241;43m1\u001B[39;49m\u001B[43m]\u001B[49m\u001B[43m)\u001B[49m\u001B[43m)\u001B[49m:\n\u001B[1;32m    229\u001B[0m     canonical_nodes\u001B[38;5;241m.\u001B[39mappend(root)\n\u001B[1;32m    230\u001B[0m     \u001B[38;5;28;01mreturn\u001B[39;00m canonical_nodes\n",
      "File \u001B[0;32m~/mambaforge/lib/python3.11/site-packages/numpy/core/fromnumeric.py:2416\u001B[0m, in \u001B[0;36m_all_dispatcher\u001B[0;34m(a, axis, out, keepdims, where)\u001B[0m\n\u001B[1;32m   2324\u001B[0m \u001B[38;5;250m    \u001B[39m\u001B[38;5;124;03m\"\"\"\u001B[39;00m\n\u001B[1;32m   2325\u001B[0m \u001B[38;5;124;03m    Test whether any array element along a given axis evaluates to True.\u001B[39;00m\n\u001B[1;32m   2326\u001B[0m \n\u001B[0;32m   (...)\u001B[0m\n\u001B[1;32m   2410\u001B[0m \n\u001B[1;32m   2411\u001B[0m \u001B[38;5;124;03m    \"\"\"\u001B[39;00m\n\u001B[1;32m   2412\u001B[0m     \u001B[38;5;28;01mreturn\u001B[39;00m _wrapreduction(a, np\u001B[38;5;241m.\u001B[39mlogical_or, \u001B[38;5;124m'\u001B[39m\u001B[38;5;124many\u001B[39m\u001B[38;5;124m'\u001B[39m, axis, \u001B[38;5;28;01mNone\u001B[39;00m, out,\n\u001B[1;32m   2413\u001B[0m                           keepdims\u001B[38;5;241m=\u001B[39mkeepdims, where\u001B[38;5;241m=\u001B[39mwhere)\n\u001B[0;32m-> 2416\u001B[0m \u001B[38;5;28;01mdef\u001B[39;00m \u001B[38;5;21m_all_dispatcher\u001B[39m(a, axis\u001B[38;5;241m=\u001B[39m\u001B[38;5;28;01mNone\u001B[39;00m, out\u001B[38;5;241m=\u001B[39m\u001B[38;5;28;01mNone\u001B[39;00m, keepdims\u001B[38;5;241m=\u001B[39m\u001B[38;5;28;01mNone\u001B[39;00m, \u001B[38;5;241m*\u001B[39m,\n\u001B[1;32m   2417\u001B[0m                     where\u001B[38;5;241m=\u001B[39m\u001B[38;5;28;01mNone\u001B[39;00m):\n\u001B[1;32m   2418\u001B[0m     \u001B[38;5;28;01mreturn\u001B[39;00m (a, where, out)\n\u001B[1;32m   2421\u001B[0m \u001B[38;5;129m@array_function_dispatch\u001B[39m(_all_dispatcher)\n\u001B[1;32m   2422\u001B[0m \u001B[38;5;28;01mdef\u001B[39;00m \u001B[38;5;21mall\u001B[39m(a, axis\u001B[38;5;241m=\u001B[39m\u001B[38;5;28;01mNone\u001B[39;00m, out\u001B[38;5;241m=\u001B[39m\u001B[38;5;28;01mNone\u001B[39;00m, keepdims\u001B[38;5;241m=\u001B[39mnp\u001B[38;5;241m.\u001B[39m_NoValue, \u001B[38;5;241m*\u001B[39m, where\u001B[38;5;241m=\u001B[39mnp\u001B[38;5;241m.\u001B[39m_NoValue):\n",
      "\u001B[0;31mKeyboardInterrupt\u001B[0m: "
     ]
    }
   ],
   "source": [
    "unknown_tao_tree_build(k, window, data, tree1)"
   ],
   "metadata": {
    "collapsed": false,
    "ExecuteTime": {
     "end_time": "2024-03-24T22:25:08.785204Z",
     "start_time": "2024-03-24T22:25:07.146259Z"
    }
   },
   "id": "9b78f8f820cb0fc0",
   "execution_count": 60
  },
  {
   "cell_type": "code",
   "outputs": [],
   "source": [],
   "metadata": {
    "collapsed": false,
    "ExecuteTime": {
     "end_time": "2024-03-24T21:54:37.144738Z",
     "start_time": "2024-03-24T21:54:37.143490Z"
    }
   },
   "id": "3a689e7ded5fb182",
   "execution_count": 12
  },
  {
   "cell_type": "code",
   "outputs": [],
   "source": [],
   "metadata": {
    "collapsed": false,
    "ExecuteTime": {
     "end_time": "2024-03-24T21:54:37.148128Z",
     "start_time": "2024-03-24T21:54:37.146900Z"
    }
   },
   "id": "e66cd9008a80a953",
   "execution_count": 12
  }
 ],
 "metadata": {
  "kernelspec": {
   "display_name": "Python 3",
   "language": "python",
   "name": "python3"
  },
  "language_info": {
   "codemirror_mode": {
    "name": "ipython",
    "version": 2
   },
   "file_extension": ".py",
   "mimetype": "text/x-python",
   "name": "python",
   "nbconvert_exporter": "python",
   "pygments_lexer": "ipython2",
   "version": "2.7.6"
  }
 },
 "nbformat": 4,
 "nbformat_minor": 5
}
