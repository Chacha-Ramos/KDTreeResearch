{
 "cells": [
  {
   "cell_type": "code",
   "execution_count": 45,
   "id": "initial_id",
   "metadata": {
    "collapsed": true,
    "ExecuteTime": {
     "end_time": "2024-03-11T00:44:09.739587Z",
     "start_time": "2024-03-11T00:44:09.736066Z"
    }
   },
   "outputs": [],
   "source": [
    "import numpy as np\n",
    "import pandas as pd\n",
    "from BasketballTree import Datapoint\n",
    "from BasketballTree import KDTree\n",
    "from BasketballTree import Node"
   ]
  },
  {
   "cell_type": "code",
   "outputs": [
    {
     "data": {
      "text/plain": "        pid     gs gspos  minutes  fg   fga  fg3  fg3a  ft  fta  ...  tovers  \\\n0       500  False  None      0.0   0   0.0  0.0   0.0   4    0  ...     0.0   \n1       502  False  None      0.0   2   0.0  0.0   0.0   0    0  ...     0.0   \n2       503  False  None      0.0   1   0.0  0.0   0.0   0    0  ...     0.0   \n3       504  False  None      0.0   0   0.0  0.0   0.0   0    0  ...     0.0   \n4       505  False  None      0.0   0   0.0  0.0   0.0   0    0  ...     0.0   \n...     ...    ...   ...      ...  ..   ...  ...   ...  ..  ...  ...     ...   \n24133  2774   True     f     31.0   7  14.0  1.0   4.0   1    2  ...     2.0   \n24134  2757   True     g     33.0   5  13.0  5.0  11.0   4    4  ...     4.0   \n24135  2766   True     g     33.0  11  14.0  6.0   6.0   6   10  ...     3.0   \n24136  2773  False  None     24.0   3   7.0  1.0   3.0   2    2  ...     0.0   \n24137  2774   True     f     21.0   2   6.0  1.0   3.0   3    4  ...     3.0   \n\n       blk  stl  tech       fgp      fg3p   ftp  year  month  day  \n0      0.0  0.0   0.0       NaN       NaN   NaN  1906      3    2  \n1      0.0  0.0   0.0       NaN       NaN   NaN  1906      3    2  \n2      0.0  0.0   0.0       NaN       NaN   NaN  1906      3    2  \n3      0.0  0.0   0.0       NaN       NaN   NaN  1906      3    2  \n4      0.0  0.0   0.0       NaN       NaN   NaN  1906      3    2  \n...    ...  ...   ...       ...       ...   ...   ...    ...  ...  \n24133  2.0  1.0   0.0  0.500000  0.250000  0.50  2017      1   23  \n24134  0.0  1.0   1.0  0.384615  0.454545  1.00  2017      1   28  \n24135  0.0  0.0   0.0  0.785714  1.000000  0.60  2017      1   28  \n24136  0.0  0.0   0.0  0.428571  0.333333  1.00  2017      1   28  \n24137  1.0  1.0   0.0  0.333333  0.333333  0.75  2017      1   28  \n\n[24138 rows x 26 columns]",
      "text/html": "<div>\n<style scoped>\n    .dataframe tbody tr th:only-of-type {\n        vertical-align: middle;\n    }\n\n    .dataframe tbody tr th {\n        vertical-align: top;\n    }\n\n    .dataframe thead th {\n        text-align: right;\n    }\n</style>\n<table border=\"1\" class=\"dataframe\">\n  <thead>\n    <tr style=\"text-align: right;\">\n      <th></th>\n      <th>pid</th>\n      <th>gs</th>\n      <th>gspos</th>\n      <th>minutes</th>\n      <th>fg</th>\n      <th>fga</th>\n      <th>fg3</th>\n      <th>fg3a</th>\n      <th>ft</th>\n      <th>fta</th>\n      <th>...</th>\n      <th>tovers</th>\n      <th>blk</th>\n      <th>stl</th>\n      <th>tech</th>\n      <th>fgp</th>\n      <th>fg3p</th>\n      <th>ftp</th>\n      <th>year</th>\n      <th>month</th>\n      <th>day</th>\n    </tr>\n  </thead>\n  <tbody>\n    <tr>\n      <th>0</th>\n      <td>500</td>\n      <td>False</td>\n      <td>None</td>\n      <td>0.0</td>\n      <td>0</td>\n      <td>0.0</td>\n      <td>0.0</td>\n      <td>0.0</td>\n      <td>4</td>\n      <td>0</td>\n      <td>...</td>\n      <td>0.0</td>\n      <td>0.0</td>\n      <td>0.0</td>\n      <td>0.0</td>\n      <td>NaN</td>\n      <td>NaN</td>\n      <td>NaN</td>\n      <td>1906</td>\n      <td>3</td>\n      <td>2</td>\n    </tr>\n    <tr>\n      <th>1</th>\n      <td>502</td>\n      <td>False</td>\n      <td>None</td>\n      <td>0.0</td>\n      <td>2</td>\n      <td>0.0</td>\n      <td>0.0</td>\n      <td>0.0</td>\n      <td>0</td>\n      <td>0</td>\n      <td>...</td>\n      <td>0.0</td>\n      <td>0.0</td>\n      <td>0.0</td>\n      <td>0.0</td>\n      <td>NaN</td>\n      <td>NaN</td>\n      <td>NaN</td>\n      <td>1906</td>\n      <td>3</td>\n      <td>2</td>\n    </tr>\n    <tr>\n      <th>2</th>\n      <td>503</td>\n      <td>False</td>\n      <td>None</td>\n      <td>0.0</td>\n      <td>1</td>\n      <td>0.0</td>\n      <td>0.0</td>\n      <td>0.0</td>\n      <td>0</td>\n      <td>0</td>\n      <td>...</td>\n      <td>0.0</td>\n      <td>0.0</td>\n      <td>0.0</td>\n      <td>0.0</td>\n      <td>NaN</td>\n      <td>NaN</td>\n      <td>NaN</td>\n      <td>1906</td>\n      <td>3</td>\n      <td>2</td>\n    </tr>\n    <tr>\n      <th>3</th>\n      <td>504</td>\n      <td>False</td>\n      <td>None</td>\n      <td>0.0</td>\n      <td>0</td>\n      <td>0.0</td>\n      <td>0.0</td>\n      <td>0.0</td>\n      <td>0</td>\n      <td>0</td>\n      <td>...</td>\n      <td>0.0</td>\n      <td>0.0</td>\n      <td>0.0</td>\n      <td>0.0</td>\n      <td>NaN</td>\n      <td>NaN</td>\n      <td>NaN</td>\n      <td>1906</td>\n      <td>3</td>\n      <td>2</td>\n    </tr>\n    <tr>\n      <th>4</th>\n      <td>505</td>\n      <td>False</td>\n      <td>None</td>\n      <td>0.0</td>\n      <td>0</td>\n      <td>0.0</td>\n      <td>0.0</td>\n      <td>0.0</td>\n      <td>0</td>\n      <td>0</td>\n      <td>...</td>\n      <td>0.0</td>\n      <td>0.0</td>\n      <td>0.0</td>\n      <td>0.0</td>\n      <td>NaN</td>\n      <td>NaN</td>\n      <td>NaN</td>\n      <td>1906</td>\n      <td>3</td>\n      <td>2</td>\n    </tr>\n    <tr>\n      <th>...</th>\n      <td>...</td>\n      <td>...</td>\n      <td>...</td>\n      <td>...</td>\n      <td>...</td>\n      <td>...</td>\n      <td>...</td>\n      <td>...</td>\n      <td>...</td>\n      <td>...</td>\n      <td>...</td>\n      <td>...</td>\n      <td>...</td>\n      <td>...</td>\n      <td>...</td>\n      <td>...</td>\n      <td>...</td>\n      <td>...</td>\n      <td>...</td>\n      <td>...</td>\n      <td>...</td>\n    </tr>\n    <tr>\n      <th>24133</th>\n      <td>2774</td>\n      <td>True</td>\n      <td>f</td>\n      <td>31.0</td>\n      <td>7</td>\n      <td>14.0</td>\n      <td>1.0</td>\n      <td>4.0</td>\n      <td>1</td>\n      <td>2</td>\n      <td>...</td>\n      <td>2.0</td>\n      <td>2.0</td>\n      <td>1.0</td>\n      <td>0.0</td>\n      <td>0.500000</td>\n      <td>0.250000</td>\n      <td>0.50</td>\n      <td>2017</td>\n      <td>1</td>\n      <td>23</td>\n    </tr>\n    <tr>\n      <th>24134</th>\n      <td>2757</td>\n      <td>True</td>\n      <td>g</td>\n      <td>33.0</td>\n      <td>5</td>\n      <td>13.0</td>\n      <td>5.0</td>\n      <td>11.0</td>\n      <td>4</td>\n      <td>4</td>\n      <td>...</td>\n      <td>4.0</td>\n      <td>0.0</td>\n      <td>1.0</td>\n      <td>1.0</td>\n      <td>0.384615</td>\n      <td>0.454545</td>\n      <td>1.00</td>\n      <td>2017</td>\n      <td>1</td>\n      <td>28</td>\n    </tr>\n    <tr>\n      <th>24135</th>\n      <td>2766</td>\n      <td>True</td>\n      <td>g</td>\n      <td>33.0</td>\n      <td>11</td>\n      <td>14.0</td>\n      <td>6.0</td>\n      <td>6.0</td>\n      <td>6</td>\n      <td>10</td>\n      <td>...</td>\n      <td>3.0</td>\n      <td>0.0</td>\n      <td>0.0</td>\n      <td>0.0</td>\n      <td>0.785714</td>\n      <td>1.000000</td>\n      <td>0.60</td>\n      <td>2017</td>\n      <td>1</td>\n      <td>28</td>\n    </tr>\n    <tr>\n      <th>24136</th>\n      <td>2773</td>\n      <td>False</td>\n      <td>None</td>\n      <td>24.0</td>\n      <td>3</td>\n      <td>7.0</td>\n      <td>1.0</td>\n      <td>3.0</td>\n      <td>2</td>\n      <td>2</td>\n      <td>...</td>\n      <td>0.0</td>\n      <td>0.0</td>\n      <td>0.0</td>\n      <td>0.0</td>\n      <td>0.428571</td>\n      <td>0.333333</td>\n      <td>1.00</td>\n      <td>2017</td>\n      <td>1</td>\n      <td>28</td>\n    </tr>\n    <tr>\n      <th>24137</th>\n      <td>2774</td>\n      <td>True</td>\n      <td>f</td>\n      <td>21.0</td>\n      <td>2</td>\n      <td>6.0</td>\n      <td>1.0</td>\n      <td>3.0</td>\n      <td>3</td>\n      <td>4</td>\n      <td>...</td>\n      <td>3.0</td>\n      <td>1.0</td>\n      <td>1.0</td>\n      <td>0.0</td>\n      <td>0.333333</td>\n      <td>0.333333</td>\n      <td>0.75</td>\n      <td>2017</td>\n      <td>1</td>\n      <td>28</td>\n    </tr>\n  </tbody>\n</table>\n<p>24138 rows × 26 columns</p>\n</div>"
     },
     "execution_count": 46,
     "metadata": {},
     "output_type": "execute_result"
    }
   ],
   "source": [
    "df = pd.read_feather('../Datasets/DUKEMBB/duke_mbb_history_stats.feather')\n",
    "df"
   ],
   "metadata": {
    "collapsed": false,
    "ExecuteTime": {
     "end_time": "2024-03-11T00:44:09.762711Z",
     "start_time": "2024-03-11T00:44:09.741362Z"
    }
   },
   "id": "cdff960c912cbb3b",
   "execution_count": 46
  },
  {
   "cell_type": "code",
   "outputs": [
    {
     "data": {
      "text/plain": "        pid  fg  day  month  year  timestamp\n0       500   0    2      3  1906   19060302\n1       502   2    2      3  1906   19060302\n2       503   1    2      3  1906   19060302\n3       504   0    2      3  1906   19060302\n4       505   0    2      3  1906   19060302\n...     ...  ..  ...    ...   ...        ...\n24133  2774   7   23      1  2017   20170123\n24134  2757   5   28      1  2017   20170128\n24135  2766  11   28      1  2017   20170128\n24136  2773   3   28      1  2017   20170128\n24137  2774   2   28      1  2017   20170128\n\n[24138 rows x 6 columns]",
      "text/html": "<div>\n<style scoped>\n    .dataframe tbody tr th:only-of-type {\n        vertical-align: middle;\n    }\n\n    .dataframe tbody tr th {\n        vertical-align: top;\n    }\n\n    .dataframe thead th {\n        text-align: right;\n    }\n</style>\n<table border=\"1\" class=\"dataframe\">\n  <thead>\n    <tr style=\"text-align: right;\">\n      <th></th>\n      <th>pid</th>\n      <th>fg</th>\n      <th>day</th>\n      <th>month</th>\n      <th>year</th>\n      <th>timestamp</th>\n    </tr>\n  </thead>\n  <tbody>\n    <tr>\n      <th>0</th>\n      <td>500</td>\n      <td>0</td>\n      <td>2</td>\n      <td>3</td>\n      <td>1906</td>\n      <td>19060302</td>\n    </tr>\n    <tr>\n      <th>1</th>\n      <td>502</td>\n      <td>2</td>\n      <td>2</td>\n      <td>3</td>\n      <td>1906</td>\n      <td>19060302</td>\n    </tr>\n    <tr>\n      <th>2</th>\n      <td>503</td>\n      <td>1</td>\n      <td>2</td>\n      <td>3</td>\n      <td>1906</td>\n      <td>19060302</td>\n    </tr>\n    <tr>\n      <th>3</th>\n      <td>504</td>\n      <td>0</td>\n      <td>2</td>\n      <td>3</td>\n      <td>1906</td>\n      <td>19060302</td>\n    </tr>\n    <tr>\n      <th>4</th>\n      <td>505</td>\n      <td>0</td>\n      <td>2</td>\n      <td>3</td>\n      <td>1906</td>\n      <td>19060302</td>\n    </tr>\n    <tr>\n      <th>...</th>\n      <td>...</td>\n      <td>...</td>\n      <td>...</td>\n      <td>...</td>\n      <td>...</td>\n      <td>...</td>\n    </tr>\n    <tr>\n      <th>24133</th>\n      <td>2774</td>\n      <td>7</td>\n      <td>23</td>\n      <td>1</td>\n      <td>2017</td>\n      <td>20170123</td>\n    </tr>\n    <tr>\n      <th>24134</th>\n      <td>2757</td>\n      <td>5</td>\n      <td>28</td>\n      <td>1</td>\n      <td>2017</td>\n      <td>20170128</td>\n    </tr>\n    <tr>\n      <th>24135</th>\n      <td>2766</td>\n      <td>11</td>\n      <td>28</td>\n      <td>1</td>\n      <td>2017</td>\n      <td>20170128</td>\n    </tr>\n    <tr>\n      <th>24136</th>\n      <td>2773</td>\n      <td>3</td>\n      <td>28</td>\n      <td>1</td>\n      <td>2017</td>\n      <td>20170128</td>\n    </tr>\n    <tr>\n      <th>24137</th>\n      <td>2774</td>\n      <td>2</td>\n      <td>28</td>\n      <td>1</td>\n      <td>2017</td>\n      <td>20170128</td>\n    </tr>\n  </tbody>\n</table>\n<p>24138 rows × 6 columns</p>\n</div>"
     },
     "execution_count": 47,
     "metadata": {},
     "output_type": "execute_result"
    }
   ],
   "source": [
    "test = df[['pid', 'fg', 'day', 'month', 'year']].copy()\n",
    "test.loc[:, 'timestamp'] = test['year'].astype(str) + test['month'].astype(str).str.zfill(2) + test['day'].astype(str).str.zfill(2)\n",
    "test['timestamp'] = test['timestamp'].astype(int)\n",
    "test['fg'] = test['fg'].astype(int)\n",
    "test"
   ],
   "metadata": {
    "collapsed": false,
    "ExecuteTime": {
     "end_time": "2024-03-11T00:44:09.788048Z",
     "start_time": "2024-03-11T00:44:09.763941Z"
    }
   },
   "id": "e08b2ef73cc9cf2b",
   "execution_count": 47
  },
  {
   "cell_type": "code",
   "outputs": [],
   "source": [
    "datapoints1 = list()\n",
    "for row in test.itertuples():\n",
    "    dp1 = Datapoint(coordinate=[row.timestamp, row.fg], pid=row.pid)\n",
    "    datapoints1.append(dp1)\n",
    "\n",
    "tree1 = KDTree()\n",
    "tree1.build_tree(datapoints1)"
   ],
   "metadata": {
    "collapsed": false,
    "ExecuteTime": {
     "end_time": "2024-03-11T00:44:10.412938Z",
     "start_time": "2024-03-11T00:44:09.788874Z"
    }
   },
   "id": "7f441decb8995716",
   "execution_count": 48
  },
  {
   "cell_type": "code",
   "outputs": [
    {
     "data": {
      "text/plain": "       pid  fg  day  month  year  timestamp\n0      500   0    2      3  1906   19060302\n1      502   2    2      3  1906   19060302\n2      503   1    2      3  1906   19060302\n3      504   0    2      3  1906   19060302\n4      505   0    2      3  1906   19060302\n...    ...  ..  ...    ...   ...        ...\n17972  137   5   30     12  1972   19721230\n17973  184   3   30     12  1972   19721230\n17974  257   6   30     12  1972   19721230\n17975  281   5   30     12  1972   19721230\n17976  300   7   30     12  1972   19721230\n\n[9388 rows x 6 columns]",
      "text/html": "<div>\n<style scoped>\n    .dataframe tbody tr th:only-of-type {\n        vertical-align: middle;\n    }\n\n    .dataframe tbody tr th {\n        vertical-align: top;\n    }\n\n    .dataframe thead th {\n        text-align: right;\n    }\n</style>\n<table border=\"1\" class=\"dataframe\">\n  <thead>\n    <tr style=\"text-align: right;\">\n      <th></th>\n      <th>pid</th>\n      <th>fg</th>\n      <th>day</th>\n      <th>month</th>\n      <th>year</th>\n      <th>timestamp</th>\n    </tr>\n  </thead>\n  <tbody>\n    <tr>\n      <th>0</th>\n      <td>500</td>\n      <td>0</td>\n      <td>2</td>\n      <td>3</td>\n      <td>1906</td>\n      <td>19060302</td>\n    </tr>\n    <tr>\n      <th>1</th>\n      <td>502</td>\n      <td>2</td>\n      <td>2</td>\n      <td>3</td>\n      <td>1906</td>\n      <td>19060302</td>\n    </tr>\n    <tr>\n      <th>2</th>\n      <td>503</td>\n      <td>1</td>\n      <td>2</td>\n      <td>3</td>\n      <td>1906</td>\n      <td>19060302</td>\n    </tr>\n    <tr>\n      <th>3</th>\n      <td>504</td>\n      <td>0</td>\n      <td>2</td>\n      <td>3</td>\n      <td>1906</td>\n      <td>19060302</td>\n    </tr>\n    <tr>\n      <th>4</th>\n      <td>505</td>\n      <td>0</td>\n      <td>2</td>\n      <td>3</td>\n      <td>1906</td>\n      <td>19060302</td>\n    </tr>\n    <tr>\n      <th>...</th>\n      <td>...</td>\n      <td>...</td>\n      <td>...</td>\n      <td>...</td>\n      <td>...</td>\n      <td>...</td>\n    </tr>\n    <tr>\n      <th>17972</th>\n      <td>137</td>\n      <td>5</td>\n      <td>30</td>\n      <td>12</td>\n      <td>1972</td>\n      <td>19721230</td>\n    </tr>\n    <tr>\n      <th>17973</th>\n      <td>184</td>\n      <td>3</td>\n      <td>30</td>\n      <td>12</td>\n      <td>1972</td>\n      <td>19721230</td>\n    </tr>\n    <tr>\n      <th>17974</th>\n      <td>257</td>\n      <td>6</td>\n      <td>30</td>\n      <td>12</td>\n      <td>1972</td>\n      <td>19721230</td>\n    </tr>\n    <tr>\n      <th>17975</th>\n      <td>281</td>\n      <td>5</td>\n      <td>30</td>\n      <td>12</td>\n      <td>1972</td>\n      <td>19721230</td>\n    </tr>\n    <tr>\n      <th>17976</th>\n      <td>300</td>\n      <td>7</td>\n      <td>30</td>\n      <td>12</td>\n      <td>1972</td>\n      <td>19721230</td>\n    </tr>\n  </tbody>\n</table>\n<p>9388 rows × 6 columns</p>\n</div>"
     },
     "execution_count": 49,
     "metadata": {},
     "output_type": "execute_result"
    }
   ],
   "source": [
    "result = test.query(\"timestamp > 19060301 and timestamp < 19726197\")\n",
    "result"
   ],
   "metadata": {
    "collapsed": false,
    "ExecuteTime": {
     "end_time": "2024-03-11T00:44:10.419569Z",
     "start_time": "2024-03-11T00:44:10.414023Z"
    }
   },
   "id": "94a44bde600eaabf",
   "execution_count": 49
  },
  {
   "cell_type": "code",
   "outputs": [],
   "source": [
    "c_nodes = tree1.query_canonical( ([19060302, 0], [19361211, 2]) )"
   ],
   "metadata": {
    "collapsed": false,
    "ExecuteTime": {
     "end_time": "2024-03-11T00:44:10.422540Z",
     "start_time": "2024-03-11T00:44:10.420410Z"
    }
   },
   "id": "2766d391f56f5c92",
   "execution_count": 50
  },
  {
   "cell_type": "code",
   "outputs": [],
   "source": [
    "def print_nodes(nodes: list[Node]):\n",
    "    if len(nodes) == 0:\n",
    "        return\n",
    "    for node in nodes:\n",
    "        if node.datapoint is not None:\n",
    "            print(node.datapoint.coordinate, node.datapoint.kwargs['pid'])\n",
    "        else:\n",
    "            print_nodes([node.left_child])\n",
    "            print_nodes([node.right_child])\n",
    "            "
   ],
   "metadata": {
    "collapsed": false,
    "ExecuteTime": {
     "end_time": "2024-03-11T00:44:10.425186Z",
     "start_time": "2024-03-11T00:44:10.423107Z"
    }
   },
   "id": "f883f85966432109",
   "execution_count": 51
  },
  {
   "cell_type": "code",
   "outputs": [
    {
     "name": "stdout",
     "output_type": "stream",
     "text": [
      "[19060302, 0] 500\n",
      "[19060302, 0] 504\n",
      "[19060302, 0] 505\n",
      "[19060302, 0] 506\n",
      "[19060302, 1] 503\n",
      "[19060302, 2] 502\n",
      "[19361211, 0] 185\n",
      "[19361211, 0] 343\n",
      "[19361211, 0] 421\n",
      "[19361211, 1] 77\n",
      "[19361211, 1] 178\n",
      "[19361211, 1] 263\n",
      "[19361211, 1] 290\n",
      "[19361211, 2] 340\n"
     ]
    }
   ],
   "source": [
    "print_nodes(c_nodes)"
   ],
   "metadata": {
    "collapsed": false,
    "ExecuteTime": {
     "end_time": "2024-03-11T00:44:10.427787Z",
     "start_time": "2024-03-11T00:44:10.426085Z"
    }
   },
   "id": "942f7246666b3d7",
   "execution_count": 52
  },
  {
   "cell_type": "code",
   "outputs": [
    {
     "data": {
      "text/plain": "        pid  fg  day  month  year  timestamp\n0       500   0    2      3  1906   19060302\n1       502   2    2      3  1906   19060302\n2       503   1    2      3  1906   19060302\n3       504   0    2      3  1906   19060302\n4       505   0    2      3  1906   19060302\n...     ...  ..  ...    ...   ...        ...\n24133  2774   7   23      1  2017   20170123\n24134  2757   5   28      1  2017   20170128\n24135  2766  11   28      1  2017   20170128\n24136  2773   3   28      1  2017   20170128\n24137  2774   2   28      1  2017   20170128\n\n[24138 rows x 6 columns]",
      "text/html": "<div>\n<style scoped>\n    .dataframe tbody tr th:only-of-type {\n        vertical-align: middle;\n    }\n\n    .dataframe tbody tr th {\n        vertical-align: top;\n    }\n\n    .dataframe thead th {\n        text-align: right;\n    }\n</style>\n<table border=\"1\" class=\"dataframe\">\n  <thead>\n    <tr style=\"text-align: right;\">\n      <th></th>\n      <th>pid</th>\n      <th>fg</th>\n      <th>day</th>\n      <th>month</th>\n      <th>year</th>\n      <th>timestamp</th>\n    </tr>\n  </thead>\n  <tbody>\n    <tr>\n      <th>0</th>\n      <td>500</td>\n      <td>0</td>\n      <td>2</td>\n      <td>3</td>\n      <td>1906</td>\n      <td>19060302</td>\n    </tr>\n    <tr>\n      <th>1</th>\n      <td>502</td>\n      <td>2</td>\n      <td>2</td>\n      <td>3</td>\n      <td>1906</td>\n      <td>19060302</td>\n    </tr>\n    <tr>\n      <th>2</th>\n      <td>503</td>\n      <td>1</td>\n      <td>2</td>\n      <td>3</td>\n      <td>1906</td>\n      <td>19060302</td>\n    </tr>\n    <tr>\n      <th>3</th>\n      <td>504</td>\n      <td>0</td>\n      <td>2</td>\n      <td>3</td>\n      <td>1906</td>\n      <td>19060302</td>\n    </tr>\n    <tr>\n      <th>4</th>\n      <td>505</td>\n      <td>0</td>\n      <td>2</td>\n      <td>3</td>\n      <td>1906</td>\n      <td>19060302</td>\n    </tr>\n    <tr>\n      <th>...</th>\n      <td>...</td>\n      <td>...</td>\n      <td>...</td>\n      <td>...</td>\n      <td>...</td>\n      <td>...</td>\n    </tr>\n    <tr>\n      <th>24133</th>\n      <td>2774</td>\n      <td>7</td>\n      <td>23</td>\n      <td>1</td>\n      <td>2017</td>\n      <td>20170123</td>\n    </tr>\n    <tr>\n      <th>24134</th>\n      <td>2757</td>\n      <td>5</td>\n      <td>28</td>\n      <td>1</td>\n      <td>2017</td>\n      <td>20170128</td>\n    </tr>\n    <tr>\n      <th>24135</th>\n      <td>2766</td>\n      <td>11</td>\n      <td>28</td>\n      <td>1</td>\n      <td>2017</td>\n      <td>20170128</td>\n    </tr>\n    <tr>\n      <th>24136</th>\n      <td>2773</td>\n      <td>3</td>\n      <td>28</td>\n      <td>1</td>\n      <td>2017</td>\n      <td>20170128</td>\n    </tr>\n    <tr>\n      <th>24137</th>\n      <td>2774</td>\n      <td>2</td>\n      <td>28</td>\n      <td>1</td>\n      <td>2017</td>\n      <td>20170128</td>\n    </tr>\n  </tbody>\n</table>\n<p>24138 rows × 6 columns</p>\n</div>"
     },
     "execution_count": 53,
     "metadata": {},
     "output_type": "execute_result"
    }
   ],
   "source": [
    "k = 5\n",
    "window = [19060302 , 19726197]\n",
    "data = df[['pid', 'fg', 'day', 'month', 'year']].copy()\n",
    "data.loc[:, 'timestamp'] = data['year'].astype(str) + data['month'].astype(str).str.zfill(2) + data['day'].astype(str).str.zfill(2)\n",
    "data['timestamp'] = data['timestamp'].astype(int)\n",
    "data['fg'] = data['fg'].astype(int)\n",
    "data"
   ],
   "metadata": {
    "collapsed": false,
    "ExecuteTime": {
     "end_time": "2024-03-11T00:44:10.450264Z",
     "start_time": "2024-03-11T00:44:10.428592Z"
    }
   },
   "id": "9a6da2c1b08772b8",
   "execution_count": 53
  },
  {
   "cell_type": "code",
   "outputs": [],
   "source": [
    "def check_longest_tao(k: int, starting_value: float, starting_timestamp: float, ending_timestamp: float, timestamps: np.ndarray, tree: KDTree ) -> float:\n",
    "    canonical_nodes = tree.query_canonical( [[starting_timestamp, starting_value], [timestamps[ending_timestamp], 9999]] )\n",
    "    if len(canonical_nodes) == 0:\n",
    "        return 0\n",
    "    points_above = 0\n",
    "    for node in canonical_nodes:\n",
    "        points_above += node.children if node.children > 0 else 1\n",
    "        if points_above > k:\n",
    "            mid = len(timestamps) // 2\n",
    "            return check_longest_tao(k, starting_value, starting_timestamp, timestamps, tree)\n",
    "    \n",
    "    return 0\n",
    "\n",
    "\n",
    "def unknown_tao_tree_build(k: int, window: list, data: pd.DataFrame, tree: KDTree) -> KDTree or None:\n",
    "    data = data.query(f\"timestamp > {window[0]} and timestamp < {window[1]}\")\n",
    "    unique_timestamps = data.timestamp.unique()\n",
    "    unique_timestamps = sorted(unique_timestamps)\n",
    "    for row in data.itertuples():\n",
    "        timestamp_index = unique_timestamps.index(row.timestamp)\n",
    "        timestamps = unique_timestamps[timestamp_index:]\n",
    "        check_longest_tao(k, row.fg, row.timestamp, len(timestamps), timestamps, tree)\n",
    "        # print(row)"
   ],
   "metadata": {
    "collapsed": false,
    "ExecuteTime": {
     "end_time": "2024-03-11T00:48:25.668656Z",
     "start_time": "2024-03-11T00:48:25.665645Z"
    }
   },
   "id": "1cc79edcd486eac4",
   "execution_count": 60
  },
  {
   "cell_type": "code",
   "outputs": [],
   "source": [
    "unknown_tao_tree_build(k, window, data, tree1)"
   ],
   "metadata": {
    "collapsed": false,
    "ExecuteTime": {
     "end_time": "2024-03-11T00:48:26.143366Z",
     "start_time": "2024-03-11T00:48:26.020853Z"
    }
   },
   "id": "9b78f8f820cb0fc0",
   "execution_count": 61
  },
  {
   "cell_type": "code",
   "outputs": [],
   "source": [],
   "metadata": {
    "collapsed": false,
    "ExecuteTime": {
     "end_time": "2024-03-11T00:44:10.492628Z",
     "start_time": "2024-03-11T00:44:10.491411Z"
    }
   },
   "id": "3a689e7ded5fb182",
   "execution_count": 55
  }
 ],
 "metadata": {
  "kernelspec": {
   "display_name": "Python 3",
   "language": "python",
   "name": "python3"
  },
  "language_info": {
   "codemirror_mode": {
    "name": "ipython",
    "version": 2
   },
   "file_extension": ".py",
   "mimetype": "text/x-python",
   "name": "python",
   "nbconvert_exporter": "python",
   "pygments_lexer": "ipython2",
   "version": "2.7.6"
  }
 },
 "nbformat": 4,
 "nbformat_minor": 5
}
