{
 "cells": [
  {
   "cell_type": "code",
   "execution_count": 1,
   "id": "initial_id",
   "metadata": {
    "collapsed": true,
    "ExecuteTime": {
     "end_time": "2024-03-04T22:36:11.055644Z",
     "start_time": "2024-03-04T22:36:11.052200Z"
    }
   },
   "outputs": [],
   "source": [
    "import random\n",
    "import numpy as np\n",
    "import matplotlib.pyplot as plt\n",
    "from KDTree import Datapoint\n",
    "from KDTree import KDTree\n",
    "import pandas as pd"
   ]
  },
  {
   "cell_type": "markdown",
   "source": [
    "Creation of csv file from text file"
   ],
   "metadata": {
    "collapsed": false
   },
   "id": "1f778344184f73db"
  },
  {
   "cell_type": "code",
   "outputs": [],
   "source": [
    "f = open('input_database.txt', 'r')\n",
    "sr = None\n",
    "color = 0\n",
    "data = [[\"X\", \"Y\", \"Color\"]]\n",
    "\n",
    "for line in f:\n",
    "    if line[0] == \"*\":\n",
    "        continue\n",
    "    if len(line) == 2:\n",
    "        color = int(line)\n",
    "        continue\n",
    "    format_string = line[1:-2]\n",
    "    div = format_string.split(',')\n",
    "    data.append([float(div[0]), float(div[1]), color])"
   ],
   "metadata": {
    "collapsed": false
   },
   "id": "e6681cfc53dbb969",
   "execution_count": null
  },
  {
   "cell_type": "code",
   "outputs": [],
   "source": [
    "import csv\n",
    "with open(\"data.csv\", \"w\", newline=\"\") as csvfile:\n",
    "    # Create a csv writer object\n",
    "    writer = csv.writer(csvfile)\n",
    "    # Write each row of data\n",
    "    for row in data:\n",
    "        writer.writerow(row)"
   ],
   "metadata": {
    "collapsed": false
   },
   "id": "d3c85e14705db913",
   "execution_count": null
  },
  {
   "cell_type": "markdown",
   "source": [
    "Open Dataframe"
   ],
   "metadata": {
    "collapsed": false
   },
   "id": "b98b5f19657652ec"
  },
  {
   "cell_type": "code",
   "outputs": [
    {
     "data": {
      "text/plain": "                    X             Y  Color\n0         7720.982199  78867.188540      0\n1        89627.028825  70071.537547      0\n2        84361.871932  97117.551705      0\n3        28595.067689  87388.534848      0\n4        79024.626051  66595.629925      0\n...               ...           ...    ...\n4110603  83068.359093  92309.391363      4\n4110604  99697.775868  81796.458117      4\n4110605  84735.387977  94289.931123      4\n4110606  31389.814557  45703.015010      4\n4110607  91647.217629  84396.672664      4\n\n[4110608 rows x 3 columns]",
      "text/html": "<div>\n<style scoped>\n    .dataframe tbody tr th:only-of-type {\n        vertical-align: middle;\n    }\n\n    .dataframe tbody tr th {\n        vertical-align: top;\n    }\n\n    .dataframe thead th {\n        text-align: right;\n    }\n</style>\n<table border=\"1\" class=\"dataframe\">\n  <thead>\n    <tr style=\"text-align: right;\">\n      <th></th>\n      <th>X</th>\n      <th>Y</th>\n      <th>Color</th>\n    </tr>\n  </thead>\n  <tbody>\n    <tr>\n      <th>0</th>\n      <td>7720.982199</td>\n      <td>78867.188540</td>\n      <td>0</td>\n    </tr>\n    <tr>\n      <th>1</th>\n      <td>89627.028825</td>\n      <td>70071.537547</td>\n      <td>0</td>\n    </tr>\n    <tr>\n      <th>2</th>\n      <td>84361.871932</td>\n      <td>97117.551705</td>\n      <td>0</td>\n    </tr>\n    <tr>\n      <th>3</th>\n      <td>28595.067689</td>\n      <td>87388.534848</td>\n      <td>0</td>\n    </tr>\n    <tr>\n      <th>4</th>\n      <td>79024.626051</td>\n      <td>66595.629925</td>\n      <td>0</td>\n    </tr>\n    <tr>\n      <th>...</th>\n      <td>...</td>\n      <td>...</td>\n      <td>...</td>\n    </tr>\n    <tr>\n      <th>4110603</th>\n      <td>83068.359093</td>\n      <td>92309.391363</td>\n      <td>4</td>\n    </tr>\n    <tr>\n      <th>4110604</th>\n      <td>99697.775868</td>\n      <td>81796.458117</td>\n      <td>4</td>\n    </tr>\n    <tr>\n      <th>4110605</th>\n      <td>84735.387977</td>\n      <td>94289.931123</td>\n      <td>4</td>\n    </tr>\n    <tr>\n      <th>4110606</th>\n      <td>31389.814557</td>\n      <td>45703.015010</td>\n      <td>4</td>\n    </tr>\n    <tr>\n      <th>4110607</th>\n      <td>91647.217629</td>\n      <td>84396.672664</td>\n      <td>4</td>\n    </tr>\n  </tbody>\n</table>\n<p>4110608 rows × 3 columns</p>\n</div>"
     },
     "execution_count": 2,
     "metadata": {},
     "output_type": "execute_result"
    }
   ],
   "source": [
    "df = pd.read_feather('../Datasets/big_data.feather')\n",
    "df"
   ],
   "metadata": {
    "collapsed": false,
    "ExecuteTime": {
     "end_time": "2024-03-04T22:36:13.609538Z",
     "start_time": "2024-03-04T22:36:13.550364Z"
    }
   },
   "id": "e0b0728371f08d45",
   "execution_count": 2
  },
  {
   "cell_type": "code",
   "outputs": [
    {
     "ename": "KeyboardInterrupt",
     "evalue": "",
     "output_type": "error",
     "traceback": [
      "\u001B[0;31m---------------------------------------------------------------------------\u001B[0m",
      "\u001B[0;31mKeyboardInterrupt\u001B[0m                         Traceback (most recent call last)",
      "Cell \u001B[0;32mIn[3], line 2\u001B[0m\n\u001B[1;32m      1\u001B[0m \u001B[38;5;28;01mimport\u001B[39;00m \u001B[38;5;21;01mseaborn\u001B[39;00m \u001B[38;5;28;01mas\u001B[39;00m \u001B[38;5;21;01msns\u001B[39;00m\n\u001B[0;32m----> 2\u001B[0m \u001B[43msns\u001B[49m\u001B[38;5;241;43m.\u001B[39;49m\u001B[43mrelplot\u001B[49m\u001B[43m(\u001B[49m\u001B[43mdata\u001B[49m\u001B[38;5;241;43m=\u001B[39;49m\u001B[43mdf\u001B[49m\u001B[43m,\u001B[49m\u001B[43m \u001B[49m\u001B[43mx\u001B[49m\u001B[38;5;241;43m=\u001B[39;49m\u001B[38;5;124;43m\"\u001B[39;49m\u001B[38;5;124;43mX\u001B[39;49m\u001B[38;5;124;43m\"\u001B[39;49m\u001B[43m,\u001B[49m\u001B[43m \u001B[49m\u001B[43my\u001B[49m\u001B[38;5;241;43m=\u001B[39;49m\u001B[38;5;124;43m\"\u001B[39;49m\u001B[38;5;124;43mY\u001B[39;49m\u001B[38;5;124;43m\"\u001B[39;49m\u001B[43m,\u001B[49m\u001B[43m \u001B[49m\u001B[43mhue\u001B[49m\u001B[38;5;241;43m=\u001B[39;49m\u001B[38;5;124;43m\"\u001B[39;49m\u001B[38;5;124;43mColor\u001B[39;49m\u001B[38;5;124;43m\"\u001B[39;49m\u001B[43m)\u001B[49m\n",
      "File \u001B[0;32m~/mambaforge/lib/python3.11/site-packages/seaborn/relational.py:838\u001B[0m, in \u001B[0;36mrelplot\u001B[0;34m(data, x, y, hue, size, style, units, weights, row, col, col_wrap, row_order, col_order, palette, hue_order, hue_norm, sizes, size_order, size_norm, markers, dashes, style_order, legend, kind, height, aspect, facet_kws, **kwargs)\u001B[0m\n\u001B[1;32m    829\u001B[0m g \u001B[38;5;241m=\u001B[39m FacetGrid(\n\u001B[1;32m    830\u001B[0m     data\u001B[38;5;241m=\u001B[39mfull_data\u001B[38;5;241m.\u001B[39mdropna(axis\u001B[38;5;241m=\u001B[39m\u001B[38;5;241m1\u001B[39m, how\u001B[38;5;241m=\u001B[39m\u001B[38;5;124m\"\u001B[39m\u001B[38;5;124mall\u001B[39m\u001B[38;5;124m\"\u001B[39m),\n\u001B[1;32m    831\u001B[0m     \u001B[38;5;241m*\u001B[39m\u001B[38;5;241m*\u001B[39mgrid_kws,\n\u001B[0;32m   (...)\u001B[0m\n\u001B[1;32m    834\u001B[0m     \u001B[38;5;241m*\u001B[39m\u001B[38;5;241m*\u001B[39mfacet_kws\n\u001B[1;32m    835\u001B[0m )\n\u001B[1;32m    837\u001B[0m \u001B[38;5;66;03m# Draw the plot\u001B[39;00m\n\u001B[0;32m--> 838\u001B[0m \u001B[43mg\u001B[49m\u001B[38;5;241;43m.\u001B[39;49m\u001B[43mmap_dataframe\u001B[49m\u001B[43m(\u001B[49m\u001B[43mfunc\u001B[49m\u001B[43m,\u001B[49m\u001B[43m \u001B[49m\u001B[38;5;241;43m*\u001B[39;49m\u001B[38;5;241;43m*\u001B[39;49m\u001B[43mplot_kws\u001B[49m\u001B[43m)\u001B[49m\n\u001B[1;32m    840\u001B[0m \u001B[38;5;66;03m# Label the axes, using the original variables\u001B[39;00m\n\u001B[1;32m    841\u001B[0m \u001B[38;5;66;03m# Pass \"\" when the variable name is None to overwrite internal variables\u001B[39;00m\n\u001B[1;32m    842\u001B[0m g\u001B[38;5;241m.\u001B[39mset_axis_labels(variables\u001B[38;5;241m.\u001B[39mget(\u001B[38;5;124m\"\u001B[39m\u001B[38;5;124mx\u001B[39m\u001B[38;5;124m\"\u001B[39m) \u001B[38;5;129;01mor\u001B[39;00m \u001B[38;5;124m\"\u001B[39m\u001B[38;5;124m\"\u001B[39m, variables\u001B[38;5;241m.\u001B[39mget(\u001B[38;5;124m\"\u001B[39m\u001B[38;5;124my\u001B[39m\u001B[38;5;124m\"\u001B[39m) \u001B[38;5;129;01mor\u001B[39;00m \u001B[38;5;124m\"\u001B[39m\u001B[38;5;124m\"\u001B[39m)\n",
      "File \u001B[0;32m~/mambaforge/lib/python3.11/site-packages/seaborn/axisgrid.py:825\u001B[0m, in \u001B[0;36mFacetGrid.map_dataframe\u001B[0;34m(self, func, *args, **kwargs)\u001B[0m\n\u001B[1;32m    822\u001B[0m     kwargs[\u001B[38;5;124m\"\u001B[39m\u001B[38;5;124mdata\u001B[39m\u001B[38;5;124m\"\u001B[39m] \u001B[38;5;241m=\u001B[39m data_ijk\n\u001B[1;32m    824\u001B[0m     \u001B[38;5;66;03m# Draw the plot\u001B[39;00m\n\u001B[0;32m--> 825\u001B[0m     \u001B[38;5;28;43mself\u001B[39;49m\u001B[38;5;241;43m.\u001B[39;49m\u001B[43m_facet_plot\u001B[49m\u001B[43m(\u001B[49m\u001B[43mfunc\u001B[49m\u001B[43m,\u001B[49m\u001B[43m \u001B[49m\u001B[43max\u001B[49m\u001B[43m,\u001B[49m\u001B[43m \u001B[49m\u001B[43margs\u001B[49m\u001B[43m,\u001B[49m\u001B[43m \u001B[49m\u001B[43mkwargs\u001B[49m\u001B[43m)\u001B[49m\n\u001B[1;32m    827\u001B[0m \u001B[38;5;66;03m# For axis labels, prefer to use positional args for backcompat\u001B[39;00m\n\u001B[1;32m    828\u001B[0m \u001B[38;5;66;03m# but also extract the x/y kwargs and use if no corresponding arg\u001B[39;00m\n\u001B[1;32m    829\u001B[0m axis_labels \u001B[38;5;241m=\u001B[39m [kwargs\u001B[38;5;241m.\u001B[39mget(\u001B[38;5;124m\"\u001B[39m\u001B[38;5;124mx\u001B[39m\u001B[38;5;124m\"\u001B[39m, \u001B[38;5;28;01mNone\u001B[39;00m), kwargs\u001B[38;5;241m.\u001B[39mget(\u001B[38;5;124m\"\u001B[39m\u001B[38;5;124my\u001B[39m\u001B[38;5;124m\"\u001B[39m, \u001B[38;5;28;01mNone\u001B[39;00m)]\n",
      "File \u001B[0;32m~/mambaforge/lib/python3.11/site-packages/seaborn/axisgrid.py:854\u001B[0m, in \u001B[0;36mFacetGrid._facet_plot\u001B[0;34m(self, func, ax, plot_args, plot_kwargs)\u001B[0m\n\u001B[1;32m    852\u001B[0m     plot_args \u001B[38;5;241m=\u001B[39m []\n\u001B[1;32m    853\u001B[0m     plot_kwargs[\u001B[38;5;124m\"\u001B[39m\u001B[38;5;124max\u001B[39m\u001B[38;5;124m\"\u001B[39m] \u001B[38;5;241m=\u001B[39m ax\n\u001B[0;32m--> 854\u001B[0m \u001B[43mfunc\u001B[49m\u001B[43m(\u001B[49m\u001B[38;5;241;43m*\u001B[39;49m\u001B[43mplot_args\u001B[49m\u001B[43m,\u001B[49m\u001B[43m \u001B[49m\u001B[38;5;241;43m*\u001B[39;49m\u001B[38;5;241;43m*\u001B[39;49m\u001B[43mplot_kwargs\u001B[49m\u001B[43m)\u001B[49m\n\u001B[1;32m    856\u001B[0m \u001B[38;5;66;03m# Sort out the supporting information\u001B[39;00m\n\u001B[1;32m    857\u001B[0m \u001B[38;5;28mself\u001B[39m\u001B[38;5;241m.\u001B[39m_update_legend_data(ax)\n",
      "File \u001B[0;32m~/mambaforge/lib/python3.11/site-packages/seaborn/relational.py:636\u001B[0m, in \u001B[0;36mscatterplot\u001B[0;34m(data, x, y, hue, size, style, palette, hue_order, hue_norm, sizes, size_order, size_norm, markers, style_order, legend, ax, **kwargs)\u001B[0m\n\u001B[1;32m    633\u001B[0m color \u001B[38;5;241m=\u001B[39m kwargs\u001B[38;5;241m.\u001B[39mpop(\u001B[38;5;124m\"\u001B[39m\u001B[38;5;124mcolor\u001B[39m\u001B[38;5;124m\"\u001B[39m, \u001B[38;5;28;01mNone\u001B[39;00m)\n\u001B[1;32m    634\u001B[0m kwargs[\u001B[38;5;124m\"\u001B[39m\u001B[38;5;124mcolor\u001B[39m\u001B[38;5;124m\"\u001B[39m] \u001B[38;5;241m=\u001B[39m _default_color(ax\u001B[38;5;241m.\u001B[39mscatter, hue, color, kwargs)\n\u001B[0;32m--> 636\u001B[0m \u001B[43mp\u001B[49m\u001B[38;5;241;43m.\u001B[39;49m\u001B[43mplot\u001B[49m\u001B[43m(\u001B[49m\u001B[43max\u001B[49m\u001B[43m,\u001B[49m\u001B[43m \u001B[49m\u001B[43mkwargs\u001B[49m\u001B[43m)\u001B[49m\n\u001B[1;32m    638\u001B[0m \u001B[38;5;28;01mreturn\u001B[39;00m ax\n",
      "File \u001B[0;32m~/mambaforge/lib/python3.11/site-packages/seaborn/relational.py:443\u001B[0m, in \u001B[0;36m_ScatterPlotter.plot\u001B[0;34m(self, ax, kws)\u001B[0m\n\u001B[1;32m    440\u001B[0m \u001B[38;5;66;03m# Apply the mapping from semantic variables to artist attributes\u001B[39;00m\n\u001B[1;32m    442\u001B[0m \u001B[38;5;28;01mif\u001B[39;00m \u001B[38;5;124m\"\u001B[39m\u001B[38;5;124mhue\u001B[39m\u001B[38;5;124m\"\u001B[39m \u001B[38;5;129;01min\u001B[39;00m \u001B[38;5;28mself\u001B[39m\u001B[38;5;241m.\u001B[39mvariables:\n\u001B[0;32m--> 443\u001B[0m     \u001B[43mpoints\u001B[49m\u001B[38;5;241;43m.\u001B[39;49m\u001B[43mset_facecolors\u001B[49m\u001B[43m(\u001B[49m\u001B[38;5;28;43mself\u001B[39;49m\u001B[38;5;241;43m.\u001B[39;49m\u001B[43m_hue_map\u001B[49m\u001B[43m(\u001B[49m\u001B[43mdata\u001B[49m\u001B[43m[\u001B[49m\u001B[38;5;124;43m\"\u001B[39;49m\u001B[38;5;124;43mhue\u001B[39;49m\u001B[38;5;124;43m\"\u001B[39;49m\u001B[43m]\u001B[49m\u001B[43m)\u001B[49m\u001B[43m)\u001B[49m\n\u001B[1;32m    445\u001B[0m \u001B[38;5;28;01mif\u001B[39;00m \u001B[38;5;124m\"\u001B[39m\u001B[38;5;124msize\u001B[39m\u001B[38;5;124m\"\u001B[39m \u001B[38;5;129;01min\u001B[39;00m \u001B[38;5;28mself\u001B[39m\u001B[38;5;241m.\u001B[39mvariables:\n\u001B[1;32m    446\u001B[0m     points\u001B[38;5;241m.\u001B[39mset_sizes(\u001B[38;5;28mself\u001B[39m\u001B[38;5;241m.\u001B[39m_size_map(data[\u001B[38;5;124m\"\u001B[39m\u001B[38;5;124msize\u001B[39m\u001B[38;5;124m\"\u001B[39m]))\n",
      "File \u001B[0;32m~/mambaforge/lib/python3.11/site-packages/matplotlib/_api/__init__.py:247\u001B[0m, in \u001B[0;36mdefine_aliases.<locals>.make_alias.<locals>.method\u001B[0;34m(self, *args, **kwargs)\u001B[0m\n\u001B[1;32m    245\u001B[0m \u001B[38;5;129m@functools\u001B[39m\u001B[38;5;241m.\u001B[39mwraps(\u001B[38;5;28mgetattr\u001B[39m(\u001B[38;5;28mcls\u001B[39m, name))\n\u001B[1;32m    246\u001B[0m \u001B[38;5;28;01mdef\u001B[39;00m \u001B[38;5;21mmethod\u001B[39m(\u001B[38;5;28mself\u001B[39m, \u001B[38;5;241m*\u001B[39margs, \u001B[38;5;241m*\u001B[39m\u001B[38;5;241m*\u001B[39mkwargs):\n\u001B[0;32m--> 247\u001B[0m     \u001B[38;5;28;01mreturn\u001B[39;00m \u001B[38;5;28;43mgetattr\u001B[39;49m\u001B[43m(\u001B[49m\u001B[38;5;28;43mself\u001B[39;49m\u001B[43m,\u001B[49m\u001B[43m \u001B[49m\u001B[43mname\u001B[49m\u001B[43m)\u001B[49m\u001B[43m(\u001B[49m\u001B[38;5;241;43m*\u001B[39;49m\u001B[43margs\u001B[49m\u001B[43m,\u001B[49m\u001B[43m \u001B[49m\u001B[38;5;241;43m*\u001B[39;49m\u001B[38;5;241;43m*\u001B[39;49m\u001B[43mkwargs\u001B[49m\u001B[43m)\u001B[49m\n",
      "File \u001B[0;32m~/mambaforge/lib/python3.11/site-packages/matplotlib/collections.py:784\u001B[0m, in \u001B[0;36mCollection.set_facecolor\u001B[0;34m(self, c)\u001B[0m\n\u001B[1;32m    782\u001B[0m     c \u001B[38;5;241m=\u001B[39m c\u001B[38;5;241m.\u001B[39mlower()\n\u001B[1;32m    783\u001B[0m \u001B[38;5;28mself\u001B[39m\u001B[38;5;241m.\u001B[39m_original_facecolor \u001B[38;5;241m=\u001B[39m c\n\u001B[0;32m--> 784\u001B[0m \u001B[38;5;28;43mself\u001B[39;49m\u001B[38;5;241;43m.\u001B[39;49m\u001B[43m_set_facecolor\u001B[49m\u001B[43m(\u001B[49m\u001B[43mc\u001B[49m\u001B[43m)\u001B[49m\n",
      "File \u001B[0;32m~/mambaforge/lib/python3.11/site-packages/matplotlib/collections.py:766\u001B[0m, in \u001B[0;36mCollection._set_facecolor\u001B[0;34m(self, c)\u001B[0m\n\u001B[1;32m    763\u001B[0m \u001B[38;5;28;01mif\u001B[39;00m c \u001B[38;5;129;01mis\u001B[39;00m \u001B[38;5;28;01mNone\u001B[39;00m:\n\u001B[1;32m    764\u001B[0m     c \u001B[38;5;241m=\u001B[39m \u001B[38;5;28mself\u001B[39m\u001B[38;5;241m.\u001B[39m_get_default_facecolor()\n\u001B[0;32m--> 766\u001B[0m \u001B[38;5;28mself\u001B[39m\u001B[38;5;241m.\u001B[39m_facecolors \u001B[38;5;241m=\u001B[39m \u001B[43mmcolors\u001B[49m\u001B[38;5;241;43m.\u001B[39;49m\u001B[43mto_rgba_array\u001B[49m\u001B[43m(\u001B[49m\u001B[43mc\u001B[49m\u001B[43m,\u001B[49m\u001B[43m \u001B[49m\u001B[38;5;28;43mself\u001B[39;49m\u001B[38;5;241;43m.\u001B[39;49m\u001B[43m_alpha\u001B[49m\u001B[43m)\u001B[49m\n\u001B[1;32m    767\u001B[0m \u001B[38;5;28mself\u001B[39m\u001B[38;5;241m.\u001B[39mstale \u001B[38;5;241m=\u001B[39m \u001B[38;5;28;01mTrue\u001B[39;00m\n",
      "File \u001B[0;32m~/mambaforge/lib/python3.11/site-packages/matplotlib/colors.py:503\u001B[0m, in \u001B[0;36mto_rgba_array\u001B[0;34m(c, alpha)\u001B[0m\n\u001B[1;32m    501\u001B[0m         rgba \u001B[38;5;241m=\u001B[39m np\u001B[38;5;241m.\u001B[39marray(c)\n\u001B[1;32m    502\u001B[0m     \u001B[38;5;28;01melse\u001B[39;00m:\n\u001B[0;32m--> 503\u001B[0m         rgba \u001B[38;5;241m=\u001B[39m np\u001B[38;5;241m.\u001B[39marray(\u001B[43m[\u001B[49m\u001B[43mto_rgba\u001B[49m\u001B[43m(\u001B[49m\u001B[43mcc\u001B[49m\u001B[43m)\u001B[49m\u001B[43m \u001B[49m\u001B[38;5;28;43;01mfor\u001B[39;49;00m\u001B[43m \u001B[49m\u001B[43mcc\u001B[49m\u001B[43m \u001B[49m\u001B[38;5;129;43;01min\u001B[39;49;00m\u001B[43m \u001B[49m\u001B[43mc\u001B[49m\u001B[43m]\u001B[49m)\n\u001B[1;32m    504\u001B[0m \u001B[38;5;28;01melse\u001B[39;00m:\n\u001B[1;32m    505\u001B[0m     rgba \u001B[38;5;241m=\u001B[39m np\u001B[38;5;241m.\u001B[39marray([to_rgba(cc) \u001B[38;5;28;01mfor\u001B[39;00m cc \u001B[38;5;129;01min\u001B[39;00m c])\n",
      "File \u001B[0;32m~/mambaforge/lib/python3.11/site-packages/matplotlib/colors.py:503\u001B[0m, in \u001B[0;36m<listcomp>\u001B[0;34m(.0)\u001B[0m\n\u001B[1;32m    501\u001B[0m         rgba \u001B[38;5;241m=\u001B[39m np\u001B[38;5;241m.\u001B[39marray(c)\n\u001B[1;32m    502\u001B[0m     \u001B[38;5;28;01melse\u001B[39;00m:\n\u001B[0;32m--> 503\u001B[0m         rgba \u001B[38;5;241m=\u001B[39m np\u001B[38;5;241m.\u001B[39marray([\u001B[43mto_rgba\u001B[49m\u001B[43m(\u001B[49m\u001B[43mcc\u001B[49m\u001B[43m)\u001B[49m \u001B[38;5;28;01mfor\u001B[39;00m cc \u001B[38;5;129;01min\u001B[39;00m c])\n\u001B[1;32m    504\u001B[0m \u001B[38;5;28;01melse\u001B[39;00m:\n\u001B[1;32m    505\u001B[0m     rgba \u001B[38;5;241m=\u001B[39m np\u001B[38;5;241m.\u001B[39marray([to_rgba(cc) \u001B[38;5;28;01mfor\u001B[39;00m cc \u001B[38;5;129;01min\u001B[39;00m c])\n",
      "File \u001B[0;32m~/mambaforge/lib/python3.11/site-packages/matplotlib/colors.py:302\u001B[0m, in \u001B[0;36mto_rgba\u001B[0;34m(c, alpha)\u001B[0m\n\u001B[1;32m    300\u001B[0m     rgba \u001B[38;5;241m=\u001B[39m \u001B[38;5;28;01mNone\u001B[39;00m\n\u001B[1;32m    301\u001B[0m \u001B[38;5;28;01mif\u001B[39;00m rgba \u001B[38;5;129;01mis\u001B[39;00m \u001B[38;5;28;01mNone\u001B[39;00m:  \u001B[38;5;66;03m# Suppress exception chaining of cache lookup failure.\u001B[39;00m\n\u001B[0;32m--> 302\u001B[0m     rgba \u001B[38;5;241m=\u001B[39m \u001B[43m_to_rgba_no_colorcycle\u001B[49m\u001B[43m(\u001B[49m\u001B[43mc\u001B[49m\u001B[43m,\u001B[49m\u001B[43m \u001B[49m\u001B[43malpha\u001B[49m\u001B[43m)\u001B[49m\n\u001B[1;32m    303\u001B[0m     \u001B[38;5;28;01mtry\u001B[39;00m:\n\u001B[1;32m    304\u001B[0m         _colors_full_map\u001B[38;5;241m.\u001B[39mcache[c, alpha] \u001B[38;5;241m=\u001B[39m rgba\n",
      "File \u001B[0;32m~/mambaforge/lib/python3.11/site-packages/matplotlib/colors.py:394\u001B[0m, in \u001B[0;36m_to_rgba_no_colorcycle\u001B[0;34m(c, alpha)\u001B[0m\n\u001B[1;32m    392\u001B[0m \u001B[38;5;28;01mif\u001B[39;00m \u001B[38;5;28mlen\u001B[39m(c) \u001B[38;5;129;01mnot\u001B[39;00m \u001B[38;5;129;01min\u001B[39;00m [\u001B[38;5;241m3\u001B[39m, \u001B[38;5;241m4\u001B[39m]:\n\u001B[1;32m    393\u001B[0m     \u001B[38;5;28;01mraise\u001B[39;00m \u001B[38;5;167;01mValueError\u001B[39;00m(\u001B[38;5;124m\"\u001B[39m\u001B[38;5;124mRGBA sequence should have length 3 or 4\u001B[39m\u001B[38;5;124m\"\u001B[39m)\n\u001B[0;32m--> 394\u001B[0m \u001B[38;5;28;01mif\u001B[39;00m \u001B[38;5;129;01mnot\u001B[39;00m \u001B[38;5;28mall\u001B[39m(\u001B[38;5;28misinstance\u001B[39m(x, Real) \u001B[38;5;28;01mfor\u001B[39;00m x \u001B[38;5;129;01min\u001B[39;00m c):\n\u001B[1;32m    395\u001B[0m     \u001B[38;5;66;03m# Checks that don't work: `map(float, ...)`, `np.array(..., float)` and\u001B[39;00m\n\u001B[1;32m    396\u001B[0m     \u001B[38;5;66;03m# `np.array(...).astype(float)` would all convert \"0.5\" to 0.5.\u001B[39;00m\n\u001B[1;32m    397\u001B[0m     \u001B[38;5;28;01mraise\u001B[39;00m \u001B[38;5;167;01mValueError\u001B[39;00m(\u001B[38;5;124mf\u001B[39m\u001B[38;5;124m\"\u001B[39m\u001B[38;5;124mInvalid RGBA argument: \u001B[39m\u001B[38;5;132;01m{\u001B[39;00morig_c\u001B[38;5;132;01m!r}\u001B[39;00m\u001B[38;5;124m\"\u001B[39m)\n\u001B[1;32m    398\u001B[0m \u001B[38;5;66;03m# Return a tuple to prevent the cached value from being modified.\u001B[39;00m\n",
      "\u001B[0;31mKeyboardInterrupt\u001B[0m: "
     ]
    },
    {
     "name": "stdout",
     "output_type": "stream",
     "text": [
      "Error in callback <function _draw_all_if_interactive at 0x14a473a60> (for post_execute), with arguments args (),kwargs {}:\n"
     ]
    }
   ],
   "source": [
    "import seaborn as sns\n",
    "sns.relplot(data=df, x=\"X\", y=\"Y\", hue=\"Color\")"
   ],
   "metadata": {
    "collapsed": false,
    "ExecuteTime": {
     "start_time": "2024-03-04T22:35:47.805613Z"
    }
   },
   "id": "6a93f9cff3c4bdcd",
   "execution_count": null
  },
  {
   "cell_type": "markdown",
   "source": [
    "Construct KD-Tree"
   ],
   "metadata": {
    "collapsed": false
   },
   "id": "f31da46a84b7f972"
  },
  {
   "cell_type": "code",
   "outputs": [],
   "source": [
    "total_rows = 4110608\n",
    "colors = {\n",
    "    '0': {'color': 0, 'weight': 1-1725/total_rows},\n",
    "    '1': {'color': 1, 'weight': 1-38080/total_rows},\n",
    "    '2': {'color': 2, 'weight': 1-294728/total_rows},\n",
    "    '3': {'color': 3, 'weight': 1-705193/total_rows},\n",
    "    '4': {'color': 4, 'weight': 1-3070882/total_rows},\n",
    "}\n",
    "dp_colors1 = dict()\n",
    "for row in colors.values():\n",
    "    dp_colors1[str(row['color'])] = row['weight']"
   ],
   "metadata": {
    "collapsed": false,
    "ExecuteTime": {
     "end_time": "2024-03-04T22:46:21.758101Z",
     "start_time": "2024-03-04T22:46:21.751408Z"
    }
   },
   "id": "5f7ceac7bacf96af",
   "execution_count": 11
  },
  {
   "cell_type": "code",
   "outputs": [],
   "source": [
    "datapoints1 = list()\n",
    "for row in df.itertuples():\n",
    "    dp1 = Datapoint(coordinate=[row.X, row.Y], color=str(row.Color))\n",
    "    datapoints1.append(dp1)"
   ],
   "metadata": {
    "collapsed": false,
    "ExecuteTime": {
     "end_time": "2024-03-04T22:46:38.295027Z",
     "start_time": "2024-03-04T22:46:22.118247Z"
    }
   },
   "id": "e53c371ebc4e490c",
   "execution_count": 12
  },
  {
   "cell_type": "code",
   "outputs": [],
   "source": [
    "tree1 = KDTree()\n",
    "tree1.build_tree(datapoints1, dp_colors1)"
   ],
   "metadata": {
    "collapsed": false,
    "ExecuteTime": {
     "end_time": "2024-03-04T22:49:54.996431Z",
     "start_time": "2024-03-04T22:46:38.296782Z"
    }
   },
   "id": "6960276b2219c83b",
   "execution_count": 13
  },
  {
   "cell_type": "code",
   "outputs": [
    {
     "name": "stdout",
     "output_type": "stream",
     "text": [
      "The query rectangle returned 0 nodes.  ([96258.945214, 5782.006827], [96845.739809, 20365.542818])\n",
      "The query rectangle returned 0 nodes.  ([66326.84161, 5106.840254], [74250.461782, 7471.858004])\n",
      "The query rectangle returned 0 nodes.  ([92859.618444, 97559.437151], [98482.100456, 97889.055004])\n",
      "The query rectangle returned 0 nodes.  ([72445.887611, 99388.690796], [96282.856722, 99770.086386])\n",
      "The query rectangle returned 0 nodes.  ([3320.840299, 82737.99005], [7890.428021, 83872.043116])\n",
      "The query rectangle returned 0 nodes.  ([701.465376, 90057.185334], [9136.691338, 96964.995228])\n",
      "The query rectangle returned 0 nodes.  ([87359.247792, 8989.431313], [91283.420613, 27133.37949])\n",
      "The query rectangle returned 0 nodes.  ([98661.676394, 3984.263198], [99840.685135, 11553.487013])\n",
      "The query rectangle returned 0 nodes.  ([87687.346452, 6475.493418], [92348.479065, 13982.352345])\n",
      "The query rectangle returned 0 nodes.  ([81024.076478, 3691.11719], [94083.366267, 14870.923885])\n",
      "The query rectangle returned 0 nodes.  ([96663.092814, 95602.341711], [98960.511529, 99530.446531])\n",
      "The query rectangle returned 0 nodes.  ([96924.714889, 1809.434781], [97480.081522, 6331.8318])\n",
      "The query rectangle returned 0 nodes.  ([8970.883902, 92889.790991], [15232.02666, 93893.917298])\n",
      "The query rectangle returned 0 nodes.  ([12085.763809, 1230.54768], [30418.319617, 6551.144791])\n",
      "The query rectangle returned 0 nodes.  ([54003.704421, 99900.668949], [74526.087177, 99948.885722])\n",
      "The query rectangle returned 0 nodes.  ([86362.561283, 3535.833107], [93745.454124, 30301.455162])\n",
      "The query rectangle returned 0 nodes.  ([35267.666712, 99916.660026], [85106.225929, 99970.179039])\n",
      "The query rectangle returned 0 nodes.  ([10392.361954, 17928.853035], [17599.768665, 22121.889442])\n",
      "The query rectangle returned 0 nodes.  ([4885.221266, 98680.081231], [5907.760125, 98980.104535])\n",
      "The query rectangle returned 0 nodes.  ([89057.67799, 98028.750274], [89738.991526, 99831.109804])\n",
      "The query rectangle returned 0 nodes.  ([95977.725486, 99292.756717], [99868.284593, 99600.214936])\n",
      "The query rectangle returned 0 nodes.  ([6320.110422, 25239.083148], [8358.921307, 31568.972204])\n",
      "The query rectangle returned 0 nodes.  ([27485.175404, 99931.106565], [95442.501042, 99986.934073])\n",
      "The query rectangle returned 0 nodes.  ([96966.195615, 95220.956665], [98742.33431, 97638.338259])\n",
      "The query rectangle returned 0 nodes.  ([89967.250391, 2821.739539], [93865.113469, 23562.034605])\n",
      "The query rectangle returned 0 nodes.  ([99869.095416, 95820.724313], [99976.776326, 97402.660219])\n",
      "The query rectangle returned 0 nodes.  ([89356.893182, 5001.087138], [89585.255939, 27660.845795])\n",
      "The query rectangle returned 0 nodes.  ([65453.488273, 99768.877718], [66056.693813, 99931.598862])\n",
      "The query rectangle returned 0 nodes.  ([97943.670279, 2765.179008], [98449.012248, 12174.629706])\n",
      "The query rectangle returned 0 nodes.  ([21927.372756, 98956.871939], [30181.862862, 99990.910916])\n",
      "The query rectangle returned 0 nodes.  ([71943.996141, 8015.407295], [97145.209599, 8387.081352])\n",
      "The query rectangle returned 0 nodes.  ([93689.523922, 95659.974769], [96005.377052, 96179.402485])\n",
      "The query rectangle returned 0 nodes.  ([24391.170876, 22158.568994], [27825.408456, 27711.414904])\n",
      "0.009304672566180307\n"
     ]
    }
   ],
   "source": [
    "import time\n",
    "results = {\n",
    "    \"0\": 0,\n",
    "    \"1\": 0,\n",
    "    \"2\": 0,\n",
    "    \"3\": 0,\n",
    "    \"4\": 0,\n",
    "}\n",
    "now = time.time()\n",
    "counter = 0\n",
    "for i in range(1000):\n",
    "    result = None\n",
    "    while result is None:\n",
    "        random_x1 = round(random.uniform(0, 100000.0), 6)\n",
    "        random_x2 = round(random.uniform(random_x1, 100000.0), 6)\n",
    "        random_y1 = round(random.uniform(0, 100000.0), 6)\n",
    "        random_y2 = round(random.uniform(random_y1, 100000.0), 6)\n",
    "        result = tree1.level1_random_selection( ([random_x1, random_y1],[random_x2, random_y2]) )\n",
    "        counter += 1\n",
    "    results[result] += 1\n",
    "    \n",
    "later = time.time()\n",
    "print((later - now)/counter)"
   ],
   "metadata": {
    "collapsed": false,
    "ExecuteTime": {
     "end_time": "2024-03-04T22:50:04.614070Z",
     "start_time": "2024-03-04T22:49:54.997772Z"
    }
   },
   "id": "8e39029d16b3e8b5",
   "execution_count": 14
  },
  {
   "cell_type": "code",
   "outputs": [
    {
     "data": {
      "text/plain": "1709592595.0004532"
     },
     "execution_count": 15,
     "metadata": {},
     "output_type": "execute_result"
    }
   ],
   "source": [
    "now"
   ],
   "metadata": {
    "collapsed": false,
    "ExecuteTime": {
     "end_time": "2024-03-04T22:50:04.619160Z",
     "start_time": "2024-03-04T22:50:04.616155Z"
    }
   },
   "id": "84a21b0b1eacb088",
   "execution_count": 15
  },
  {
   "cell_type": "code",
   "outputs": [
    {
     "data": {
      "text/plain": "1709592604.61218"
     },
     "execution_count": 16,
     "metadata": {},
     "output_type": "execute_result"
    }
   ],
   "source": [
    "later"
   ],
   "metadata": {
    "collapsed": false,
    "ExecuteTime": {
     "end_time": "2024-03-04T22:50:04.622425Z",
     "start_time": "2024-03-04T22:50:04.619925Z"
    }
   },
   "id": "914a1c11d08cd2be",
   "execution_count": 16
  },
  {
   "cell_type": "code",
   "outputs": [
    {
     "data": {
      "text/plain": "{'0': 0, '1': 0, '2': 967, '3': 0, '4': 33}"
     },
     "execution_count": 17,
     "metadata": {},
     "output_type": "execute_result"
    }
   ],
   "source": [
    "results"
   ],
   "metadata": {
    "collapsed": false,
    "ExecuteTime": {
     "end_time": "2024-03-04T22:50:04.625568Z",
     "start_time": "2024-03-04T22:50:04.623104Z"
    }
   },
   "id": "11108e7def257dee",
   "execution_count": 17
  },
  {
   "cell_type": "code",
   "outputs": [
    {
     "data": {
      "text/plain": "{'0': 0.9995803540498145,\n '1': 0.9907361636040216,\n '2': 0.9283006309528907,\n '3': 0.8284455730149896,\n '4': 0.2529372783782837}"
     },
     "execution_count": 18,
     "metadata": {},
     "output_type": "execute_result"
    }
   ],
   "source": [
    "dp_colors1"
   ],
   "metadata": {
    "collapsed": false,
    "ExecuteTime": {
     "end_time": "2024-03-04T22:50:04.628336Z",
     "start_time": "2024-03-04T22:50:04.626259Z"
    }
   },
   "id": "18e419d1a8638fc7",
   "execution_count": 18
  },
  {
   "cell_type": "code",
   "outputs": [],
   "source": [],
   "metadata": {
    "collapsed": false
   },
   "id": "145237ff524d4399"
  }
 ],
 "metadata": {
  "kernelspec": {
   "display_name": "Python 3",
   "language": "python",
   "name": "python3"
  },
  "language_info": {
   "codemirror_mode": {
    "name": "ipython",
    "version": 2
   },
   "file_extension": ".py",
   "mimetype": "text/x-python",
   "name": "python",
   "nbconvert_exporter": "python",
   "pygments_lexer": "ipython2",
   "version": "2.7.6"
  }
 },
 "nbformat": 4,
 "nbformat_minor": 5
}
