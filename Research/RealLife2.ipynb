{
 "cells": [
  {
   "cell_type": "code",
   "execution_count": 1,
   "id": "initial_id",
   "metadata": {
    "collapsed": true,
    "ExecuteTime": {
     "end_time": "2024-01-29T22:36:40.101849Z",
     "start_time": "2024-01-29T22:36:39.358409Z"
    }
   },
   "outputs": [],
   "source": [
    "import random\n",
    "import numpy as np\n",
    "import matplotlib.pyplot as plt\n",
    "from KDTree import Datapoint\n",
    "from KDTree import KDTree\n",
    "import pandas as pd"
   ]
  },
  {
   "cell_type": "markdown",
   "source": [
    "Creation of csv file from text file"
   ],
   "metadata": {
    "collapsed": false
   },
   "id": "1f778344184f73db"
  },
  {
   "cell_type": "code",
   "outputs": [],
   "source": [
    "f = open('input_database.txt', 'r')\n",
    "sr = None\n",
    "color = 0\n",
    "data = [[\"X\", \"Y\", \"Color\"]]\n",
    "\n",
    "for line in f:\n",
    "    if line[0] == \"*\":\n",
    "        continue\n",
    "    if len(line) == 2:\n",
    "        color = int(line)\n",
    "        continue\n",
    "    format_string = line[1:-2]\n",
    "    div = format_string.split(',')\n",
    "    data.append([float(div[0]), float(div[1]), color])"
   ],
   "metadata": {
    "collapsed": false,
    "ExecuteTime": {
     "end_time": "2024-01-29T21:13:14.651314Z",
     "start_time": "2024-01-29T21:13:10.841505Z"
    }
   },
   "id": "e6681cfc53dbb969",
   "execution_count": 22
  },
  {
   "cell_type": "code",
   "outputs": [],
   "source": [
    "import csv\n",
    "with open(\"data.csv\", \"w\", newline=\"\") as csvfile:\n",
    "    # Create a csv writer object\n",
    "    writer = csv.writer(csvfile)\n",
    "    # Write each row of data\n",
    "    for row in data:\n",
    "        writer.writerow(row)"
   ],
   "metadata": {
    "collapsed": false,
    "ExecuteTime": {
     "end_time": "2024-01-29T21:14:08.613618Z",
     "start_time": "2024-01-29T21:14:02.908705Z"
    }
   },
   "id": "d3c85e14705db913",
   "execution_count": 24
  },
  {
   "cell_type": "markdown",
   "source": [
    "Open Dataframe"
   ],
   "metadata": {
    "collapsed": false
   },
   "id": "b98b5f19657652ec"
  },
  {
   "cell_type": "code",
   "outputs": [
    {
     "data": {
      "text/plain": "                    X             Y  Color\n0         7720.982199  78867.188540      0\n1        89627.028825  70071.537547      0\n2        84361.871932  97117.551705      0\n3        28595.067689  87388.534848      0\n4        79024.626051  66595.629925      0\n...               ...           ...    ...\n4110603  83068.359093  92309.391363      4\n4110604  99697.775868  81796.458117      4\n4110605  84735.387977  94289.931123      4\n4110606  31389.814557  45703.015010      4\n4110607  91647.217629  84396.672664      4\n\n[4110608 rows x 3 columns]",
      "text/html": "<div>\n<style scoped>\n    .dataframe tbody tr th:only-of-type {\n        vertical-align: middle;\n    }\n\n    .dataframe tbody tr th {\n        vertical-align: top;\n    }\n\n    .dataframe thead th {\n        text-align: right;\n    }\n</style>\n<table border=\"1\" class=\"dataframe\">\n  <thead>\n    <tr style=\"text-align: right;\">\n      <th></th>\n      <th>X</th>\n      <th>Y</th>\n      <th>Color</th>\n    </tr>\n  </thead>\n  <tbody>\n    <tr>\n      <th>0</th>\n      <td>7720.982199</td>\n      <td>78867.188540</td>\n      <td>0</td>\n    </tr>\n    <tr>\n      <th>1</th>\n      <td>89627.028825</td>\n      <td>70071.537547</td>\n      <td>0</td>\n    </tr>\n    <tr>\n      <th>2</th>\n      <td>84361.871932</td>\n      <td>97117.551705</td>\n      <td>0</td>\n    </tr>\n    <tr>\n      <th>3</th>\n      <td>28595.067689</td>\n      <td>87388.534848</td>\n      <td>0</td>\n    </tr>\n    <tr>\n      <th>4</th>\n      <td>79024.626051</td>\n      <td>66595.629925</td>\n      <td>0</td>\n    </tr>\n    <tr>\n      <th>...</th>\n      <td>...</td>\n      <td>...</td>\n      <td>...</td>\n    </tr>\n    <tr>\n      <th>4110603</th>\n      <td>83068.359093</td>\n      <td>92309.391363</td>\n      <td>4</td>\n    </tr>\n    <tr>\n      <th>4110604</th>\n      <td>99697.775868</td>\n      <td>81796.458117</td>\n      <td>4</td>\n    </tr>\n    <tr>\n      <th>4110605</th>\n      <td>84735.387977</td>\n      <td>94289.931123</td>\n      <td>4</td>\n    </tr>\n    <tr>\n      <th>4110606</th>\n      <td>31389.814557</td>\n      <td>45703.015010</td>\n      <td>4</td>\n    </tr>\n    <tr>\n      <th>4110607</th>\n      <td>91647.217629</td>\n      <td>84396.672664</td>\n      <td>4</td>\n    </tr>\n  </tbody>\n</table>\n<p>4110608 rows × 3 columns</p>\n</div>"
     },
     "execution_count": 6,
     "metadata": {},
     "output_type": "execute_result"
    }
   ],
   "source": [
    "df = pd.read_feather('big_data.feather')\n",
    "df"
   ],
   "metadata": {
    "collapsed": false,
    "ExecuteTime": {
     "end_time": "2024-01-29T22:47:57.774573Z",
     "start_time": "2024-01-29T22:47:57.710868Z"
    }
   },
   "id": "e0b0728371f08d45",
   "execution_count": 6
  },
  {
   "cell_type": "markdown",
   "source": [
    "Construct KD-Tree"
   ],
   "metadata": {
    "collapsed": false
   },
   "id": "f31da46a84b7f972"
  },
  {
   "cell_type": "code",
   "outputs": [],
   "source": [
    "total_rows = 4110608\n",
    "colors = {\n",
    "    '0': {'color': 0, 'weight': 1725/total_rows},\n",
    "    '1': {'color': 1, 'weight': 38080/total_rows},\n",
    "    '2': {'color': 2, 'weight': 294728/total_rows},\n",
    "    '3': {'color': 3, 'weight': 705193/total_rows},\n",
    "    '4': {'color': 4, 'weight': 3070882/total_rows},\n",
    "}\n",
    "dp_colors1 = dict()\n",
    "for row in colors.values():\n",
    "    dp_colors1[str(row['color'])] = row['weight']"
   ],
   "metadata": {
    "collapsed": false,
    "ExecuteTime": {
     "end_time": "2024-01-29T22:36:44.279271Z",
     "start_time": "2024-01-29T22:36:44.276557Z"
    }
   },
   "id": "5f7ceac7bacf96af",
   "execution_count": 3
  },
  {
   "cell_type": "code",
   "outputs": [],
   "source": [
    "datapoints1 = list()\n",
    "for row in df.itertuples():\n",
    "    dp1 = Datapoint(coordinate=[row.X, row.Y], color=str(row.Color))\n",
    "    datapoints1.append(dp1)"
   ],
   "metadata": {
    "collapsed": false,
    "ExecuteTime": {
     "end_time": "2024-01-29T22:36:51.700890Z",
     "start_time": "2024-01-29T22:36:44.797019Z"
    }
   },
   "id": "e53c371ebc4e490c",
   "execution_count": 4
  },
  {
   "cell_type": "code",
   "outputs": [],
   "source": [
    "tree1 = KDTree()\n",
    "tree1.build_tree(datapoints1, dp_colors1)"
   ],
   "metadata": {
    "collapsed": false,
    "ExecuteTime": {
     "end_time": "2024-01-29T22:39:54.057055Z",
     "start_time": "2024-01-29T22:36:51.750288Z"
    }
   },
   "id": "6960276b2219c83b",
   "execution_count": 5
  },
  {
   "cell_type": "code",
   "outputs": [],
   "source": [],
   "metadata": {
    "collapsed": false
   },
   "id": "8e39029d16b3e8b5"
  }
 ],
 "metadata": {
  "kernelspec": {
   "display_name": "Python 3",
   "language": "python",
   "name": "python3"
  },
  "language_info": {
   "codemirror_mode": {
    "name": "ipython",
    "version": 2
   },
   "file_extension": ".py",
   "mimetype": "text/x-python",
   "name": "python",
   "nbconvert_exporter": "python",
   "pygments_lexer": "ipython2",
   "version": "2.7.6"
  }
 },
 "nbformat": 4,
 "nbformat_minor": 5
}
