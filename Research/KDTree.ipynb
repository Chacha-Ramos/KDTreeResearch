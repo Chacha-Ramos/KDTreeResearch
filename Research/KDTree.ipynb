{
 "cells": [
  {
   "cell_type": "code",
   "execution_count": 1,
   "outputs": [],
   "source": [
    "import random\n",
    "import numpy as np\n",
    "import matplotlib.pyplot as plt\n",
    "from KDTree import Datapoint\n",
    "from KDTree import KDTree"
   ],
   "metadata": {
    "collapsed": false,
    "ExecuteTime": {
     "end_time": "2023-11-15T18:16:47.269481Z",
     "start_time": "2023-11-15T18:16:46.999945Z"
    }
   },
   "id": "30a07f642b290e3f"
  },
  {
   "cell_type": "code",
   "execution_count": 2,
   "outputs": [],
   "source": [
    "data_colors = {str(i): random.uniform(1,10) for i in range(1, 201)}\n",
    "\n",
    "datapoints = [Datapoint([random.randint(1, 100), random.randint(1, 100)], color=random.choice( list(data_colors.keys()) ) ) for i in range(100)]"
   ],
   "metadata": {
    "collapsed": false,
    "ExecuteTime": {
     "end_time": "2023-11-15T18:16:47.274716Z",
     "start_time": "2023-11-15T18:16:47.269625Z"
    }
   },
   "id": "3dff8c09be821553"
  },
  {
   "cell_type": "code",
   "execution_count": 3,
   "outputs": [],
   "source": [
    "tree = KDTree()\n",
    "tree.build_tree(datapoints, data_colors)\n",
    "datapoints.sort(key=lambda pts: pts.coordinate)"
   ],
   "metadata": {
    "collapsed": false,
    "ExecuteTime": {
     "end_time": "2023-11-15T18:16:47.279872Z",
     "start_time": "2023-11-15T18:16:47.273739Z"
    }
   },
   "id": "b49a82a6d636bf55"
  },
  {
   "cell_type": "code",
   "execution_count": 4,
   "outputs": [],
   "source": [
    "test3_colors = {str(i): 1 for i in range(1,3)}\n",
    "test3_datapoints = [Datapoint([i], color='1') for i in range(1, 7)]\n",
    "test3_datapoints[2].color = '2'\n",
    "test3_datapoints[3].color = '2'\n",
    "test3_datapoints[4].color = '2'\n",
    "test3_tree = KDTree()\n",
    "test3_tree.build_tree(test3_datapoints, test3_colors)"
   ],
   "metadata": {
    "collapsed": false,
    "ExecuteTime": {
     "end_time": "2023-11-15T18:16:47.296470Z",
     "start_time": "2023-11-15T18:16:47.279822Z"
    }
   },
   "id": "9556e89bb843181c"
  },
  {
   "cell_type": "code",
   "execution_count": 5,
   "outputs": [],
   "source": [
    "x = test3_tree.level2_random_selection( ([1.5, -10], [6.5, 1.4]), test3_datapoints )"
   ],
   "metadata": {
    "collapsed": false,
    "ExecuteTime": {
     "end_time": "2023-11-15T18:16:47.296712Z",
     "start_time": "2023-11-15T18:16:47.283042Z"
    }
   },
   "id": "1b8f77448d99d527"
  },
  {
   "cell_type": "code",
   "execution_count": 6,
   "outputs": [],
   "source": [
    "test1_colors = {str(i): (500/np.exp(0.5 * i)) for i in range(1, 11)}\n",
    "test1_datapoints = [Datapoint([i], color= str( ( (i-1)%10 ) + 1 ) )for i in range(1, 1001)]\n",
    "test1_tree = KDTree()\n",
    "test1_tree.build_tree(test1_datapoints, test1_colors)"
   ],
   "metadata": {
    "collapsed": false,
    "ExecuteTime": {
     "end_time": "2023-11-15T18:16:47.310844Z",
     "start_time": "2023-11-15T18:16:47.299240Z"
    }
   },
   "id": "561530dc77af02eb"
  },
  {
   "cell_type": "code",
   "execution_count": 7,
   "outputs": [],
   "source": [
    "test1_result = {str(i): 0 for i in range(1, 11)}\n",
    "for i in range(1000):\n",
    "    x = test1_tree.level2_random_selection( ([40.5, -10], [83.5, 40.4]), test1_datapoints )\n",
    "    test1_result[x] = test1_result[x] + 1"
   ],
   "metadata": {
    "collapsed": false,
    "ExecuteTime": {
     "end_time": "2023-11-15T18:16:47.430307Z",
     "start_time": "2023-11-15T18:16:47.312267Z"
    }
   },
   "id": "1ba986e2e83818a5"
  },
  {
   "cell_type": "code",
   "execution_count": 8,
   "outputs": [
    {
     "data": {
      "text/plain": "{'1': 400,\n '2': 240,\n '3': 155,\n '4': 79,\n '5': 47,\n '6': 29,\n '7': 16,\n '8': 9,\n '9': 17,\n '10': 8}"
     },
     "execution_count": 8,
     "metadata": {},
     "output_type": "execute_result"
    }
   ],
   "source": [
    "test1_result"
   ],
   "metadata": {
    "collapsed": false,
    "ExecuteTime": {
     "end_time": "2023-11-15T18:16:47.434945Z",
     "start_time": "2023-11-15T18:16:47.431640Z"
    }
   },
   "id": "9e81a42bcf754d85"
  },
  {
   "cell_type": "code",
   "execution_count": 9,
   "outputs": [
    {
     "data": {
      "text/plain": "Text(0.5, 1.0, 'Test1')"
     },
     "execution_count": 9,
     "metadata": {},
     "output_type": "execute_result"
    },
    {
     "data": {
      "text/plain": "<Figure size 640x480 with 1 Axes>",
      "image/png": "[encoded data removed]"
     },
     "metadata": {},
     "output_type": "display_data"
    }
   ],
   "source": [
    "plt.bar(test1_result.keys(), test1_result.values())\n",
    "plt.title('Test1')"
   ],
   "metadata": {
    "collapsed": false,
    "ExecuteTime": {
     "end_time": "2023-11-15T18:16:47.515670Z",
     "start_time": "2023-11-15T18:16:47.434596Z"
    }
   },
   "id": "d70b3aff07263161"
  },
  {
   "cell_type": "code",
   "execution_count": 25,
   "outputs": [],
   "source": [
    "test2_colors = {str(i): (500/np.exp(0.5 * i)) for i in range(1, 11)}\n",
    "test2_colors['0'] = 10000000\n",
    "test2_datapoints = [Datapoint([i], color= '1') for i in range(1, 1001)]\n",
    "for i in range(1000):\n",
    "    if i < 40 or i > 82:\n",
    "        test2_datapoints[i].color = str(10)\n",
    "    elif i <= 43:\n",
    "        test2_datapoints[i].color = str(i-39)\n",
    "    elif i < 78:\n",
    "        test2_datapoints[i].color = '5'\n",
    "    else:\n",
    "        test2_datapoints[i].color = str(88-i)\n",
    "   \n",
    "test2_tree = KDTree()\n",
    "test2_tree.build_tree(test2_datapoints, test2_colors)"
   ],
   "metadata": {
    "collapsed": false,
    "ExecuteTime": {
     "end_time": "2023-11-15T18:21:11.347548Z",
     "start_time": "2023-11-15T18:20:34.422738Z"
    }
   },
   "id": "bb930dbcdf93b51"
  },
  {
   "cell_type": "code",
   "execution_count": 19,
   "outputs": [],
   "source": [
    "test2_result = {str(i): 0 for i in range(1, 11)}\n",
    "for i in range(1000):\n",
    "    x = test2_tree.level2_random_selection( ([40.5, -10], [83.5, 40.4]), test2_datapoints )\n",
    "    test2_result[x] = test2_result[x] + 1"
   ],
   "metadata": {
    "collapsed": false,
    "ExecuteTime": {
     "end_time": "2023-11-15T18:18:14.547936Z",
     "start_time": "2023-11-15T18:18:14.391134Z"
    }
   },
   "id": "1a383b6db1259aa2"
  },
  {
   "cell_type": "code",
   "execution_count": 20,
   "outputs": [
    {
     "data": {
      "text/plain": "{'1': 401,\n '2': 229,\n '3': 134,\n '4': 80,\n '5': 94,\n '6': 24,\n '7': 14,\n '8': 10,\n '9': 11,\n '10': 3}"
     },
     "execution_count": 20,
     "metadata": {},
     "output_type": "execute_result"
    }
   ],
   "source": [
    "test2_result"
   ],
   "metadata": {
    "collapsed": false,
    "ExecuteTime": {
     "end_time": "2023-11-15T18:18:14.662695Z",
     "start_time": "2023-11-15T18:18:14.658969Z"
    }
   },
   "id": "426eaeb77588e134"
  },
  {
   "cell_type": "code",
   "execution_count": 21,
   "outputs": [
    {
     "data": {
      "text/plain": "Text(0.5, 1.0, 'Test2')"
     },
     "execution_count": 21,
     "metadata": {},
     "output_type": "execute_result"
    },
    {
     "data": {
      "text/plain": "<Figure size 640x480 with 1 Axes>",
      "image/png": "[encoded data removed]"
     },
     "metadata": {},
     "output_type": "display_data"
    }
   ],
   "source": [
    "plt.bar(test2_result.keys(), test2_result.values())\n",
    "plt.title('Test2')"
   ],
   "metadata": {
    "collapsed": false,
    "ExecuteTime": {
     "end_time": "2023-11-15T18:18:15.136115Z",
     "start_time": "2023-11-15T18:18:15.070132Z"
    }
   },
   "id": "9d3459fbe07e689b"
  },
  {
   "cell_type": "code",
   "execution_count": 13,
   "outputs": [],
   "source": [],
   "metadata": {
    "collapsed": false,
    "ExecuteTime": {
     "end_time": "2023-11-15T18:16:47.777948Z",
     "start_time": "2023-11-15T18:16:47.774603Z"
    }
   },
   "id": "9196777be7e8184"
  }
 ],
 "metadata": {
  "kernelspec": {
   "display_name": "Python 3",
   "language": "python",
   "name": "python3"
  },
  "language_info": {
   "codemirror_mode": {
    "name": "ipython",
    "version": 2
   },
   "file_extension": ".py",
   "mimetype": "text/x-python",
   "name": "python",
   "nbconvert_exporter": "python",
   "pygments_lexer": "ipython2",
   "version": "2.7.6"
  }
 },
 "nbformat": 4,
 "nbformat_minor": 5
}
