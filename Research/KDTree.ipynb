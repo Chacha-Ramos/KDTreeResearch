{
 "cells": [
  {
   "cell_type": "code",
   "execution_count": 1,
   "outputs": [],
   "source": [
    "import random\n",
    "import numpy as np\n",
    "import matplotlib.pyplot as plt"
   ],
   "metadata": {
    "collapsed": false,
    "ExecuteTime": {
     "end_time": "2023-10-25T05:43:12.495862Z",
     "start_time": "2023-10-25T05:43:12.218690Z"
    }
   },
   "id": "30a07f642b290e3f"
  },
  {
   "cell_type": "code",
   "execution_count": 84,
   "outputs": [],
   "source": [
    "class Datapoint:\n",
    "    def __init__(self, coordinate, color, **kwargs):\n",
    "        assert isinstance(coordinate, list), 'Coordinate must be a list of integers'\n",
    "        assert isinstance(color, str)\n",
    "        self.coordinate = coordinate\n",
    "        self.color = color\n",
    "        self.kwargs = kwargs\n",
    "\n",
    "class Node:\n",
    "    def __init__(self, weight = 0, children = 0, color=None, rect_1=None, rect_2=None, dp: Datapoint=None, **kwargs):\n",
    "        self.left_rectangle: list[int] or None = rect_1\n",
    "        self.right_rectangle: list[int] or None = rect_2\n",
    "        self.datapoint: Datapoint or None = dp\n",
    "        self.left_child: Node or None = None\n",
    "        self.right_child: Node or None = None\n",
    "        self.color: str or None = color\n",
    "        self.weight = weight\n",
    "        self.children = children\n",
    "        self.kwargs = kwargs\n",
    "\n",
    "class KDTree:\n",
    "    def __init__(self):\n",
    "        self.root: Node or None = None\n",
    "        self.dimension: int = 0\n",
    "        self.level1: dict[str: float] = dict()\n",
    "        self.colors: dict[str: float] or None = None\n",
    "    \n",
    "    def __calculate_probs(self, weights: list[float]) -> list[float]:\n",
    "        ai = list()\n",
    "        for weight in weights:\n",
    "            ai.append(self.__single_prob(weight))\n",
    "        return ai\n",
    "    \n",
    "    def __single_prob(self, weight) -> float:\n",
    "        return random.random() ** weight\n",
    "    \n",
    "    def __add_color(self, color: str):\n",
    "        if color not in self.level1:\n",
    "            self.level1[color] = self.__single_prob(self.colors[color])\n",
    "            \n",
    "    def level1_random_selection(self, rectangle: list) -> str:\n",
    "        c_nodes = self.query_canonical(rectangle)\n",
    "        weights = [self.level1[node.color] for node in c_nodes]\n",
    "        index_max = np.argmax(weights)\n",
    "        return c_nodes[index_max].color\n",
    "\n",
    "    def build_tree(self, points: list[Datapoint], colors: dict[str: float]):\n",
    "        assert len(points) > 0, 'There must be at least one datapoint to build tree'\n",
    "        assert len(points[0].coordinate), 'The coordinate must have at least one dimension'\n",
    "        self.dimension = len(points[0].coordinate)\n",
    "        self.colors = colors\n",
    "        self.root = self.__build_tree(points)\n",
    "\n",
    "    def __build_tree(self, points: list[Datapoint]) -> Node or None:\n",
    "        if len(points) == 0:\n",
    "            return None\n",
    "        if len(points) == 1:\n",
    "            color_1 = points[0].color\n",
    "            self.__add_color(color_1)\n",
    "            return Node(dp=points[0], color=color_1, weight=self.colors[color_1])\n",
    "        if len(points) == 2:\n",
    "            points.sort(key=lambda pts: pts.coordinate)\n",
    "            r_1 = [points[0].coordinate, points[0].coordinate]\n",
    "            r_2 = [points[1].coordinate, points[1].coordinate]\n",
    "            color_1 = points[0].color\n",
    "            color_2 = points[1].color\n",
    "            self.__add_color(color_1)\n",
    "            self.__add_color(color_2)\n",
    "            if self.level1[color_1] >= self.level1[color_2]:\n",
    "                root_color = color_1\n",
    "            else:\n",
    "                root_color = color_2\n",
    "            root = Node(rect_1=r_1, rect_2=r_2, color=root_color, children=2, weight=self.colors[color_1]+self.colors[color_2])\n",
    "            root.left_child = Node(dp=points[0], color=color_1, weight=self.colors[color_1])\n",
    "            root.right_child = Node(dp=points[1], color=color_2, weight=self.colors[color_2])\n",
    "            return root\n",
    "\n",
    "        coordinates = np.array([p.coordinate for p in points])\n",
    "        variances = np.var(coordinates, axis=0)\n",
    "        index_max_variance = np.argmax(variances)\n",
    "        points.sort(key=lambda pts: pts.coordinate[index_max_variance])\n",
    "        median_index = len(points) // 2\n",
    "        root = Node(children=len(points))\n",
    "        p1 = points[:median_index]\n",
    "        p2 = points[median_index:]\n",
    "        p1.sort(key=lambda pts: pts.coordinate)\n",
    "        p2.sort(key=lambda pts: pts.coordinate)\n",
    "        if p1[0].coordinate <= p2[0].coordinate:\n",
    "            root.left_child = self.__build_tree(p1)\n",
    "            root.right_child = self.__build_tree(p2)\n",
    "        else:\n",
    "            root.left_child = self.__build_tree(p2)\n",
    "            root.right_child = self.__build_tree(p1)\n",
    "        \n",
    "        if root.right_child.datapoint is not None:\n",
    "            r_1 = root.right_child.datapoint.coordinate\n",
    "            root.right_rectangle = [r_1 , r_1]\n",
    "        else:\n",
    "            r_1 = root.right_child.left_rectangle[0]\n",
    "            r_2 = root.right_child.right_rectangle[1]\n",
    "            root.right_rectangle = [r_1, r_2]\n",
    "            \n",
    "        if root.left_child.datapoint is not None:\n",
    "            r_1 = root.left_child.datapoint.coordinate\n",
    "            root.left_rectangle = [r_1, r_1]\n",
    "        else:\n",
    "            r_1 = root.left_child.left_rectangle[0]\n",
    "            r_2 = root.left_child.right_rectangle[1]\n",
    "            root.left_rectangle = [r_1, r_2]  \n",
    "        \n",
    "        color_1 = root.left_child.color\n",
    "        color_2 = root.right_child.color\n",
    "        if self.level1[color_1] >= self.level1[color_2]:\n",
    "            root_color = color_1\n",
    "        else:\n",
    "            root_color = color_2\n",
    "        \n",
    "        root.weight = self.colors[color_1] + self.colors[color_2]\n",
    "        root.color = root_color\n",
    "        return root\n",
    "    \n",
    "    def query_canonical(self, rectangle: list):\n",
    "        assert len(rectangle) == 2, f'There must be two coordinates to draw a query rectangle'\n",
    "        assert isinstance(rectangle[0], list) and isinstance(rectangle[0], list), 'Each coordinate must be in the format of a list'\n",
    "        assert len(rectangle[0]) == self.dimension and len(rectangle[1]) == self.dimension, f'Expected dimension of rectangle to be {self.dimension}'\n",
    "        assert rectangle[0] <= rectangle[1], 'Invalid query rectangle'\n",
    "        return self.__query_canonical(self.root, rectangle)\n",
    "    \n",
    "    def __query_canonical(self, root: Node or None, query_rect: list) -> list[Node]:\n",
    "        canonical_nodes : list[Node] = list()\n",
    "        # If the node is None, return empty list. If the node is a leaf, return empty list\n",
    "        if root is None or root.datapoint is not None:\n",
    "            return canonical_nodes\n",
    "\n",
    "        # If the node is outside the query range\n",
    "        if query_rect[1] < root.left_rectangle[0] or query_rect[0] > root.right_rectangle[1]:\n",
    "            return canonical_nodes\n",
    "        \n",
    "        # If the node is completely inside the query range, canonical node\n",
    "        if query_rect[0] <= root.left_rectangle[0] and query_rect[1] >= root.right_rectangle[1]:\n",
    "            canonical_nodes.append(root)\n",
    "            return canonical_nodes\n",
    "        \n",
    "        # Check if the right node is a leaf\n",
    "        if root.right_child.datapoint is not None:\n",
    "            leaf = root.right_child\n",
    "            if query_rect[0] <= leaf.datapoint.coordinate <= query_rect[1]:\n",
    "                canonical_nodes.append(leaf)\n",
    "        # Else check that the right node is in the query range\n",
    "        elif root.right_rectangle[0] <= query_rect[0] <= root.right_rectangle[1] or root.right_rectangle[0] <= query_rect[1] <= root.right_rectangle[1]:\n",
    "            canonical_nodes.extend(self.__query_canonical(root.right_child, query_rect))\n",
    "        # Else check that the right node is completely inside the query range\n",
    "        elif root.right_rectangle[0] >= query_rect[0] and root.right_rectangle[1] <= query_rect[1]:\n",
    "            canonical_nodes.extend(self.__query_canonical(root.right_child, query_rect))\n",
    "        \n",
    "        # Check if left node is a leaf\n",
    "        if root.left_child.datapoint is not None:\n",
    "            leaf = root.left_child\n",
    "            if query_rect[0] <= leaf.datapoint.coordinate <= query_rect[1]:\n",
    "                canonical_nodes.append(leaf)\n",
    "        # Else check that the left node is partially in the query range\n",
    "        elif root.left_rectangle[0] <= query_rect[0] <= root.left_rectangle[1] or root.left_rectangle[0] <= query_rect[1] <= root.left_rectangle[1]:\n",
    "            canonical_nodes.extend(self.__query_canonical(root.left_child, query_rect))\n",
    "        # Else check that the left node is completely inside the query range\n",
    "        elif root.left_rectangle[0] >= query_rect[0] and root.left_rectangle[1] <= query_rect[1]:\n",
    "            canonical_nodes.extend(self.__query_canonical(root.left_child, query_rect))\n",
    "                    \n",
    "        return canonical_nodes\n",
    "        \n",
    "        "
   ],
   "metadata": {
    "collapsed": false,
    "ExecuteTime": {
     "end_time": "2023-10-25T06:27:31.638105Z",
     "start_time": "2023-10-25T06:27:31.630776Z"
    }
   },
   "id": "e48bc1596bdbc586"
  },
  {
   "cell_type": "code",
   "execution_count": 17,
   "outputs": [],
   "source": [
    "data_colors = {str(i): random.uniform(1,10) for i in range(1, 201)}\n",
    "\n",
    "datapoints = [Datapoint([random.randint(1, 100), random.randint(1, 100)], color=random.choice( list(data_colors.keys()) ) ) for i in range(100)]"
   ],
   "metadata": {
    "collapsed": false,
    "ExecuteTime": {
     "end_time": "2023-10-25T05:46:11.777972Z",
     "start_time": "2023-10-25T05:46:11.769823Z"
    }
   },
   "id": "3dff8c09be821553"
  },
  {
   "cell_type": "code",
   "execution_count": 85,
   "outputs": [],
   "source": [
    "tree = KDTree()\n",
    "tree.build_tree(datapoints, data_colors)\n",
    "datapoints.sort(key=lambda pts: pts.coordinate)"
   ],
   "metadata": {
    "collapsed": false,
    "ExecuteTime": {
     "end_time": "2023-10-25T06:27:33.786659Z",
     "start_time": "2023-10-25T06:27:33.779762Z"
    }
   },
   "id": "b49a82a6d636bf55"
  },
  {
   "cell_type": "code",
   "execution_count": 91,
   "outputs": [
    {
     "name": "stdout",
     "output_type": "stream",
     "text": [
      "leaf:  [36, 72] 0 13 1.1090680466298403e-05\n",
      "leaf:  [34, 56] 0 157 0.25916960850804405\n",
      "node:  [[35, 7], [35, 13]] [[38, 3], [38, 3]] 3 59 0.03993489868616407\n",
      "node:  [[36, 40], [36, 40]] [[37, 39], [37, 39]] 2 57 0.3676142335997516\n",
      "leaf:  [35, 42] 0 126 0.12980071554402647\n"
     ]
    }
   ],
   "source": [
    "c_nodes = tree.query_canonical( ([34, 56], [38, 3]) )\n",
    "if len(c_nodes) > 0:\n",
    "    for c in c_nodes:\n",
    "        if c.datapoint is not None:\n",
    "            print('leaf: ', c.datapoint.coordinate, c.children, c.color, tree.level1[c.color])\n",
    "        else:\n",
    "            print('node: ', c.left_rectangle, c.right_rectangle, c.children, c.color, tree.level1[c.color])\n",
    "else:\n",
    "    print('Empty')"
   ],
   "metadata": {
    "collapsed": false,
    "ExecuteTime": {
     "end_time": "2023-10-25T06:30:17.995438Z",
     "start_time": "2023-10-25T06:30:17.990437Z"
    }
   },
   "id": "8413b6ba554e2457"
  },
  {
   "cell_type": "code",
   "execution_count": 94,
   "outputs": [
    {
     "name": "stdout",
     "output_type": "stream",
     "text": [
      "[[35, 7], [35, 13]] [[38, 3], [38, 3]] 59 4.391023635786173\n"
     ]
    }
   ],
   "source": [
    "test = tree.level1_random_selection(([34, 56], [38, 3]))\n",
    "if test.datapoint is not None:\n",
    "    print(test.datapoint.coordinate, test.color, data_colors[test.color])\n",
    "else:\n",
    "    print(test.left_rectangle, test.right_rectangle, test.color, data_colors[test.color])"
   ],
   "metadata": {
    "collapsed": false,
    "ExecuteTime": {
     "end_time": "2023-10-25T06:31:10.637598Z",
     "start_time": "2023-10-25T06:31:10.631865Z"
    }
   },
   "id": "cb4e112748a4f69"
  },
  {
   "cell_type": "code",
   "execution_count": 47,
   "outputs": [
    {
     "name": "stdout",
     "output_type": "stream",
     "text": [
      "[2, 50]\n",
      "[2, 62]\n",
      "[4, 99]\n",
      "[7, 25]\n",
      "[7, 50]\n",
      "[8, 98]\n",
      "[9, 46]\n",
      "[10, 90]\n",
      "[11, 39]\n",
      "[13, 10]\n",
      "[13, 93]\n",
      "[14, 84]\n",
      "[15, 62]\n",
      "[16, 42]\n",
      "[16, 51]\n",
      "[16, 52]\n",
      "[16, 62]\n",
      "[16, 69]\n",
      "[17, 96]\n",
      "[18, 38]\n",
      "[18, 70]\n",
      "[19, 23]\n",
      "[19, 39]\n",
      "[20, 1]\n",
      "[20, 62]\n",
      "[23, 36]\n",
      "[23, 56]\n",
      "[27, 98]\n",
      "[28, 21]\n",
      "[28, 45]\n",
      "[28, 81]\n",
      "[29, 58]\n",
      "[29, 64]\n",
      "[29, 67]\n",
      "[30, 28]\n",
      "[30, 90]\n",
      "[30, 95]\n",
      "[30, 98]\n",
      "[32, 10]\n",
      "[32, 36]\n",
      "[33, 90]\n",
      "[34, 56]\n",
      "[35, 7]\n",
      "[35, 13]\n",
      "[35, 42]\n",
      "[36, 40]\n",
      "[36, 72]\n",
      "[37, 39]\n",
      "[38, 3]\n",
      "[38, 74]\n",
      "[39, 31]\n",
      "[39, 94]\n",
      "[42, 46]\n",
      "[48, 31]\n",
      "[48, 86]\n",
      "[49, 59]\n",
      "[50, 65]\n",
      "[51, 13]\n",
      "[52, 5]\n",
      "[54, 92]\n",
      "[56, 85]\n",
      "[56, 96]\n",
      "[59, 76]\n",
      "[62, 16]\n",
      "[65, 15]\n",
      "[65, 82]\n",
      "[65, 95]\n",
      "[68, 60]\n",
      "[69, 22]\n",
      "[69, 25]\n",
      "[70, 43]\n",
      "[72, 60]\n",
      "[72, 81]\n",
      "[73, 26]\n",
      "[74, 69]\n",
      "[74, 92]\n",
      "[75, 4]\n",
      "[75, 98]\n",
      "[76, 54]\n",
      "[76, 73]\n",
      "[78, 48]\n",
      "[78, 64]\n",
      "[80, 16]\n",
      "[80, 39]\n",
      "[81, 53]\n",
      "[85, 16]\n",
      "[85, 35]\n",
      "[86, 13]\n",
      "[86, 37]\n",
      "[88, 8]\n",
      "[88, 21]\n",
      "[89, 28]\n",
      "[93, 39]\n",
      "[93, 61]\n",
      "[94, 46]\n",
      "[95, 69]\n",
      "[96, 30]\n",
      "[96, 89]\n",
      "[97, 54]\n",
      "[99, 100]\n"
     ]
    }
   ],
   "source": [
    "for datapoint in datapoints:\n",
    "    print(datapoint.coordinate)"
   ],
   "metadata": {
    "collapsed": false,
    "ExecuteTime": {
     "end_time": "2023-10-25T06:06:05.559952Z",
     "start_time": "2023-10-25T06:06:05.553427Z"
    }
   },
   "id": "d2f7e389235cbea9"
  },
  {
   "cell_type": "code",
   "execution_count": 7,
   "outputs": [
    {
     "data": {
      "text/plain": "<Figure size 640x480 with 1 Axes>",
      "image/png": "[encoded data removed]"
     },
     "metadata": {},
     "output_type": "display_data"
    }
   ],
   "source": [
    "# Let's say we have the following list of coordinates:\n",
    "crds = [dp.coordinate for dp in datapoints]\n",
    "\n",
    "# We can separate these into two lists of x and y coordinates using the zip function:\n",
    "x, y = zip(*crds)\n",
    "\n",
    "# Now we can create a scatter plot of these coordinates:\n",
    "plt.scatter(x, y)\n",
    "\n",
    "# And finally display the plot:\n",
    "plt.show()\n"
   ],
   "metadata": {
    "collapsed": false,
    "ExecuteTime": {
     "end_time": "2023-10-25T05:43:12.582393Z",
     "start_time": "2023-10-25T05:43:12.524148Z"
    }
   },
   "id": "1158ad2bb59007d2"
  },
  {
   "cell_type": "code",
   "execution_count": 8,
   "outputs": [
    {
     "data": {
      "text/plain": "True"
     },
     "execution_count": 8,
     "metadata": {},
     "output_type": "execute_result"
    }
   ],
   "source": [
    "def is_balanced(root):\n",
    "    def check(node):\n",
    "        if node is None:\n",
    "            return 0\n",
    "        left = check(node.left_child)\n",
    "        right = check(node.right_child)\n",
    "        if left == -1 or right == -1 or abs(left - right) > 1:\n",
    "            return -1\n",
    "        return 1 + max(left, right)\n",
    "\n",
    "    return check(root) != -1\n",
    "\n",
    "is_balanced(tree.root)"
   ],
   "metadata": {
    "collapsed": false,
    "ExecuteTime": {
     "end_time": "2023-10-25T05:43:12.586306Z",
     "start_time": "2023-10-25T05:43:12.579888Z"
    }
   },
   "id": "1cc9f007dd3dff97"
  },
  {
   "cell_type": "code",
   "execution_count": 8,
   "outputs": [],
   "source": [],
   "metadata": {
    "collapsed": false,
    "ExecuteTime": {
     "end_time": "2023-10-25T05:43:12.586477Z",
     "start_time": "2023-10-25T05:43:12.583938Z"
    }
   },
   "id": "68e14a304399dcb4"
  }
 ],
 "metadata": {
  "kernelspec": {
   "display_name": "Python 3",
   "language": "python",
   "name": "python3"
  },
  "language_info": {
   "codemirror_mode": {
    "name": "ipython",
    "version": 2
   },
   "file_extension": ".py",
   "mimetype": "text/x-python",
   "name": "python",
   "nbconvert_exporter": "python",
   "pygments_lexer": "ipython2",
   "version": "2.7.6"
  }
 },
 "nbformat": 4,
 "nbformat_minor": 5
}
