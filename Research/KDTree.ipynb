{
 "cells": [
  {
   "cell_type": "code",
   "execution_count": 97,
   "outputs": [],
   "source": [
    "from scipy.spatial import KDTree\n",
    "import numpy as np\n",
    "import random as rand"
   ],
   "metadata": {
    "collapsed": false,
    "ExecuteTime": {
     "end_time": "2023-10-16T00:33:13.881768800Z",
     "start_time": "2023-10-16T00:33:13.874110800Z"
    }
   },
   "id": "bd62b0da2da66c93"
  },
  {
   "cell_type": "code",
   "execution_count": 104,
   "outputs": [
    {
     "name": "stdout",
     "output_type": "stream",
     "text": [
      "[(73, 'yellow', 0.2), (80, 'yellow', 0.8), (36, 'yellow', 0.9), (94, 'blue', 0.8), (2, 'green', 0.8), (28, 'black', 0.3), (81, 'yellow', 0.4), (50, 'black', 0.3), (67, 'red', 0.5), (58, 'blue', 0.8), (38, 'yellow', 0.4), (95, 'blue', 0.6), (24, 'red', 0.7), (30, 'yellow', 0.5), (64, 'green', 0.9), (9, 'blue', 0.8), (50, 'green', 0.1), (29, 'green', 0.2), (1, 'green', 0.1), (3, 'red', 0.2), (14, 'green', 0.2), (71, 'green', 0.1), (42, 'green', 0.7), (32, 'green', 0.6), (73, 'blue', 0.3), (30, 'blue', 0.9), (20, 'green', 0.8), (31, 'blue', 0.9), (52, 'black', 0.4), (29, 'green', 0.4), (61, 'green', 0.4), (36, 'green', 0.2), (14, 'yellow', 0.9), (78, 'blue', 0.8), (100, 'blue', 0.5), (24, 'yellow', 0.2), (15, 'yellow', 0.9), (32, 'black', 0.4), (1, 'red', 0.4), (48, 'yellow', 0.1), (1, 'yellow', 0.6), (73, 'red', 0.4), (16, 'black', 0.7), (2, 'red', 0.8), (77, 'green', 0.5), (74, 'green', 0.2), (4, 'black', 0.3), (90, 'black', 0.8), (13, 'green', 0.2), (63, 'black', 0.4)]\n"
     ]
    }
   ],
   "source": [
    "colors = ['red', 'blue', 'green', 'yellow', 'black']\n",
    "weights = [0.1, 0.2, 0.3, 0.4, 0.5, 0.6, 0.7, 0.8, 0.9]\n",
    "points = [(rand.randint(1, 100), rand.choice(colors), rand.choice(weights)) for _ in range(50)]\n",
    "\n",
    "points_sorted = sorted(p for i, p in enumerate(points))\n",
    "tree = KDTree(np.array([p[0] for p in points_sorted]).reshape(-1, 1))"
   ],
   "metadata": {
    "collapsed": false,
    "ExecuteTime": {
     "end_time": "2023-10-16T00:34:14.827477700Z",
     "start_time": "2023-10-16T00:34:14.825401Z"
    }
   },
   "id": "8a792690c11ff44e"
  },
  {
   "cell_type": "code",
   "execution_count": 105,
   "outputs": [
    {
     "name": "stdout",
     "output_type": "stream",
     "text": [
      "[(4, 'black', 0.3), (9, 'blue', 0.8), (13, 'green', 0.2), (14, 'green', 0.2), (14, 'yellow', 0.9), (15, 'yellow', 0.9), (16, 'black', 0.7), (20, 'green', 0.8)]\n"
     ]
    }
   ],
   "source": [
    "query_range = (4, 20)\n",
    "\n",
    "lower_bound_index = tree.query([query_range[0]], p=float('inf'))[1]\n",
    "upper_bound_index = tree.query([query_range[1]], p=float('inf'))[1]\n",
    "\n",
    "canonical_nodes = [p for p in points_sorted[lower_bound_index:upper_bound_index+1]]\n",
    "\n",
    "print(canonical_nodes)"
   ],
   "metadata": {
    "collapsed": false,
    "ExecuteTime": {
     "end_time": "2023-10-16T00:34:17.403087Z",
     "start_time": "2023-10-16T00:34:17.399059500Z"
    }
   },
   "id": "70375379e5342764"
  },
  {
   "cell_type": "code",
   "execution_count": 89,
   "outputs": [
    {
     "data": {
      "text/plain": "0"
     },
     "execution_count": 89,
     "metadata": {},
     "output_type": "execute_result"
    }
   ],
   "source": [
    "lower_bound_index"
   ],
   "metadata": {
    "collapsed": false,
    "ExecuteTime": {
     "end_time": "2023-10-16T00:28:53.786542400Z",
     "start_time": "2023-10-16T00:28:53.784032300Z"
    }
   },
   "id": "f3f93c1c31e44ee5"
  },
  {
   "cell_type": "code",
   "execution_count": 96,
   "outputs": [],
   "source": [
    "points_sorted"
   ],
   "metadata": {
    "collapsed": false,
    "ExecuteTime": {
     "end_time": "2023-10-16T00:31:43.462965200Z",
     "start_time": "2023-10-16T00:31:43.460944200Z"
    }
   },
   "id": "19adaeeeafd710bd"
  },
  {
   "cell_type": "code",
   "execution_count": null,
   "outputs": [],
   "source": [],
   "metadata": {
    "collapsed": false
   },
   "id": "f64fe358abf42524"
  }
 ],
 "metadata": {
  "kernelspec": {
   "display_name": "Python 3",
   "language": "python",
   "name": "python3"
  },
  "language_info": {
   "codemirror_mode": {
    "name": "ipython",
    "version": 2
   },
   "file_extension": ".py",
   "mimetype": "text/x-python",
   "name": "python",
   "nbconvert_exporter": "python",
   "pygments_lexer": "ipython2",
   "version": "2.7.6"
  }
 },
 "nbformat": 4,
 "nbformat_minor": 5
}
