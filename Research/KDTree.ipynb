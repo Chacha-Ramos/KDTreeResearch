{
 "cells": [
  {
   "cell_type": "code",
   "execution_count": null,
   "outputs": [],
   "source": [
    "import random\n",
    "import numpy as np\n",
    "import matplotlib.pyplot as plt"
   ],
   "metadata": {
    "collapsed": false
   },
   "id": "30a07f642b290e3f"
  },
  {
   "cell_type": "code",
   "execution_count": null,
   "outputs": [],
   "source": [
    "class Datapoint:\n",
    "    def __init__(self, coordinate, color, **kwargs):\n",
    "        assert isinstance(coordinate, list), 'Coordinate must be a list of integers'\n",
    "        assert isinstance(color, str)\n",
    "        self.coordinate = coordinate\n",
    "        self.color = color\n",
    "        self.kwargs = kwargs\n",
    "\n",
    "class Node:\n",
    "    def __init__(self, weight = 0, children = 0, color=None, rect_1=None, rect_2=None, dp: Datapoint=None, **kwargs):\n",
    "        self.left_rectangle: list[int] or None = rect_1\n",
    "        self.right_rectangle: list[int] or None = rect_2\n",
    "        self.datapoint: Datapoint or None = dp\n",
    "        self.left_child: Node or None = None\n",
    "        self.right_child: Node or None = None\n",
    "        self.color: str or None = color\n",
    "        self.weight = weight\n",
    "        self.children = children\n",
    "        self.kwargs = kwargs\n",
    "\n",
    "class KDTree:\n",
    "    def __init__(self):\n",
    "        self.root: Node or None = None\n",
    "        self.dimension: int = 0\n",
    "        self.level1: dict[str: float] = dict()\n",
    "        self.colors: dict[str: float] or None = None\n",
    "    \n",
    "    def __calculate_probs(self, weights: list[float]) -> list[float]:\n",
    "        ai = list()\n",
    "        for weight in weights:\n",
    "            ai.append(self.__single_prob(weight))\n",
    "        return ai\n",
    "    \n",
    "    def __single_prob(self, weight) -> float:\n",
    "        return random.random() ** weight\n",
    "    \n",
    "    def __add_color(self, color: str):\n",
    "        if color not in self.level1:\n",
    "            self.level1[color] = self.__single_prob(self.colors[color])\n",
    "            \n",
    "    def level1_random_selection(self, rectangle: list) -> str:\n",
    "        c_nodes = self.query_canonical(rectangle)\n",
    "        weights = [self.level1[node.color] for node in c_nodes]\n",
    "        index_max = np.argmax(weights)\n",
    "        return c_nodes[index_max].color\n",
    "\n",
    "    def build_tree(self, points: list[Datapoint], colors: dict[str: float]):\n",
    "        assert len(points) > 0, 'There must be at least one datapoint to build tree'\n",
    "        assert len(points[0].coordinate), 'The coordinate must have at least one dimension'\n",
    "        self.dimension = len(points[0].coordinate)\n",
    "        self.colors = colors\n",
    "        self.root = self.__build_tree(points)\n",
    "\n",
    "    def __build_tree(self, points: list[Datapoint]) -> Node or None:\n",
    "        if len(points) == 0:\n",
    "            return None\n",
    "        if len(points) == 1:\n",
    "            color_1 = points[0].color\n",
    "            self.__add_color(color_1)\n",
    "            return Node(dp=points[0], color=color_1, weight=self.colors[color_1])\n",
    "        if len(points) == 2:\n",
    "            points.sort(key=lambda pts: pts.coordinate)\n",
    "            r_1 = [points[0].coordinate, points[0].coordinate]\n",
    "            r_2 = [points[1].coordinate, points[1].coordinate]\n",
    "            color_1 = points[0].color\n",
    "            color_2 = points[1].color\n",
    "            self.__add_color(color_1)\n",
    "            self.__add_color(color_2)\n",
    "            if self.level1[color_1] >= self.level1[color_2]:\n",
    "                root_color = color_1\n",
    "            else:\n",
    "                root_color = color_2\n",
    "            root = Node(rect_1=r_1, rect_2=r_2, color=root_color, children=2, weight=self.colors[color_1]+self.colors[color_2])\n",
    "            root.left_child = Node(dp=points[0], color=color_1, weight=self.colors[color_1])\n",
    "            root.right_child = Node(dp=points[1], color=color_2, weight=self.colors[color_2])\n",
    "            return root\n",
    "\n",
    "        coordinates = np.array([p.coordinate for p in points])\n",
    "        variances = np.var(coordinates, axis=0)\n",
    "        index_max_variance = np.argmax(variances)\n",
    "        points.sort(key=lambda pts: pts.coordinate[index_max_variance])\n",
    "        median_index = len(points) // 2\n",
    "        root = Node(children=len(points))\n",
    "        p1 = points[:median_index]\n",
    "        p2 = points[median_index:]\n",
    "        p1.sort(key=lambda pts: pts.coordinate)\n",
    "        p2.sort(key=lambda pts: pts.coordinate)\n",
    "        if p1[0].coordinate <= p2[0].coordinate:\n",
    "            root.left_child = self.__build_tree(p1)\n",
    "            root.right_child = self.__build_tree(p2)\n",
    "        else:\n",
    "            root.left_child = self.__build_tree(p2)\n",
    "            root.right_child = self.__build_tree(p1)\n",
    "        \n",
    "        if root.right_child.datapoint is not None:\n",
    "            r_1 = root.right_child.datapoint.coordinate\n",
    "            root.right_rectangle = [r_1 , r_1]\n",
    "        else:\n",
    "            r_1 = root.right_child.left_rectangle[0]\n",
    "            r_2 = root.right_child.right_rectangle[1]\n",
    "            root.right_rectangle = [r_1, r_2]\n",
    "            \n",
    "        if root.left_child.datapoint is not None:\n",
    "            r_1 = root.left_child.datapoint.coordinate\n",
    "            root.left_rectangle = [r_1, r_1]\n",
    "        else:\n",
    "            r_1 = root.left_child.left_rectangle[0]\n",
    "            r_2 = root.left_child.right_rectangle[1]\n",
    "            root.left_rectangle = [r_1, r_2]  \n",
    "        \n",
    "        color_1 = root.left_child.color\n",
    "        color_2 = root.right_child.color\n",
    "        if self.level1[color_1] >= self.level1[color_2]:\n",
    "            root_color = color_1\n",
    "        else:\n",
    "            root_color = color_2\n",
    "        \n",
    "        root.weight = self.colors[color_1] + self.colors[color_2]\n",
    "        root.color = root_color\n",
    "        return root\n",
    "    \n",
    "    def query_canonical(self, rectangle: list):\n",
    "        assert len(rectangle) == 2, f'There must be two coordinates to draw a query rectangle'\n",
    "        assert isinstance(rectangle[0], list) and isinstance(rectangle[0], list), 'Each coordinate must be in the format of a list'\n",
    "        assert len(rectangle[0]) == self.dimension and len(rectangle[1]) == self.dimension, f'Expected dimension of rectangle to be {self.dimension}'\n",
    "        assert rectangle[0] <= rectangle[1], 'Invalid query rectangle'\n",
    "        return self.__query_canonical(self.root, rectangle)\n",
    "    \n",
    "    def __query_canonical(self, root: Node or None, query_rect: list) -> list[Node]:\n",
    "        canonical_nodes : list[Node] = list()\n",
    "        # If the node is None, return empty list. If the node is a leaf, return empty list\n",
    "        if root is None or root.datapoint is not None:\n",
    "            return canonical_nodes\n",
    "\n",
    "        # If the node is outside the query range\n",
    "        if query_rect[1] < root.left_rectangle[0] or query_rect[0] > root.right_rectangle[1]:\n",
    "            return canonical_nodes\n",
    "        \n",
    "        # If the node is completely inside the query range, canonical node\n",
    "        if query_rect[0] <= root.left_rectangle[0] and query_rect[1] >= root.right_rectangle[1]:\n",
    "            canonical_nodes.append(root)\n",
    "            return canonical_nodes\n",
    "        \n",
    "        # Check if the right node is a leaf\n",
    "        if root.right_child.datapoint is not None:\n",
    "            leaf = root.right_child\n",
    "            if query_rect[0] <= leaf.datapoint.coordinate <= query_rect[1]:\n",
    "                canonical_nodes.append(leaf)\n",
    "        # Else check that the right node is in the query range\n",
    "        elif root.right_rectangle[0] <= query_rect[0] <= root.right_rectangle[1] or root.right_rectangle[0] <= query_rect[1] <= root.right_rectangle[1]:\n",
    "            canonical_nodes.extend(self.__query_canonical(root.right_child, query_rect))\n",
    "        # Else check that the right node is completely inside the query range\n",
    "        elif root.right_rectangle[0] >= query_rect[0] and root.right_rectangle[1] <= query_rect[1]:\n",
    "            canonical_nodes.extend(self.__query_canonical(root.right_child, query_rect))\n",
    "        \n",
    "        # Check if left node is a leaf\n",
    "        if root.left_child.datapoint is not None:\n",
    "            leaf = root.left_child\n",
    "            if query_rect[0] <= leaf.datapoint.coordinate <= query_rect[1]:\n",
    "                canonical_nodes.append(leaf)\n",
    "        # Else check that the left node is partially in the query range\n",
    "        elif root.left_rectangle[0] <= query_rect[0] <= root.left_rectangle[1] or root.left_rectangle[0] <= query_rect[1] <= root.left_rectangle[1]:\n",
    "            canonical_nodes.extend(self.__query_canonical(root.left_child, query_rect))\n",
    "        # Else check that the left node is completely inside the query range\n",
    "        elif root.left_rectangle[0] >= query_rect[0] and root.left_rectangle[1] <= query_rect[1]:\n",
    "            canonical_nodes.extend(self.__query_canonical(root.left_child, query_rect))\n",
    "                    \n",
    "        return canonical_nodes\n",
    "        \n",
    "        "
   ],
   "metadata": {
    "collapsed": false
   },
   "id": "e48bc1596bdbc586"
  },
  {
   "cell_type": "code",
   "execution_count": null,
   "outputs": [],
   "source": [
    "data_colors = {str(i): random.uniform(1,10) for i in range(1, 201)}\n",
    "\n",
    "datapoints = [Datapoint([random.randint(1, 100), random.randint(1, 100)], color=random.choice( list(data_colors.keys()) ) ) for i in range(100)]"
   ],
   "metadata": {
    "collapsed": false
   },
   "id": "3dff8c09be821553"
  },
  {
   "cell_type": "code",
   "execution_count": null,
   "outputs": [],
   "source": [
    "tree = KDTree()\n",
    "tree.build_tree(datapoints, data_colors)\n",
    "datapoints.sort(key=lambda pts: pts.coordinate)"
   ],
   "metadata": {
    "collapsed": false
   },
   "id": "b49a82a6d636bf55"
  },
  {
   "cell_type": "code",
   "execution_count": null,
   "outputs": [],
   "source": [
    "c_nodes = tree.query_canonical( ([34, 56], [38, 3]) )\n",
    "if len(c_nodes) > 0:\n",
    "    for c in c_nodes:\n",
    "        if c.datapoint is not None:\n",
    "            print('leaf: ', c.datapoint.coordinate, c.children, c.color, tree.level1[c.color])\n",
    "        else:\n",
    "            print('node: ', c.left_rectangle, c.right_rectangle, c.children, c.color, tree.level1[c.color])\n",
    "else:\n",
    "    print('Empty')"
   ],
   "metadata": {
    "collapsed": false
   },
   "id": "8413b6ba554e2457"
  },
  {
   "cell_type": "code",
   "execution_count": null,
   "outputs": [],
   "source": [
    "tree.level1_random_selection(([34, 56], [38, 3]))"
   ],
   "metadata": {
    "collapsed": false
   },
   "id": "cb4e112748a4f69"
  },
  {
   "cell_type": "code",
   "execution_count": null,
   "outputs": [],
   "source": [
    "for datapoint in datapoints:\n",
    "    print(datapoint.coordinate)"
   ],
   "metadata": {
    "collapsed": false
   },
   "id": "d2f7e389235cbea9"
  },
  {
   "cell_type": "code",
   "execution_count": null,
   "outputs": [],
   "source": [
    "# Let's say we have the following list of coordinates:\n",
    "crds = [dp.coordinate for dp in datapoints]\n",
    "\n",
    "# We can separate these into two lists of x and y coordinates using the zip function:\n",
    "x, y = zip(*crds)\n",
    "\n",
    "# Now we can create a scatter plot of these coordinates:\n",
    "plt.scatter(x, y)\n",
    "\n",
    "# And finally display the plot:\n",
    "plt.show()\n"
   ],
   "metadata": {
    "collapsed": false
   },
   "id": "1158ad2bb59007d2"
  },
  {
   "cell_type": "code",
   "execution_count": null,
   "outputs": [],
   "source": [
    "def is_balanced(root):\n",
    "    def check(node):\n",
    "        if node is None:\n",
    "            return 0\n",
    "        left = check(node.left_child)\n",
    "        right = check(node.right_child)\n",
    "        if left == -1 or right == -1 or abs(left - right) > 1:\n",
    "            return -1\n",
    "        return 1 + max(left, right)\n",
    "\n",
    "    return check(root) != -1\n",
    "\n",
    "is_balanced(tree.root)"
   ],
   "metadata": {
    "collapsed": false
   },
   "id": "1cc9f007dd3dff97"
  },
  {
   "cell_type": "code",
   "execution_count": null,
   "outputs": [],
   "source": [],
   "metadata": {
    "collapsed": false
   },
   "id": "68e14a304399dcb4"
  }
 ],
 "metadata": {
  "kernelspec": {
   "display_name": "Python 3",
   "language": "python",
   "name": "python3"
  },
  "language_info": {
   "codemirror_mode": {
    "name": "ipython",
    "version": 2
   },
   "file_extension": ".py",
   "mimetype": "text/x-python",
   "name": "python",
   "nbconvert_exporter": "python",
   "pygments_lexer": "ipython2",
   "version": "2.7.6"
  }
 },
 "nbformat": 4,
 "nbformat_minor": 5
}
