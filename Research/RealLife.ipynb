{
 "cells": [
  {
   "cell_type": "code",
   "execution_count": 1,
   "outputs": [],
   "source": [
    "import random\n",
    "import numpy as np\n",
    "import matplotlib.pyplot as plt\n",
    "from KDTree import Datapoint\n",
    "from KDTree import KDTree\n",
    "import pandas as pd"
   ],
   "metadata": {
    "collapsed": false,
    "ExecuteTime": {
     "end_time": "2023-11-27T17:53:32.271464Z",
     "start_time": "2023-11-27T17:53:31.608957Z"
    }
   },
   "id": "initial_id"
  },
  {
   "cell_type": "code",
   "execution_count": 2,
   "outputs": [
    {
     "data": {
      "text/plain": "       age         workclass  fnlwgt  education  education-num  \\\n0       39         State-gov   77516  Bachelors             13   \n1       50  Self-emp-not-inc   83311  Bachelors             13   \n2       38           Private  215646    HS-grad              9   \n3       53           Private  234721       11th              7   \n4       28           Private  338409  Bachelors             13   \n...    ...               ...     ...        ...            ...   \n48837   39           Private  215419  Bachelors             13   \n48838   64              None  321403    HS-grad              9   \n48839   38           Private  374983  Bachelors             13   \n48840   44           Private   83891  Bachelors             13   \n48841   35      Self-emp-inc  182148  Bachelors             13   \n\n           marital-status         occupation    relationship  \\\n0           Never-married       Adm-clerical   Not-in-family   \n1      Married-civ-spouse    Exec-managerial         Husband   \n2                Divorced  Handlers-cleaners   Not-in-family   \n3      Married-civ-spouse  Handlers-cleaners         Husband   \n4      Married-civ-spouse     Prof-specialty            Wife   \n...                   ...                ...             ...   \n48837            Divorced     Prof-specialty   Not-in-family   \n48838             Widowed               None  Other-relative   \n48839  Married-civ-spouse     Prof-specialty         Husband   \n48840            Divorced       Adm-clerical       Own-child   \n48841  Married-civ-spouse    Exec-managerial         Husband   \n\n                     race     sex  capital-gain  capital-loss  hours-per-week  \\\n0                   White    Male          2174             0              40   \n1                   White    Male             0             0              13   \n2                   White    Male             0             0              40   \n3                   Black    Male             0             0              40   \n4                   Black  Female             0             0              40   \n...                   ...     ...           ...           ...             ...   \n48837               White  Female             0             0              36   \n48838               Black    Male             0             0              40   \n48839               White    Male             0             0              50   \n48840  Asian-Pac-Islander    Male          5455             0              40   \n48841               White    Male             0             0              60   \n\n      native-country  income  \n0      United-States   <=50K  \n1      United-States   <=50K  \n2      United-States   <=50K  \n3      United-States   <=50K  \n4               Cuba   <=50K  \n...              ...     ...  \n48837  United-States  <=50K.  \n48838  United-States  <=50K.  \n48839  United-States  <=50K.  \n48840  United-States  <=50K.  \n48841  United-States   >50K.  \n\n[48842 rows x 15 columns]",
      "text/html": "<div>\n<style scoped>\n    .dataframe tbody tr th:only-of-type {\n        vertical-align: middle;\n    }\n\n    .dataframe tbody tr th {\n        vertical-align: top;\n    }\n\n    .dataframe thead th {\n        text-align: right;\n    }\n</style>\n<table border=\"1\" class=\"dataframe\">\n  <thead>\n    <tr style=\"text-align: right;\">\n      <th></th>\n      <th>age</th>\n      <th>workclass</th>\n      <th>fnlwgt</th>\n      <th>education</th>\n      <th>education-num</th>\n      <th>marital-status</th>\n      <th>occupation</th>\n      <th>relationship</th>\n      <th>race</th>\n      <th>sex</th>\n      <th>capital-gain</th>\n      <th>capital-loss</th>\n      <th>hours-per-week</th>\n      <th>native-country</th>\n      <th>income</th>\n    </tr>\n  </thead>\n  <tbody>\n    <tr>\n      <th>0</th>\n      <td>39</td>\n      <td>State-gov</td>\n      <td>77516</td>\n      <td>Bachelors</td>\n      <td>13</td>\n      <td>Never-married</td>\n      <td>Adm-clerical</td>\n      <td>Not-in-family</td>\n      <td>White</td>\n      <td>Male</td>\n      <td>2174</td>\n      <td>0</td>\n      <td>40</td>\n      <td>United-States</td>\n      <td>&lt;=50K</td>\n    </tr>\n    <tr>\n      <th>1</th>\n      <td>50</td>\n      <td>Self-emp-not-inc</td>\n      <td>83311</td>\n      <td>Bachelors</td>\n      <td>13</td>\n      <td>Married-civ-spouse</td>\n      <td>Exec-managerial</td>\n      <td>Husband</td>\n      <td>White</td>\n      <td>Male</td>\n      <td>0</td>\n      <td>0</td>\n      <td>13</td>\n      <td>United-States</td>\n      <td>&lt;=50K</td>\n    </tr>\n    <tr>\n      <th>2</th>\n      <td>38</td>\n      <td>Private</td>\n      <td>215646</td>\n      <td>HS-grad</td>\n      <td>9</td>\n      <td>Divorced</td>\n      <td>Handlers-cleaners</td>\n      <td>Not-in-family</td>\n      <td>White</td>\n      <td>Male</td>\n      <td>0</td>\n      <td>0</td>\n      <td>40</td>\n      <td>United-States</td>\n      <td>&lt;=50K</td>\n    </tr>\n    <tr>\n      <th>3</th>\n      <td>53</td>\n      <td>Private</td>\n      <td>234721</td>\n      <td>11th</td>\n      <td>7</td>\n      <td>Married-civ-spouse</td>\n      <td>Handlers-cleaners</td>\n      <td>Husband</td>\n      <td>Black</td>\n      <td>Male</td>\n      <td>0</td>\n      <td>0</td>\n      <td>40</td>\n      <td>United-States</td>\n      <td>&lt;=50K</td>\n    </tr>\n    <tr>\n      <th>4</th>\n      <td>28</td>\n      <td>Private</td>\n      <td>338409</td>\n      <td>Bachelors</td>\n      <td>13</td>\n      <td>Married-civ-spouse</td>\n      <td>Prof-specialty</td>\n      <td>Wife</td>\n      <td>Black</td>\n      <td>Female</td>\n      <td>0</td>\n      <td>0</td>\n      <td>40</td>\n      <td>Cuba</td>\n      <td>&lt;=50K</td>\n    </tr>\n    <tr>\n      <th>...</th>\n      <td>...</td>\n      <td>...</td>\n      <td>...</td>\n      <td>...</td>\n      <td>...</td>\n      <td>...</td>\n      <td>...</td>\n      <td>...</td>\n      <td>...</td>\n      <td>...</td>\n      <td>...</td>\n      <td>...</td>\n      <td>...</td>\n      <td>...</td>\n      <td>...</td>\n    </tr>\n    <tr>\n      <th>48837</th>\n      <td>39</td>\n      <td>Private</td>\n      <td>215419</td>\n      <td>Bachelors</td>\n      <td>13</td>\n      <td>Divorced</td>\n      <td>Prof-specialty</td>\n      <td>Not-in-family</td>\n      <td>White</td>\n      <td>Female</td>\n      <td>0</td>\n      <td>0</td>\n      <td>36</td>\n      <td>United-States</td>\n      <td>&lt;=50K.</td>\n    </tr>\n    <tr>\n      <th>48838</th>\n      <td>64</td>\n      <td>None</td>\n      <td>321403</td>\n      <td>HS-grad</td>\n      <td>9</td>\n      <td>Widowed</td>\n      <td>None</td>\n      <td>Other-relative</td>\n      <td>Black</td>\n      <td>Male</td>\n      <td>0</td>\n      <td>0</td>\n      <td>40</td>\n      <td>United-States</td>\n      <td>&lt;=50K.</td>\n    </tr>\n    <tr>\n      <th>48839</th>\n      <td>38</td>\n      <td>Private</td>\n      <td>374983</td>\n      <td>Bachelors</td>\n      <td>13</td>\n      <td>Married-civ-spouse</td>\n      <td>Prof-specialty</td>\n      <td>Husband</td>\n      <td>White</td>\n      <td>Male</td>\n      <td>0</td>\n      <td>0</td>\n      <td>50</td>\n      <td>United-States</td>\n      <td>&lt;=50K.</td>\n    </tr>\n    <tr>\n      <th>48840</th>\n      <td>44</td>\n      <td>Private</td>\n      <td>83891</td>\n      <td>Bachelors</td>\n      <td>13</td>\n      <td>Divorced</td>\n      <td>Adm-clerical</td>\n      <td>Own-child</td>\n      <td>Asian-Pac-Islander</td>\n      <td>Male</td>\n      <td>5455</td>\n      <td>0</td>\n      <td>40</td>\n      <td>United-States</td>\n      <td>&lt;=50K.</td>\n    </tr>\n    <tr>\n      <th>48841</th>\n      <td>35</td>\n      <td>Self-emp-inc</td>\n      <td>182148</td>\n      <td>Bachelors</td>\n      <td>13</td>\n      <td>Married-civ-spouse</td>\n      <td>Exec-managerial</td>\n      <td>Husband</td>\n      <td>White</td>\n      <td>Male</td>\n      <td>0</td>\n      <td>0</td>\n      <td>60</td>\n      <td>United-States</td>\n      <td>&gt;50K.</td>\n    </tr>\n  </tbody>\n</table>\n<p>48842 rows × 15 columns</p>\n</div>"
     },
     "execution_count": 2,
     "metadata": {},
     "output_type": "execute_result"
    }
   ],
   "source": [
    "df = pd.read_feather('data.feather')\n",
    "df"
   ],
   "metadata": {
    "collapsed": false,
    "ExecuteTime": {
     "end_time": "2023-11-27T17:53:32.296672Z",
     "start_time": "2023-11-27T17:53:32.272868Z"
    }
   },
   "id": "c2c36e181aed7bc8"
  },
  {
   "cell_type": "code",
   "execution_count": 3,
   "outputs": [],
   "source": [
    "raceSexCounter = dict()\n",
    "def create_color(row):\n",
    "    raceSex = row.race + row.sex\n",
    "    if raceSex not in raceSexCounter:\n",
    "        raceSexCounter[raceSex] = 0\n",
    "    raceSexCounter[raceSex] += 1"
   ],
   "metadata": {
    "collapsed": false,
    "ExecuteTime": {
     "end_time": "2023-11-27T17:53:32.299090Z",
     "start_time": "2023-11-27T17:53:32.297669Z"
    }
   },
   "id": "eeae05973b31925d"
  },
  {
   "cell_type": "code",
   "execution_count": 4,
   "outputs": [
    {
     "data": {
      "text/plain": "0        None\n1        None\n2        None\n3        None\n4        None\n         ... \n48837    None\n48838    None\n48839    None\n48840    None\n48841    None\nLength: 48842, dtype: object"
     },
     "execution_count": 4,
     "metadata": {},
     "output_type": "execute_result"
    }
   ],
   "source": [
    "df.apply(lambda row: create_color(row), axis=1)"
   ],
   "metadata": {
    "collapsed": false,
    "ExecuteTime": {
     "end_time": "2023-11-27T17:53:32.586473Z",
     "start_time": "2023-11-27T17:53:32.300369Z"
    }
   },
   "id": "549da6a9302b33ef"
  },
  {
   "cell_type": "code",
   "execution_count": 5,
   "outputs": [],
   "source": [
    "colors1 = dict()\n",
    "colors2 = dict()\n",
    "dp_colors1 = dict()\n",
    "dp_colors2 = dict()\n",
    "counter = 0\n",
    "for key, val in raceSexCounter.items():\n",
    "    colors1[key] = {'color': counter, 'weight': val/48842}\n",
    "    colors2[key] = {'color': counter, 'weight': 1 - val/48842}\n",
    "    dp_colors1[str(counter)] = val/48842\n",
    "    dp_colors2[str(counter)] = 1 - val/48842\n",
    "    counter += 1"
   ],
   "metadata": {
    "collapsed": false,
    "ExecuteTime": {
     "end_time": "2023-11-27T17:53:32.590750Z",
     "start_time": "2023-11-27T17:53:32.585700Z"
    }
   },
   "id": "6dfa64153d59cf42"
  },
  {
   "cell_type": "code",
   "execution_count": 6,
   "outputs": [
    {
     "data": {
      "text/plain": "{'WhiteMale': {'color': 0, 'weight': 0.5883256213914254},\n 'BlackMale': {'color': 1, 'weight': 0.04866713074812661},\n 'BlackFemale': {'color': 2, 'weight': 0.04725441218623316},\n 'WhiteFemale': {'color': 3, 'weight': 0.2667171696490725},\n 'Asian-Pac-IslanderMale': {'color': 4, 'weight': 0.0205151304205397},\n 'Amer-Indian-EskimoMale': {'color': 5, 'weight': 0.005835141886081651},\n 'OtherFemale': {'color': 6, 'weight': 0.0031734982187461612},\n 'Asian-Pac-IslanderFemale': {'color': 7, 'weight': 0.010585152123172679},\n 'Amer-Indian-EskimoFemale': {'color': 8, 'weight': 0.0037877236804389667},\n 'OtherMale': {'color': 9, 'weight': 0.005139019696163138}}"
     },
     "execution_count": 6,
     "metadata": {},
     "output_type": "execute_result"
    }
   ],
   "source": [
    "colors1"
   ],
   "metadata": {
    "collapsed": false,
    "ExecuteTime": {
     "end_time": "2023-11-27T17:53:32.591666Z",
     "start_time": "2023-11-27T17:53:32.589275Z"
    }
   },
   "id": "991d4913ba74b3bc"
  },
  {
   "cell_type": "code",
   "execution_count": 7,
   "outputs": [
    {
     "data": {
      "text/plain": "{'WhiteMale': {'color': 0, 'weight': 0.4116743786085746},\n 'BlackMale': {'color': 1, 'weight': 0.9513328692518734},\n 'BlackFemale': {'color': 2, 'weight': 0.9527455878137668},\n 'WhiteFemale': {'color': 3, 'weight': 0.7332828303509276},\n 'Asian-Pac-IslanderMale': {'color': 4, 'weight': 0.9794848695794603},\n 'Amer-Indian-EskimoMale': {'color': 5, 'weight': 0.9941648581139183},\n 'OtherFemale': {'color': 6, 'weight': 0.9968265017812539},\n 'Asian-Pac-IslanderFemale': {'color': 7, 'weight': 0.9894148478768273},\n 'Amer-Indian-EskimoFemale': {'color': 8, 'weight': 0.996212276319561},\n 'OtherMale': {'color': 9, 'weight': 0.9948609803038369}}"
     },
     "execution_count": 7,
     "metadata": {},
     "output_type": "execute_result"
    }
   ],
   "source": [
    "colors2"
   ],
   "metadata": {
    "collapsed": false,
    "ExecuteTime": {
     "end_time": "2023-11-27T17:53:32.596088Z",
     "start_time": "2023-11-27T17:53:32.592484Z"
    }
   },
   "id": "7a5d2d04bda10b8"
  },
  {
   "cell_type": "code",
   "execution_count": 9,
   "outputs": [],
   "source": [
    "datapoints1 = list()\n",
    "datapoints2 = list()\n",
    "for row in df.itertuples():\n",
    "    raceSex = row.race + row.sex\n",
    "    dp1 = Datapoint(coordinate=[row.age, row.fnlwgt, row._5, row._11, row._12, row._13 ], color=str(colors1[raceSex]['color']))\n",
    "    dp2 = Datapoint(coordinate=[row.age, row.fnlwgt, row._5, row._11, row._12, row._13 ], color=str(colors2[raceSex]['color']))\n",
    "    datapoints1.append(dp1)\n",
    "    datapoints2.append(dp2)"
   ],
   "metadata": {
    "collapsed": false,
    "ExecuteTime": {
     "end_time": "2023-11-27T17:53:41.567749Z",
     "start_time": "2023-11-27T17:53:41.403287Z"
    }
   },
   "id": "8e9ed8373a7e152a"
  },
  {
   "cell_type": "code",
   "execution_count": 10,
   "outputs": [],
   "source": [
    "tree1 = KDTree()\n",
    "tree2 = KDTree()"
   ],
   "metadata": {
    "collapsed": false,
    "ExecuteTime": {
     "end_time": "2023-11-27T17:53:42.259122Z",
     "start_time": "2023-11-27T17:53:42.254639Z"
    }
   },
   "id": "ea1a17b44bac92c9"
  },
  {
   "cell_type": "code",
   "execution_count": 11,
   "outputs": [
    {
     "name": "stdout",
     "output_type": "stream",
     "text": [
      "[[34, 19847, 9, 0, 0, 40], [34, 19847, 9, 0, 0, 40]] [[36, 19914, 10, 0, 0, 40], [36, 19914, 10, 0, 0, 40]]\n",
      "[[30, 19847, 10, 0, 0, 40], [30, 19847, 10, 0, 0, 40]] [[34, 19847], [36, 19914]]\n"
     ]
    },
    {
     "ename": "ValueError",
     "evalue": "setting an array element with a sequence. The requested array has an inhomogeneous shape after 1 dimensions. The detected shape was (4,) + inhomogeneous part.",
     "output_type": "error",
     "traceback": [
      "\u001B[0;31m---------------------------------------------------------------------------\u001B[0m",
      "\u001B[0;31mValueError\u001B[0m                                Traceback (most recent call last)",
      "Cell \u001B[0;32mIn[11], line 1\u001B[0m\n\u001B[0;32m----> 1\u001B[0m \u001B[43mtree1\u001B[49m\u001B[38;5;241;43m.\u001B[39;49m\u001B[43mbuild_tree\u001B[49m\u001B[43m(\u001B[49m\u001B[43mdatapoints1\u001B[49m\u001B[43m,\u001B[49m\u001B[43m \u001B[49m\u001B[43mdp_colors1\u001B[49m\u001B[43m)\u001B[49m\n",
      "File \u001B[0;32m~/Documents/Programming/Personal/Research/KDTree.py:96\u001B[0m, in \u001B[0;36mKDTree.build_tree\u001B[0;34m(self, points, colors)\u001B[0m\n\u001B[1;32m     94\u001B[0m \u001B[38;5;28mself\u001B[39m\u001B[38;5;241m.\u001B[39mdimension \u001B[38;5;241m=\u001B[39m \u001B[38;5;28mlen\u001B[39m(points[\u001B[38;5;241m0\u001B[39m]\u001B[38;5;241m.\u001B[39mcoordinate)\n\u001B[1;32m     95\u001B[0m \u001B[38;5;28mself\u001B[39m\u001B[38;5;241m.\u001B[39mcolors \u001B[38;5;241m=\u001B[39m colors\n\u001B[0;32m---> 96\u001B[0m \u001B[38;5;28mself\u001B[39m\u001B[38;5;241m.\u001B[39mroot \u001B[38;5;241m=\u001B[39m \u001B[38;5;28;43mself\u001B[39;49m\u001B[38;5;241;43m.\u001B[39;49m\u001B[43m__build_tree\u001B[49m\u001B[43m(\u001B[49m\u001B[43mpoints\u001B[49m\u001B[43m)\u001B[49m\n",
      "File \u001B[0;32m~/Documents/Programming/Personal/Research/KDTree.py:145\u001B[0m, in \u001B[0;36mKDTree.__build_tree\u001B[0;34m(self, points)\u001B[0m\n\u001B[1;32m    143\u001B[0m p2\u001B[38;5;241m.\u001B[39msort(key\u001B[38;5;241m=\u001B[39m\u001B[38;5;28;01mlambda\u001B[39;00m pts: pts\u001B[38;5;241m.\u001B[39mcoordinate)\n\u001B[1;32m    144\u001B[0m \u001B[38;5;28;01mif\u001B[39;00m p1[\u001B[38;5;241m0\u001B[39m]\u001B[38;5;241m.\u001B[39mcoordinate \u001B[38;5;241m<\u001B[39m\u001B[38;5;241m=\u001B[39m p2[\u001B[38;5;241m0\u001B[39m]\u001B[38;5;241m.\u001B[39mcoordinate:\n\u001B[0;32m--> 145\u001B[0m     root\u001B[38;5;241m.\u001B[39mleft_child \u001B[38;5;241m=\u001B[39m \u001B[38;5;28;43mself\u001B[39;49m\u001B[38;5;241;43m.\u001B[39;49m\u001B[43m__build_tree\u001B[49m\u001B[43m(\u001B[49m\u001B[43mp1\u001B[49m\u001B[43m)\u001B[49m\n\u001B[1;32m    146\u001B[0m     root\u001B[38;5;241m.\u001B[39mright_child \u001B[38;5;241m=\u001B[39m \u001B[38;5;28mself\u001B[39m\u001B[38;5;241m.\u001B[39m__build_tree(p2)\n\u001B[1;32m    147\u001B[0m \u001B[38;5;28;01melse\u001B[39;00m:\n",
      "File \u001B[0;32m~/Documents/Programming/Personal/Research/KDTree.py:145\u001B[0m, in \u001B[0;36mKDTree.__build_tree\u001B[0;34m(self, points)\u001B[0m\n\u001B[1;32m    143\u001B[0m p2\u001B[38;5;241m.\u001B[39msort(key\u001B[38;5;241m=\u001B[39m\u001B[38;5;28;01mlambda\u001B[39;00m pts: pts\u001B[38;5;241m.\u001B[39mcoordinate)\n\u001B[1;32m    144\u001B[0m \u001B[38;5;28;01mif\u001B[39;00m p1[\u001B[38;5;241m0\u001B[39m]\u001B[38;5;241m.\u001B[39mcoordinate \u001B[38;5;241m<\u001B[39m\u001B[38;5;241m=\u001B[39m p2[\u001B[38;5;241m0\u001B[39m]\u001B[38;5;241m.\u001B[39mcoordinate:\n\u001B[0;32m--> 145\u001B[0m     root\u001B[38;5;241m.\u001B[39mleft_child \u001B[38;5;241m=\u001B[39m \u001B[38;5;28;43mself\u001B[39;49m\u001B[38;5;241;43m.\u001B[39;49m\u001B[43m__build_tree\u001B[49m\u001B[43m(\u001B[49m\u001B[43mp1\u001B[49m\u001B[43m)\u001B[49m\n\u001B[1;32m    146\u001B[0m     root\u001B[38;5;241m.\u001B[39mright_child \u001B[38;5;241m=\u001B[39m \u001B[38;5;28mself\u001B[39m\u001B[38;5;241m.\u001B[39m__build_tree(p2)\n\u001B[1;32m    147\u001B[0m \u001B[38;5;28;01melse\u001B[39;00m:\n",
      "    \u001B[0;31m[... skipping similar frames: KDTree.__build_tree at line 145 (8 times)]\u001B[0m\n",
      "File \u001B[0;32m~/Documents/Programming/Personal/Research/KDTree.py:145\u001B[0m, in \u001B[0;36mKDTree.__build_tree\u001B[0;34m(self, points)\u001B[0m\n\u001B[1;32m    143\u001B[0m p2\u001B[38;5;241m.\u001B[39msort(key\u001B[38;5;241m=\u001B[39m\u001B[38;5;28;01mlambda\u001B[39;00m pts: pts\u001B[38;5;241m.\u001B[39mcoordinate)\n\u001B[1;32m    144\u001B[0m \u001B[38;5;28;01mif\u001B[39;00m p1[\u001B[38;5;241m0\u001B[39m]\u001B[38;5;241m.\u001B[39mcoordinate \u001B[38;5;241m<\u001B[39m\u001B[38;5;241m=\u001B[39m p2[\u001B[38;5;241m0\u001B[39m]\u001B[38;5;241m.\u001B[39mcoordinate:\n\u001B[0;32m--> 145\u001B[0m     root\u001B[38;5;241m.\u001B[39mleft_child \u001B[38;5;241m=\u001B[39m \u001B[38;5;28;43mself\u001B[39;49m\u001B[38;5;241;43m.\u001B[39;49m\u001B[43m__build_tree\u001B[49m\u001B[43m(\u001B[49m\u001B[43mp1\u001B[49m\u001B[43m)\u001B[49m\n\u001B[1;32m    146\u001B[0m     root\u001B[38;5;241m.\u001B[39mright_child \u001B[38;5;241m=\u001B[39m \u001B[38;5;28mself\u001B[39m\u001B[38;5;241m.\u001B[39m__build_tree(p2)\n\u001B[1;32m    147\u001B[0m \u001B[38;5;28;01melse\u001B[39;00m:\n",
      "File \u001B[0;32m~/Documents/Programming/Personal/Research/KDTree.py:148\u001B[0m, in \u001B[0;36mKDTree.__build_tree\u001B[0;34m(self, points)\u001B[0m\n\u001B[1;32m    146\u001B[0m     root\u001B[38;5;241m.\u001B[39mright_child \u001B[38;5;241m=\u001B[39m \u001B[38;5;28mself\u001B[39m\u001B[38;5;241m.\u001B[39m__build_tree(p2)\n\u001B[1;32m    147\u001B[0m \u001B[38;5;28;01melse\u001B[39;00m:\n\u001B[0;32m--> 148\u001B[0m     root\u001B[38;5;241m.\u001B[39mleft_child \u001B[38;5;241m=\u001B[39m \u001B[38;5;28;43mself\u001B[39;49m\u001B[38;5;241;43m.\u001B[39;49m\u001B[43m__build_tree\u001B[49m\u001B[43m(\u001B[49m\u001B[43mp2\u001B[49m\u001B[43m)\u001B[49m\n\u001B[1;32m    149\u001B[0m     root\u001B[38;5;241m.\u001B[39mright_child \u001B[38;5;241m=\u001B[39m \u001B[38;5;28mself\u001B[39m\u001B[38;5;241m.\u001B[39m__build_tree(p1)\n\u001B[1;32m    151\u001B[0m \u001B[38;5;28;01mif\u001B[39;00m root\u001B[38;5;241m.\u001B[39mright_child\u001B[38;5;241m.\u001B[39mdatapoint \u001B[38;5;129;01mis\u001B[39;00m \u001B[38;5;129;01mnot\u001B[39;00m \u001B[38;5;28;01mNone\u001B[39;00m:\n",
      "File \u001B[0;32m~/Documents/Programming/Personal/Research/KDTree.py:148\u001B[0m, in \u001B[0;36mKDTree.__build_tree\u001B[0;34m(self, points)\u001B[0m\n\u001B[1;32m    146\u001B[0m     root\u001B[38;5;241m.\u001B[39mright_child \u001B[38;5;241m=\u001B[39m \u001B[38;5;28mself\u001B[39m\u001B[38;5;241m.\u001B[39m__build_tree(p2)\n\u001B[1;32m    147\u001B[0m \u001B[38;5;28;01melse\u001B[39;00m:\n\u001B[0;32m--> 148\u001B[0m     root\u001B[38;5;241m.\u001B[39mleft_child \u001B[38;5;241m=\u001B[39m \u001B[38;5;28;43mself\u001B[39;49m\u001B[38;5;241;43m.\u001B[39;49m\u001B[43m__build_tree\u001B[49m\u001B[43m(\u001B[49m\u001B[43mp2\u001B[49m\u001B[43m)\u001B[49m\n\u001B[1;32m    149\u001B[0m     root\u001B[38;5;241m.\u001B[39mright_child \u001B[38;5;241m=\u001B[39m \u001B[38;5;28mself\u001B[39m\u001B[38;5;241m.\u001B[39m__build_tree(p1)\n\u001B[1;32m    151\u001B[0m \u001B[38;5;28;01mif\u001B[39;00m root\u001B[38;5;241m.\u001B[39mright_child\u001B[38;5;241m.\u001B[39mdatapoint \u001B[38;5;129;01mis\u001B[39;00m \u001B[38;5;129;01mnot\u001B[39;00m \u001B[38;5;28;01mNone\u001B[39;00m:\n",
      "File \u001B[0;32m~/Documents/Programming/Personal/Research/KDTree.py:160\u001B[0m, in \u001B[0;36mKDTree.__build_tree\u001B[0;34m(self, points)\u001B[0m\n\u001B[1;32m    158\u001B[0m right_child \u001B[38;5;241m=\u001B[39m root\u001B[38;5;241m.\u001B[39mright_child\n\u001B[1;32m    159\u001B[0m \u001B[38;5;28mprint\u001B[39m(right_child\u001B[38;5;241m.\u001B[39mleft_rectangle, right_child\u001B[38;5;241m.\u001B[39mright_rectangle)\n\u001B[0;32m--> 160\u001B[0m min_l \u001B[38;5;241m=\u001B[39m \u001B[43mnp\u001B[49m\u001B[38;5;241;43m.\u001B[39;49m\u001B[43mmin\u001B[49m\u001B[43m(\u001B[49m\u001B[43mright_child\u001B[49m\u001B[38;5;241;43m.\u001B[39;49m\u001B[43mleft_rectangle\u001B[49m\u001B[43m \u001B[49m\u001B[38;5;241;43m+\u001B[39;49m\u001B[43m \u001B[49m\u001B[43mright_child\u001B[49m\u001B[38;5;241;43m.\u001B[39;49m\u001B[43mright_rectangle\u001B[49m\u001B[43m,\u001B[49m\u001B[43m \u001B[49m\u001B[43maxis\u001B[49m\u001B[38;5;241;43m=\u001B[39;49m\u001B[38;5;241;43m0\u001B[39;49m\u001B[43m)\u001B[49m\n\u001B[1;32m    161\u001B[0m max_r \u001B[38;5;241m=\u001B[39m np\u001B[38;5;241m.\u001B[39mmax(right_child\u001B[38;5;241m.\u001B[39mleft_rectangle \u001B[38;5;241m+\u001B[39m right_child\u001B[38;5;241m.\u001B[39mright_rectangle, axis\u001B[38;5;241m=\u001B[39m\u001B[38;5;241m0\u001B[39m)\n\u001B[1;32m    163\u001B[0m r_1 \u001B[38;5;241m=\u001B[39m [min_l[\u001B[38;5;241m0\u001B[39m], min_l[\u001B[38;5;241m1\u001B[39m]]\n",
      "File \u001B[0;32m~/mambaforge/lib/python3.11/site-packages/numpy/core/fromnumeric.py:2953\u001B[0m, in \u001B[0;36mmin\u001B[0;34m(a, axis, out, keepdims, initial, where)\u001B[0m\n\u001B[1;32m   2836\u001B[0m \u001B[38;5;129m@array_function_dispatch\u001B[39m(_min_dispatcher)\n\u001B[1;32m   2837\u001B[0m \u001B[38;5;28;01mdef\u001B[39;00m \u001B[38;5;21mmin\u001B[39m(a, axis\u001B[38;5;241m=\u001B[39m\u001B[38;5;28;01mNone\u001B[39;00m, out\u001B[38;5;241m=\u001B[39m\u001B[38;5;28;01mNone\u001B[39;00m, keepdims\u001B[38;5;241m=\u001B[39mnp\u001B[38;5;241m.\u001B[39m_NoValue, initial\u001B[38;5;241m=\u001B[39mnp\u001B[38;5;241m.\u001B[39m_NoValue,\n\u001B[1;32m   2838\u001B[0m         where\u001B[38;5;241m=\u001B[39mnp\u001B[38;5;241m.\u001B[39m_NoValue):\n\u001B[1;32m   2839\u001B[0m \u001B[38;5;250m    \u001B[39m\u001B[38;5;124;03m\"\"\"\u001B[39;00m\n\u001B[1;32m   2840\u001B[0m \u001B[38;5;124;03m    Return the minimum of an array or minimum along an axis.\u001B[39;00m\n\u001B[1;32m   2841\u001B[0m \n\u001B[0;32m   (...)\u001B[0m\n\u001B[1;32m   2951\u001B[0m \u001B[38;5;124;03m    6\u001B[39;00m\n\u001B[1;32m   2952\u001B[0m \u001B[38;5;124;03m    \"\"\"\u001B[39;00m\n\u001B[0;32m-> 2953\u001B[0m     \u001B[38;5;28;01mreturn\u001B[39;00m \u001B[43m_wrapreduction\u001B[49m\u001B[43m(\u001B[49m\u001B[43ma\u001B[49m\u001B[43m,\u001B[49m\u001B[43m \u001B[49m\u001B[43mnp\u001B[49m\u001B[38;5;241;43m.\u001B[39;49m\u001B[43mminimum\u001B[49m\u001B[43m,\u001B[49m\u001B[43m \u001B[49m\u001B[38;5;124;43m'\u001B[39;49m\u001B[38;5;124;43mmin\u001B[39;49m\u001B[38;5;124;43m'\u001B[39;49m\u001B[43m,\u001B[49m\u001B[43m \u001B[49m\u001B[43maxis\u001B[49m\u001B[43m,\u001B[49m\u001B[43m \u001B[49m\u001B[38;5;28;43;01mNone\u001B[39;49;00m\u001B[43m,\u001B[49m\u001B[43m \u001B[49m\u001B[43mout\u001B[49m\u001B[43m,\u001B[49m\n\u001B[1;32m   2954\u001B[0m \u001B[43m                          \u001B[49m\u001B[43mkeepdims\u001B[49m\u001B[38;5;241;43m=\u001B[39;49m\u001B[43mkeepdims\u001B[49m\u001B[43m,\u001B[49m\u001B[43m \u001B[49m\u001B[43minitial\u001B[49m\u001B[38;5;241;43m=\u001B[39;49m\u001B[43minitial\u001B[49m\u001B[43m,\u001B[49m\u001B[43m \u001B[49m\u001B[43mwhere\u001B[49m\u001B[38;5;241;43m=\u001B[39;49m\u001B[43mwhere\u001B[49m\u001B[43m)\u001B[49m\n",
      "File \u001B[0;32m~/mambaforge/lib/python3.11/site-packages/numpy/core/fromnumeric.py:88\u001B[0m, in \u001B[0;36m_wrapreduction\u001B[0;34m(obj, ufunc, method, axis, dtype, out, **kwargs)\u001B[0m\n\u001B[1;32m     85\u001B[0m         \u001B[38;5;28;01melse\u001B[39;00m:\n\u001B[1;32m     86\u001B[0m             \u001B[38;5;28;01mreturn\u001B[39;00m reduction(axis\u001B[38;5;241m=\u001B[39maxis, out\u001B[38;5;241m=\u001B[39mout, \u001B[38;5;241m*\u001B[39m\u001B[38;5;241m*\u001B[39mpasskwargs)\n\u001B[0;32m---> 88\u001B[0m \u001B[38;5;28;01mreturn\u001B[39;00m \u001B[43mufunc\u001B[49m\u001B[38;5;241;43m.\u001B[39;49m\u001B[43mreduce\u001B[49m\u001B[43m(\u001B[49m\u001B[43mobj\u001B[49m\u001B[43m,\u001B[49m\u001B[43m \u001B[49m\u001B[43maxis\u001B[49m\u001B[43m,\u001B[49m\u001B[43m \u001B[49m\u001B[43mdtype\u001B[49m\u001B[43m,\u001B[49m\u001B[43m \u001B[49m\u001B[43mout\u001B[49m\u001B[43m,\u001B[49m\u001B[43m \u001B[49m\u001B[38;5;241;43m*\u001B[39;49m\u001B[38;5;241;43m*\u001B[39;49m\u001B[43mpasskwargs\u001B[49m\u001B[43m)\u001B[49m\n",
      "\u001B[0;31mValueError\u001B[0m: setting an array element with a sequence. The requested array has an inhomogeneous shape after 1 dimensions. The detected shape was (4,) + inhomogeneous part."
     ]
    }
   ],
   "source": [
    "tree1.build_tree(datapoints1, dp_colors1)"
   ],
   "metadata": {
    "collapsed": false,
    "ExecuteTime": {
     "end_time": "2023-11-27T17:53:43.451573Z",
     "start_time": "2023-11-27T17:53:43.230162Z"
    }
   },
   "id": "a76edc0c21e7795b"
  },
  {
   "cell_type": "code",
   "execution_count": null,
   "outputs": [],
   "source": [],
   "metadata": {
    "collapsed": false,
    "ExecuteTime": {
     "start_time": "2023-11-27T17:53:32.708598Z"
    }
   },
   "id": "ac07fab6d41d9f7d"
  },
  {
   "cell_type": "code",
   "execution_count": null,
   "outputs": [],
   "source": [],
   "metadata": {
    "collapsed": false,
    "ExecuteTime": {
     "start_time": "2023-11-27T17:53:32.709442Z"
    }
   },
   "id": "f417b0336fa244b9"
  }
 ],
 "metadata": {
  "kernelspec": {
   "display_name": "Python 3",
   "language": "python",
   "name": "python3"
  },
  "language_info": {
   "codemirror_mode": {
    "name": "ipython",
    "version": 2
   },
   "file_extension": ".py",
   "mimetype": "text/x-python",
   "name": "python",
   "nbconvert_exporter": "python",
   "pygments_lexer": "ipython2",
   "version": "2.7.6"
  }
 },
 "nbformat": 4,
 "nbformat_minor": 5
}
